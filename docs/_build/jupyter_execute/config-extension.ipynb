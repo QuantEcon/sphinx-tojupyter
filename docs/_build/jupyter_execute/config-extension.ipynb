{
 "cells": [
  {
   "cell_type": "markdown",
   "metadata": {},
   "source": [
    "(config_extension)=\n",
    "# Extension Configuration and Options\n",
    "\n",
    "The options are split into the different parts of the compilation pipeline\n",
    "that are available in this extension:\n",
    "\n",
    "```{toctree}\n",
    ":maxdepth: 1\n",
    "\n",
    "config-extension-notebooks\n",
    "config-extension-execution\n",
    "config-extension-html\n",
    "config-extension-coverage\n",
    "config-extension-exercise\n",
    "config-extension-pdf\n",
    "```\n",
    "\n",
    "This extension also offers additional directives that can be used while writing your documents\n",
    "\n",
    "```{toctree}\n",
    ":maxdepth: 1\n",
    "\n",
    "directives\n",
    "```\n",
    "\n",
    "It can also be useful to have multiple configurations when working on a large project, such as generating notebooks for\n",
    "working on locally while compiling the project for HTML in a deployment setting.\n",
    "\n",
    "Further details on how to manage large projects can be found [here](config_project).\n",
    "\n",
    "An example *conf.py* is available [here](config_example)"
   ]
  }
 ],
 "metadata": {
  "jupytext": {
   "text_representation": {
    "extension": ".md",
    "format_name": "myst"
   }
  },
  "kernelspec": {
   "display_name": "Python 3",
   "language": "python",
   "name": "python3"
  },
  "language_info": {
   "codemirror_mode": {
    "name": "ipython",
    "version": 3
   },
   "file_extension": ".py",
   "mimetype": "text/x-python",
   "name": "python",
   "nbconvert_exporter": "python",
   "pygments_lexer": "ipython3",
   "version": "3.8.3"
  },
  "source_map": [
   10
  ]
 },
 "nbformat": 4,
 "nbformat_minor": 4
}