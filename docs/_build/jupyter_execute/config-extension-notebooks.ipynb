{
 "cells": [
  {
   "cell_type": "markdown",
   "metadata": {},
   "source": [
    "(config_extension_notebooks)=\n",
    "# Constructing Jupyter Notebooks\n",
    "\n",
    "```{contents} Options\n",
    "---\n",
    "depth: 1\n",
    "local: \n",
    "---\n",
    "```\n",
    "\n",
    "## jupyter_conversion_mode\n",
    "\n",
    "Specifies which writer to use when constructing notebooks.\n",
    "\n",
    "\n",
    "\n",
    "\n",
    "\n",
    "\n",
    "\n",
    "\n",
    "\n",
    "\n",
    "\n",
    "\n",
    "\n",
    "|Option|Description|\n",
    "|:------------------------------------------------:|:------------------------------------------------:|\n",
    "|\"all\" (|**|default|**|)|compile complete notebooks which include |`|markdown cells|`| and |`|code blocks|`|\n",
    "|\"code\"|compile notebooks that only contain the |`|code blocks|`|.|\n",
    "\n",
    "`conf.py` usage:"
   ]
  },
  {
   "cell_type": "code",
   "execution_count": 1,
   "metadata": {},
   "outputs": [],
   "source": [
    "jupyter_conversion_mode = \"all\""
   ]
  },
  {
   "cell_type": "markdown",
   "metadata": {},
   "source": [
    "## jupyter_static_file_path\n",
    "\n",
    "Specify path to _static folder.\n",
    "\n",
    "`conf.py` usage:"
   ]
  },
  {
   "cell_type": "code",
   "execution_count": 2,
   "metadata": {},
   "outputs": [],
   "source": [
    "jupyter_static_file_path = [\"source/_static\"]"
   ]
  },
  {
   "cell_type": "markdown",
   "metadata": {},
   "source": [
    "## jupyter_header_block\n",
    "\n",
    "Add a header block to every generated notebook by specifying an RST file\n",
    "\n",
    "`conf.py` usage:"
   ]
  },
  {
   "cell_type": "code",
   "execution_count": 3,
   "metadata": {},
   "outputs": [],
   "source": [
    "jupyter_header_block = [\"source/welcome.rst\"]"
   ]
  },
  {
   "cell_type": "markdown",
   "metadata": {},
   "source": [
    "## jupyter_default_lang\n",
    "\n",
    "Specify default language for collection of RST files\n",
    "\n",
    "`conf.py` usage:"
   ]
  },
  {
   "cell_type": "code",
   "execution_count": 4,
   "metadata": {},
   "outputs": [],
   "source": [
    "jupyter_default_lang = \"python3\""
   ]
  },
  {
   "cell_type": "markdown",
   "metadata": {},
   "source": [
    "## jupyter_lang_synonyms\n",
    "\n",
    "Specify any language synonyms.\n",
    "\n",
    "This will be used when parsing code blocks. For example, python and ipython\n",
    "have slightly different highlighting directives but contain code that can both be executed on\n",
    "the same kernel\n",
    "\n",
    "`conf.py` usage:"
   ]
  },
  {
   "cell_type": "code",
   "execution_count": 5,
   "metadata": {},
   "outputs": [],
   "source": [
    "jupyter_lang_synonyms = [\"pycon\", \"ipython\"]"
   ]
  },
  {
   "cell_type": "markdown",
   "metadata": {},
   "source": [
    "## jupyter_kernels\n",
    "\n",
    "Specify kernel information for the jupyter notebook metadata.\n",
    "\n",
    "This is used by jupyter to connect the correct language kernel and is **required** in `conf.py`.\n",
    "\n",
    "`conf.py` usage:"
   ]
  },
  {
   "cell_type": "code",
   "execution_count": 6,
   "metadata": {},
   "outputs": [],
   "source": [
    "jupyter_kernels = {\n",
    "    \"python3\": {\n",
    "        \"kernelspec\": {\n",
    "            \"display_name\": \"Python\",\n",
    "            \"language\": \"python3\",\n",
    "            \"name\": \"python3\"\n",
    "            },\n",
    "        \"file_extension\": \".py\",\n",
    "    },\n",
    "}"
   ]
  },
  {
   "cell_type": "markdown",
   "metadata": {},
   "source": [
    "```{todo}\n",
    "## Todo\n",
    "\n",
    "See Issue [196](https://github.com/QuantEcon/sphinx-tojupyter/issues/196%29)\n",
    "\n",
    "```\n",
    "\n",
    "## jupyter_write_metadata\n",
    "\n",
    "write time and date information at the top of each notebook as notebook metadata\n",
    "\n",
    "```{note}\n",
    "This option is slated to be deprecated\n",
    "```\n",
    "\n",
    "## jupyter_options\n",
    "\n",
    "An dict-type object that is used by dask to control execution\n",
    "\n",
    "```{todo}\n",
    "## Todo\n",
    "\n",
    "This option needs to be reviewed\n",
    "\n",
    "```\n",
    "\n",
    "## jupyter_drop_solutions\n",
    "\n",
    "Drop `code-blocks` that include `:class: solution`\n",
    "\n",
    "\n",
    "\n",
    "\n",
    "\n",
    "\n",
    "\n",
    "|Values|\n",
    "|:--------------------------------------------------------------------------------------------------:|\n",
    "|False (|**|default|**|)|\n",
    "|True|\n",
    "\n",
    "```{todo}\n",
    "## Todo\n",
    "\n",
    "This option needs to be reviewed\n",
    "\n",
    "```\n",
    "\n",
    "## jupyter_drop_tests\n",
    "\n",
    "Drop `code-blocks` that include ``:class: test`\n",
    "\n",
    "\n",
    "\n",
    "\n",
    "\n",
    "\n",
    "\n",
    "|Values|\n",
    "|:--------------------------------------------------------------------------------------------------:|\n",
    "|False (|**|default|**|)|\n",
    "|True|\n",
    "\n",
    "```{todo}\n",
    "## Todo\n",
    "\n",
    "This option needs to be reviewed\n",
    "\n",
    "```\n",
    "\n",
    "## jupyter_ignore_no_execute:\n",
    "\n",
    "\n",
    "\n",
    "\n",
    "\n",
    "\n",
    "\n",
    "|Values|\n",
    "|:--------------------------------------------------------------------------------------------------:|\n",
    "|False (|**|default|**|)|\n",
    "|True|\n",
    "\n",
    "When constructing notebooks this option can be enabled to ignore :class: no-execute\n",
    "for code-blocks. This is useful for html writer for pages that are meant to fail\n",
    "but shouldn't be included in coverage tests.\n",
    "\n",
    "`conf.py` usage:"
   ]
  },
  {
   "cell_type": "code",
   "execution_count": 7,
   "metadata": {},
   "outputs": [],
   "source": [
    "jupyter_ignore_no_execute = True"
   ]
  },
  {
   "cell_type": "markdown",
   "metadata": {},
   "source": [
    "## jupyter_ignore_skip_test\n",
    "\n",
    "When constructing notebooks this option can be enabled to ignore :class: skip-test\n",
    "for code-blocks.\n",
    "\n",
    "\n",
    "\n",
    "\n",
    "\n",
    "\n",
    "\n",
    "|Values|\n",
    "|:--------------------------------------------------------------------------------------------------:|\n",
    "|False (|**|default|**|)|\n",
    "|True|\n",
    "\n",
    "`conf.py` usage:"
   ]
  },
  {
   "cell_type": "code",
   "execution_count": 8,
   "metadata": {},
   "outputs": [],
   "source": [
    "jupyter_ignore_skip_test = True"
   ]
  },
  {
   "cell_type": "markdown",
   "metadata": {},
   "source": [
    "## jupyter_allow_html_only\n",
    "\n",
    "Enable this option to allow `.. only:: html` pass through to the notebooks.\n",
    "\n",
    "\n",
    "\n",
    "\n",
    "\n",
    "\n",
    "\n",
    "|Values|\n",
    "|:--------------------------------------------------------------------------------------------------:|\n",
    "|False (|**|default|**|)|\n",
    "|True|\n",
    "\n",
    "`conf.py` usage:"
   ]
  },
  {
   "cell_type": "code",
   "execution_count": 9,
   "metadata": {},
   "outputs": [],
   "source": [
    "jupyter_allow_html_only = True"
   ]
  },
  {
   "cell_type": "markdown",
   "metadata": {},
   "source": [
    "## jupyter_target_html\n",
    "\n",
    "Enable this option to generate notebooks that favour the inclusion of `html`\n",
    "in notebooks to support more advanced features.\n",
    "\n",
    "\n",
    "\n",
    "\n",
    "\n",
    "\n",
    "\n",
    "|Values|\n",
    "|:--------------------------------------------------------------------------------------------------:|\n",
    "|False (|**|default|**|)|\n",
    "|True|\n",
    "\n",
    "Supported Features:\n",
    "\n",
    "1. html based table support\n",
    "1. image inclusion as `html` figures\n",
    "\n",
    "`conf.py` usage:"
   ]
  },
  {
   "cell_type": "code",
   "execution_count": 10,
   "metadata": {},
   "outputs": [],
   "source": [
    "jupyter_target_html = True"
   ]
  },
  {
   "cell_type": "markdown",
   "metadata": {},
   "source": [
    "## jupyter_images_markdown\n",
    "\n",
    "Force the inclusion of images as native markdown\n",
    "\n",
    "\n",
    "\n",
    "\n",
    "\n",
    "\n",
    "\n",
    "|Values|\n",
    "|:--------------------------------------------------------------------------------------------------:|\n",
    "|False (|**|default|**|)|\n",
    "|True|\n",
    "\n",
    "```{note}\n",
    "when this option is enabled the :scale: option is not supported\n",
    "in RST.\n",
    "```\n",
    "\n",
    "`conf.py` usage:"
   ]
  },
  {
   "cell_type": "code",
   "execution_count": 11,
   "metadata": {},
   "outputs": [],
   "source": [
    "jupyter_images_markdown = True"
   ]
  },
  {
   "cell_type": "markdown",
   "metadata": {},
   "source": [
    "## jupyter_dependencies\n",
    "\n",
    "Specify file or directory level dependencies\n",
    "\n",
    "`conf.py` usage:"
   ]
  },
  {
   "cell_type": "code",
   "execution_count": 12,
   "metadata": {},
   "outputs": [
    {
     "ename": "SyntaxError",
     "evalue": "invalid syntax (<ipython-input-12-915bcf394523>, line 2)",
     "output_type": "error",
     "traceback": [
      "\u001b[0;36m  File \u001b[0;32m\"<ipython-input-12-915bcf394523>\"\u001b[0;36m, line \u001b[0;32m2\u001b[0m\n\u001b[0;31m    <dir> : ['file1', 'file2'],\u001b[0m\n\u001b[0m    ^\u001b[0m\n\u001b[0;31mSyntaxError\u001b[0m\u001b[0;31m:\u001b[0m invalid syntax\n"
     ]
    }
   ],
   "source": [
    "jupyter_dependencies = {\n",
    "    <dir> : ['file1', 'file2'],\n",
    "    {<dir>}/<file.rst> : ['file1']\n",
    "}"
   ]
  },
  {
   "cell_type": "markdown",
   "metadata": {},
   "source": [
    "this allows you to specify a companion data file for\n",
    "a given `RST` document and it will get copied through sphinx\n",
    "to the `_build` folder."
   ]
  }
 ],
 "metadata": {
  "jupytext": {
   "text_representation": {
    "extension": ".md",
    "format_name": "myst"
   }
  },
  "kernelspec": {
   "display_name": "Python 3",
   "language": "python",
   "name": "python3"
  },
  "language_info": {
   "codemirror_mode": {
    "name": "ipython",
    "version": 3
   },
   "file_extension": ".py",
   "mimetype": "text/x-python",
   "name": "python",
   "nbconvert_exporter": "python",
   "pygments_lexer": "ipython3",
   "version": "3.8.3"
  },
  "source_map": [
   10,
   45,
   47,
   55,
   57,
   65,
   67,
   75,
   77,
   89,
   91,
   101,
   112,
   203,
   205,
   225,
   227,
   246,
   248,
   273,
   275,
   299,
   301,
   309,
   314
  ]
 },
 "nbformat": 4,
 "nbformat_minor": 4
}