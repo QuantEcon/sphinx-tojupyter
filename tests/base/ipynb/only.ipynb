{
 "cells": [
  {
   "cell_type": "markdown",
   "id": "825255f1",
   "metadata": {},
   "source": [
    "# Only\n",
    "\n",
    "This tests for support of the only directive with an html only block to follow this (unless option **tojupyter_allow_html_only** is True)\n",
    "\n",
    "there should be no html block above this text\n",
    "\n",
    "and one related to Jupyter\n",
    "\n",
    "this should show up\n",
    "\n",
    "there should be: **this should show up** above this text"
   ]
  }
 ],
 "metadata": {
  "date": 1679270225.41748,
  "filename": "only.rst",
  "kernelspec": {
   "display_name": "Python",
   "language": "python3",
   "name": "python3"
  },
  "title": "Only"
 },
 "nbformat": 4,
 "nbformat_minor": 5
}