{
 "cells": [
  {
   "cell_type": "markdown",
   "metadata": {},
   "source": [
    "(config_extension_pdf)=\n",
    "# Converting Notebooks to PDF\n",
    "\n",
    "```{contents} Options\n",
    "---\n",
    "depth: 1\n",
    "local: \n",
    "---\n",
    "```\n",
    "\n",
    "## jupyter_latex_template\n",
    "\n",
    "Provide path to latex nbconvert template file\n",
    "\n",
    "`conf.py` usage:"
   ]
  },
  {
   "cell_type": "code",
   "execution_count": 1,
   "metadata": {},
   "outputs": [],
   "source": [
    "jupyter_latex_template = \"theme/templates/latex.tpl\""
   ]
  },
  {
   "cell_type": "markdown",
   "metadata": {},
   "source": [
    "## jupyter_pdf_logo\n",
    "\n",
    "Add project logo to pdf document\n",
    "\n",
    "`conf.py` usage:"
   ]
  },
  {
   "cell_type": "code",
   "execution_count": 2,
   "metadata": {},
   "outputs": [],
   "source": [
    "jupyter_pdf_logo = \"theme/img/logo.png\""
   ]
  },
  {
   "cell_type": "markdown",
   "metadata": {},
   "source": [
    "## jupyter_bib_file\n",
    "\n",
    "Provide path to bibtex file for reference support\n",
    "\n",
    "`conf.py` usage:"
   ]
  },
  {
   "cell_type": "code",
   "execution_count": 3,
   "metadata": {},
   "outputs": [],
   "source": [
    "jupyter_bib_file = \"_static/references.bib\""
   ]
  },
  {
   "cell_type": "markdown",
   "metadata": {},
   "source": [
    "## jupyter_pdf_author\n",
    "\n",
    "Specify Author Field for PDF document\n",
    "\n",
    "`conf.py` usage:"
   ]
  },
  {
   "cell_type": "code",
   "execution_count": 4,
   "metadata": {},
   "outputs": [],
   "source": [
    "jupyter_pdf_author = \"QuantEcon Developers\""
   ]
  },
  {
   "cell_type": "markdown",
   "metadata": {},
   "source": [
    "## jupyter_pdf_showcontentdepth\n",
    "\n",
    "Specify which depth of the local contents directives to add to generated pdf files\n",
    "\n",
    "\n",
    "\n",
    "\n",
    "\n",
    "|Values|\n",
    "|:--------------------------------------------------------------------------------------------------:|\n",
    "|2  (|**|Default|**|)|\n",
    "\n",
    "```{note}\n",
    "this shows second level contents by default as the pdf document adds the page\n",
    "or document title to the top of the article format.\n",
    "```\n",
    "\n",
    "## jupyter_pdf_urlpath\n",
    "\n",
    "Enable local links within the project to link a hosted located via a urlprefix and\n",
    "link modification.\n",
    "\n",
    "`conf.py` usage:"
   ]
  },
  {
   "cell_type": "code",
   "execution_count": 5,
   "metadata": {},
   "outputs": [],
   "source": [
    "jupyter_pdf_urlpath  = \"https://lectures.quantecon.org/\""
   ]
  },
  {
   "cell_type": "markdown",
   "metadata": {},
   "source": [
    "## jupyter_pdf_excludepatterns\n",
    "\n",
    "Exclude certainly documents from getting compiled as pdf files.\n",
    "\n",
    "`conf.py` usage:"
   ]
  },
  {
   "cell_type": "code",
   "execution_count": 6,
   "metadata": {},
   "outputs": [],
   "source": [
    "jupyter_pdf_excludepatterns = [\"index\", \"404\", \"search\"]"
   ]
  },
  {
   "cell_type": "markdown",
   "metadata": {},
   "source": [
    "This can be useful for make site when pdf construction is part of\n",
    "a broader project that supports html targets."
   ]
  }
 ],
 "metadata": {
  "jupytext": {
   "text_representation": {
    "extension": ".md",
    "format_name": "myst"
   }
  },
  "kernelspec": {
   "display_name": "Python 3",
   "language": "python",
   "name": "python3"
  },
  "language_info": {
   "codemirror_mode": {
    "name": "ipython",
    "version": 3
   },
   "file_extension": ".py",
   "mimetype": "text/x-python",
   "name": "python",
   "nbconvert_exporter": "python",
   "pygments_lexer": "ipython3",
   "version": "3.8.3"
  },
  "source_map": [
   10,
   28,
   30,
   38,
   40,
   48,
   50,
   58,
   60,
   86,
   88,
   96,
   98
  ]
 },
 "nbformat": 4,
 "nbformat_minor": 4
}