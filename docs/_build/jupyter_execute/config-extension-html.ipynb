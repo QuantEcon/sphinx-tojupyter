{
 "cells": [
  {
   "cell_type": "markdown",
   "metadata": {},
   "source": [
    "# Converting Notebooks to HTML\n",
    "\n",
    "```{contents} Options\n",
    "---\n",
    "depth: 1\n",
    "local: \n",
    "---\n",
    "```\n",
    "\n",
    "## jupyter_generate_html\n",
    "\n",
    "Enable sphinx to generate HTML versions of notebooks\n",
    "\n",
    "\n",
    "\n",
    "\n",
    "\n",
    "\n",
    "\n",
    "|Values|\n",
    "|:--------------------------------------------------------------------------------------------------:|\n",
    "|False (|**|default|**|)|\n",
    "|True|\n",
    "\n",
    "`conf.py` usage:"
   ]
  },
  {
   "cell_type": "code",
   "execution_count": 1,
   "metadata": {},
   "outputs": [],
   "source": [
    "jupyter_generate_html = True"
   ]
  },
  {
   "cell_type": "markdown",
   "metadata": {},
   "source": [
    "## jupyter_html_template\n",
    "\n",
    "Specify path to nbconvert html template file\n",
    "\n",
    "```{note}\n",
    "Documentation on nbconvert templates can be found\n",
    "[here](https://nbconvert.readthedocs.io/en/latest/customizing.html#Customizing-nbconvert)\n",
    "```\n",
    "\n",
    "`conf.py` usage:"
   ]
  },
  {
   "cell_type": "code",
   "execution_count": 2,
   "metadata": {},
   "outputs": [],
   "source": [
    "jupyter_html_template = \"theme/template/<file>.tpl\""
   ]
  },
  {
   "cell_type": "markdown",
   "metadata": {},
   "source": [
    "## jupyter_make_site\n",
    "\n",
    "Enable sphinx to construct a complete website\n",
    "\n",
    "```{todo}\n",
    "## Todo\n",
    "\n",
    "Document all the extra elements this option does over jupyter_generate_html\n",
    "\n",
    "```\n",
    "\n",
    "This option:\n",
    "\n",
    "1. fetches coverage statistics if [coverage](coverage_extension_coverage) is enabled.\n",
    "\n",
    "`conf.py` usage:"
   ]
  },
  {
   "cell_type": "code",
   "execution_count": 3,
   "metadata": {},
   "outputs": [],
   "source": [
    "jupyter_make_site = True"
   ]
  },
  {
   "cell_type": "markdown",
   "metadata": {},
   "source": [
    "## jupyter_download_nb\n",
    "\n",
    "Request Sphinx to generate a collection of download notebooks to support a website\n",
    "\n",
    "`conf.py` usage:"
   ]
  },
  {
   "cell_type": "code",
   "execution_count": 4,
   "metadata": {},
   "outputs": [],
   "source": [
    "jupyter_download_nb = True"
   ]
  },
  {
   "cell_type": "markdown",
   "metadata": {},
   "source": [
    "## jupyter_download_nb_images_urlpath\n",
    "\n",
    "Apply a url prefix when writing images in Jupyter notebooks for download notebook set.\n",
    "\n",
    "`conf.py` usage:"
   ]
  },
  {
   "cell_type": "code",
   "execution_count": 5,
   "metadata": {},
   "outputs": [],
   "source": [
    "jupyter_images_urlpath = \"s3://<path>/_static/img/\""
   ]
  },
  {
   "cell_type": "markdown",
   "metadata": {},
   "source": [
    "## jupyter_theme\n",
    "\n",
    "Specify theme name\n",
    "\n",
    "`conf.py` usage:"
   ]
  },
  {
   "cell_type": "code",
   "execution_count": 6,
   "metadata": {},
   "outputs": [
    {
     "ename": "SyntaxError",
     "evalue": "invalid syntax (<ipython-input-6-542094164612>, line 1)",
     "output_type": "error",
     "traceback": [
      "\u001b[0;36m  File \u001b[0;32m\"<ipython-input-6-542094164612>\"\u001b[0;36m, line \u001b[0;32m1\u001b[0m\n\u001b[0;31m    jupyter_theme = <theme-name>\u001b[0m\n\u001b[0m                    ^\u001b[0m\n\u001b[0;31mSyntaxError\u001b[0m\u001b[0;31m:\u001b[0m invalid syntax\n"
     ]
    }
   ],
   "source": [
    "jupyter_theme = <theme-name>"
   ]
  },
  {
   "cell_type": "markdown",
   "metadata": {},
   "source": [
    "The theme should be located in the path of jupyter_theme_path. The default\n",
    "path would be: `theme/<theme-name>/`\n",
    "\n",
    "## jupyter_theme_path\n",
    "\n",
    "Specify location for theme files\n",
    "\n",
    "\n",
    "\n",
    "\n",
    "\n",
    "|Value|\n",
    "|:--------------------------------------------------------------------------------------------------:|\n",
    "|\"theme\" (|**|default|**|)|\n",
    "\n",
    "`conf.py` usage:"
   ]
  },
  {
   "cell_type": "code",
   "execution_count": null,
   "metadata": {},
   "outputs": [],
   "source": [
    "jupyter_theme_path = \"theme\""
   ]
  },
  {
   "cell_type": "markdown",
   "metadata": {},
   "source": [
    "## jupyter_template_path\n",
    "\n",
    "Specify path for templates\n",
    "\n",
    "\n",
    "\n",
    "\n",
    "\n",
    "|Value|\n",
    "|:--------------------------------------------------------------------------------------------------:|\n",
    "|\"templates\" (|**|default|**|)|\n",
    "\n",
    "`conf.py` usage:"
   ]
  },
  {
   "cell_type": "code",
   "execution_count": null,
   "metadata": {},
   "outputs": [],
   "source": [
    "jupyter_template_path = \"templates\""
   ]
  },
  {
   "cell_type": "markdown",
   "metadata": {},
   "source": [
    "## jupyter_template_html\n",
    "\n",
    "Specify `html` template to be used by `nbconvert`\n",
    "\n",
    "`conf.py` usage:"
   ]
  },
  {
   "cell_type": "code",
   "execution_count": null,
   "metadata": {},
   "outputs": [],
   "source": [
    "jupyter_template_html = <path to tpl file>"
   ]
  },
  {
   "cell_type": "markdown",
   "metadata": {},
   "source": [
    "The template file should be located in the path of `jupyter_template_path`.\n",
    "The default path would be: `templates/<tpl file>`"
   ]
  }
 ],
 "metadata": {
  "jupytext": {
   "text_representation": {
    "extension": ".md",
    "format_name": "myst"
   }
  },
  "kernelspec": {
   "display_name": "Python 3",
   "language": "python",
   "name": "python3"
  },
  "language_info": {
   "codemirror_mode": {
    "name": "ipython",
    "version": 3
   },
   "file_extension": ".py",
   "mimetype": "text/x-python",
   "name": "python",
   "nbconvert_exporter": "python",
   "pygments_lexer": "ipython3",
   "version": "3.8.3"
  },
  "source_map": [
   10,
   38,
   40,
   53,
   55,
   74,
   76,
   84,
   86,
   94,
   96,
   104,
   106,
   125,
   127,
   143,
   145,
   153,
   155
  ]
 },
 "nbformat": 4,
 "nbformat_minor": 4
}