{
 "cells": [
  {
   "cell_type": "markdown",
   "id": "bf3cf787",
   "metadata": {},
   "source": [
    "\n",
    "<a id='links'></a>"
   ]
  },
  {
   "cell_type": "markdown",
   "id": "0fe9c0c1",
   "metadata": {},
   "source": [
    "# Links\n",
    "\n",
    "Links are generated as markdown references to jump between notebooks and\n",
    "the sphinx link machinery is employed to track links across documents.\n",
    "\n",
    "An external link to another [notebook (as full file)](links_target.ipynb)\n",
    "\n",
    "This is a paragraph that contains [a google hyperlink](https://google.com.au).\n",
    "\n",
    "- An inline reference to [another document](links_target.ipynb#links-target)  "
   ]
  },
  {
   "cell_type": "markdown",
   "id": "5b2cf7fe",
   "metadata": {},
   "source": [
    "# Special Cases\n",
    "\n",
    "The following link has ( and ) contained within them that doesn’t render nicely in markdown. In this case the extension will substitute ( with %28 and ) with %29\n",
    "\n",
    "Thinking back to the mathematical motivation, a [Field](https://en.wikipedia.org/wiki/Field_%28mathematics%29) is an Ring with a few additional properties"
   ]
  }
 ],
 "metadata": {
  "date": 1634527608.137888,
  "filename": "links.rst",
  "kernelspec": {
   "display_name": "Python",
   "language": "python3",
   "name": "python3"
  },
  "title": "Links"
 },
 "nbformat": 4,
 "nbformat_minor": 5
}