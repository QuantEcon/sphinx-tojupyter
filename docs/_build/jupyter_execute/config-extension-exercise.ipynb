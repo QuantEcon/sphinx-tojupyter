{
 "cells": [
  {
   "cell_type": "markdown",
   "metadata": {},
   "source": [
    "(config-extension-exercise)=\n",
    "# Configuration for Exercise Directives\n",
    "\n",
    "```{contents} Options\n",
    "---\n",
    "depth: 1\n",
    "local: \n",
    "---\n",
    "```\n",
    "\n",
    "## exercise_include_exercise\n",
    "\n",
    "Enable inclusion / exclusion of exercises directives contained in the rst\n",
    "\n",
    "\n",
    "\n",
    "\n",
    "\n",
    "\n",
    "\n",
    "|Values|\n",
    "|:--------------------------------------------------------------------------------------------------:|\n",
    "|True (|**|default|**|)|\n",
    "|False|\n",
    "\n",
    "`conf.py` usage:"
   ]
  },
  {
   "cell_type": "code",
   "execution_count": 1,
   "metadata": {},
   "outputs": [],
   "source": [
    "exercise_include_exercise = False"
   ]
  },
  {
   "cell_type": "markdown",
   "metadata": {},
   "source": [
    "## exercise_inline_exercises\n",
    "\n",
    "Add inline exercises as a formatting choice\n",
    "\n",
    "\n",
    "\n",
    "\n",
    "\n",
    "\n",
    "\n",
    "|Values|\n",
    "|:--------------------------------------------------------------------------------------------------:|\n",
    "|False (|**|default|**|)|\n",
    "|True|\n",
    "\n",
    "If the config variable exercise_inline_exercises is set to false (the default),\n",
    "then where ever the exercise initially appeared in the body of the document, you will\n",
    "instead see a link that says `See exercise #` which refers to an ExerciseList."
   ]
  }
 ],
 "metadata": {
  "jupytext": {
   "text_representation": {
    "extension": ".md",
    "format_name": "myst"
   }
  },
  "kernelspec": {
   "display_name": "Python 3",
   "language": "python",
   "name": "python3"
  },
  "language_info": {
   "codemirror_mode": {
    "name": "ipython",
    "version": 3
   },
   "file_extension": ".py",
   "mimetype": "text/x-python",
   "name": "python",
   "nbconvert_exporter": "python",
   "pygments_lexer": "ipython3",
   "version": "3.8.3"
  },
  "source_map": [
   10,
   39,
   41
  ]
 },
 "nbformat": 4,
 "nbformat_minor": 4
}