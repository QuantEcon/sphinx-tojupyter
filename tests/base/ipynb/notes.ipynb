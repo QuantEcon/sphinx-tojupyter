{
 "cells": [
  {
   "cell_type": "markdown",
   "id": "e9578339",
   "metadata": {},
   "source": [
    "# Notes\n",
    "\n",
    "This is a simple notebook to test the use of notes in RST\n",
    "\n",
    ">**Note**\n",
    ">\n",
    ">This is a note that has some *italic* and **bold** embedded\n",
    "\n",
    "here is some text\n",
    "\n",
    ">**Note**\n",
    ">\n",
    ">and another note"
   ]
  }
 ],
 "metadata": {
  "date": 1679270225.4158452,
  "filename": "notes.rst",
  "kernelspec": {
   "display_name": "Python",
   "language": "python3",
   "name": "python3"
  },
  "title": "Notes"
 },
 "nbformat": 4,
 "nbformat_minor": 5
}