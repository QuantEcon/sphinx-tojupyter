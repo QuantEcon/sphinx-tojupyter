{
 "cells": [
  {
   "cell_type": "markdown",
   "id": "3173bb9e",
   "metadata": {},
   "source": [
    "\n",
    "<a id='functions'></a>\n",
    "<div id=\"qe-notebook-header\" align=\"right\" style=\"text-align:right;\">\n",
    "        <a href=\"https://quantecon.org/\" title=\"quantecon.org\">\n",
    "                <img style=\"width:250px;display:inline;\" width=\"250px\" src=\"https://assets.quantecon.org/img/qe-menubar-logo.svg\" alt=\"QuantEcon\">\n",
    "        </a>\n",
    "</div>"
   ]
  },
  {
   "cell_type": "markdown",
   "id": "4353fc16",
   "metadata": {},
   "source": [
    "# Functions\n",
    "\n",
    "\n",
    "<a id='index-0'></a>"
   ]
  },
  {
   "cell_type": "markdown",
   "id": "e3b6b04d",
   "metadata": {},
   "source": [
    "## Overview\n",
    "\n",
    "Functions are an extremely useful construct provided by almost all programming.\n",
    "\n",
    "We have already met several functions, such as\n",
    "\n",
    "- the `sqrt()` function from NumPy and  \n",
    "- the built-in `print()` function  \n",
    "\n",
    "\n",
    "In this lecture we’ll\n",
    "\n",
    "1. treat functions systematically and cover syntax and use-cases, and  \n",
    "1. learn to do is build our own user-defined functions.  \n",
    "\n",
    "\n",
    "We will use the following imports."
   ]
  },
  {
   "cell_type": "markdown",
   "id": "a049a12d",
   "metadata": {
    "hide-output": false
   },
   "source": [
    "```ipython3\n",
    "import numpy as np\n",
    "import matplotlib.pyplot as plt\n",
    "```\n"
   ]
  },
  {
   "cell_type": "markdown",
   "id": "ff30a7e4",
   "metadata": {},
   "source": [
    "## Function Basics\n",
    "\n",
    "A function is a named section of a program that implements a specific task.\n",
    "\n",
    "Many functions exist already and we can use them as is.\n",
    "\n",
    "First we review these functions and then discuss how we can build our own."
   ]
  },
  {
   "cell_type": "markdown",
   "id": "57e2e0ec",
   "metadata": {},
   "source": [
    "### Built-In Functions\n",
    "\n",
    "Python has a number of **built-in** functions that are available without `import`.\n",
    "\n",
    "We have already met some"
   ]
  },
  {
   "cell_type": "markdown",
   "id": "3d9d32e3",
   "metadata": {
    "hide-output": false
   },
   "source": [
    "```ipython3\n",
    "max(19, 20)\n",
    "```\n"
   ]
  },
  {
   "cell_type": "markdown",
   "id": "71d7bd35",
   "metadata": {
    "hide-output": false
   },
   "source": [
    "```ipython3\n",
    "print('foobar')\n",
    "```\n"
   ]
  },
  {
   "cell_type": "markdown",
   "id": "993cc0ae",
   "metadata": {
    "hide-output": false
   },
   "source": [
    "```ipython3\n",
    "str(22)\n",
    "```\n"
   ]
  },
  {
   "cell_type": "markdown",
   "id": "ae26cf46",
   "metadata": {
    "hide-output": false
   },
   "source": [
    "```ipython3\n",
    "type(22)\n",
    "```\n"
   ]
  },
  {
   "cell_type": "markdown",
   "id": "3f920758",
   "metadata": {},
   "source": [
    "The full list of Python built-ins is [here](https://docs.python.org/library/functions.html)."
   ]
  },
  {
   "cell_type": "markdown",
   "id": "3a39b10f",
   "metadata": {},
   "source": [
    "### Third Party Functions\n",
    "\n",
    "If the built-in functions don’t cover what we need, we either need to import\n",
    "functions or create our own.\n",
    "\n",
    "Examples of importing and using functions were given in the [previous lecture](python_by_example.ipynb)\n",
    "\n",
    "Here’s another one, which tests whether a given year is a leap year:"
   ]
  },
  {
   "cell_type": "markdown",
   "id": "feafe1b3",
   "metadata": {
    "hide-output": false
   },
   "source": [
    "```ipython3\n",
    "import calendar\n",
    "calendar.isleap(2024)\n",
    "```\n"
   ]
  },
  {
   "cell_type": "markdown",
   "id": "9c0a5441",
   "metadata": {},
   "source": [
    "## Defining Functions\n",
    "\n",
    "In many instances it’s useful to be able to define our own functions.\n",
    "\n",
    "Let’s start by discussing how it’s done."
   ]
  },
  {
   "cell_type": "markdown",
   "id": "2031e529",
   "metadata": {},
   "source": [
    "### Basic Syntax\n",
    "\n",
    "Here’s a very simple Python function, that implements the mathematical function $ f(x) = 2 x + 1 $"
   ]
  },
  {
   "cell_type": "markdown",
   "id": "1729a023",
   "metadata": {
    "hide-output": false
   },
   "source": [
    "```ipython3\n",
    "def f(x):\n",
    "    return 2 * x + 1\n",
    "```\n"
   ]
  },
  {
   "cell_type": "markdown",
   "id": "55855b97",
   "metadata": {},
   "source": [
    "Now that we’ve defined this function, let’s *call* it and check whether it does what we expect:"
   ]
  },
  {
   "cell_type": "markdown",
   "id": "c98f017d",
   "metadata": {
    "hide-output": false
   },
   "source": [
    "```ipython3\n",
    "f(1)   \n",
    "```\n"
   ]
  },
  {
   "cell_type": "markdown",
   "id": "2e792662",
   "metadata": {
    "hide-output": false
   },
   "source": [
    "```ipython3\n",
    "f(10)\n",
    "```\n"
   ]
  },
  {
   "cell_type": "markdown",
   "id": "bae2c792",
   "metadata": {},
   "source": [
    "Here’s a longer function, that computes the absolute value of a given number.\n",
    "\n",
    "(Such a function already exists as a built-in, but let’s write our own for the\n",
    "exercise.)"
   ]
  },
  {
   "cell_type": "markdown",
   "id": "89be0587",
   "metadata": {
    "hide-output": false
   },
   "source": [
    "```ipython3\n",
    "def new_abs_function(x):\n",
    "    if x < 0:\n",
    "        abs_value = -x\n",
    "    else:\n",
    "        abs_value = x\n",
    "    return abs_value\n",
    "```\n"
   ]
  },
  {
   "cell_type": "markdown",
   "id": "0e208f99",
   "metadata": {},
   "source": [
    "Let’s review the syntax here.\n",
    "\n",
    "- `def` is a Python keyword used to start function definitions.  \n",
    "- `def new_abs_function(x):` indicates that the function is called `new_abs_function` and that it has a single argument `x`.  \n",
    "- The indented code is a code block called the *function body*.  \n",
    "- The `return` keyword indicates that `abs_value` is the object that should be returned to the calling code.  \n",
    "\n",
    "\n",
    "This whole function definition is read by the Python interpreter and stored in memory.\n",
    "\n",
    "Let’s call it to check that it works:"
   ]
  },
  {
   "cell_type": "markdown",
   "id": "72885e4a",
   "metadata": {
    "hide-output": false
   },
   "source": [
    "```ipython3\n",
    "print(new_abs_function(3))\n",
    "print(new_abs_function(-3))\n",
    "```\n"
   ]
  },
  {
   "cell_type": "markdown",
   "id": "e5cb6582",
   "metadata": {},
   "source": [
    "Note that a function can have arbitrarily many `return` statements (including zero).\n",
    "\n",
    "Execution of the function terminates when the first return is hit, allowing\n",
    "code like the following example"
   ]
  },
  {
   "cell_type": "markdown",
   "id": "9f508404",
   "metadata": {
    "hide-output": false
   },
   "source": [
    "```ipython3\n",
    "def f(x):\n",
    "    if x < 0:\n",
    "        return 'negative'\n",
    "    return 'nonnegative'\n",
    "```\n"
   ]
  },
  {
   "cell_type": "markdown",
   "id": "5764b667",
   "metadata": {},
   "source": [
    "(Writing functions with multiple return statements is typically discouraged, as\n",
    "it can make logic hard to follow.)\n",
    "\n",
    "Functions without a return statement automatically return the special Python object `None`.\n",
    "\n",
    "\n",
    "<a id='pos-args'></a>"
   ]
  },
  {
   "cell_type": "markdown",
   "id": "70ef6cc5",
   "metadata": {},
   "source": [
    "### Keyword Arguments\n",
    "\n",
    "\n",
    "<a id='index-1'></a>\n",
    "In a [previous lecture](python_by_example.ipynb#python-by-example), you came across the statement"
   ]
  },
  {
   "cell_type": "markdown",
   "id": "52f3f398",
   "metadata": {
    "hide-output": false
   },
   "source": [
    "```python3\n",
    "plt.plot(x, 'b-', label=\"white noise\")\n",
    "```\n"
   ]
  },
  {
   "cell_type": "markdown",
   "id": "16c3a485",
   "metadata": {},
   "source": [
    "In this call to Matplotlib’s `plot` function, notice that the last argument is passed in `name=argument` syntax.\n",
    "\n",
    "This is called a *keyword argument*, with `label` being the keyword.\n",
    "\n",
    "Non-keyword arguments are called *positional arguments*, since their meaning\n",
    "is determined by order\n",
    "\n",
    "- `plot(x, 'b-')` differs from `plot('b-', x)`  \n",
    "\n",
    "\n",
    "Keyword arguments are particularly useful when a function has a lot of arguments, in which case it’s hard to remember the right order.\n",
    "\n",
    "You can adopt keyword arguments in user-defined functions with no difficulty.\n",
    "\n",
    "The next example illustrates the syntax"
   ]
  },
  {
   "cell_type": "markdown",
   "id": "ab14ff20",
   "metadata": {
    "hide-output": false
   },
   "source": [
    "```ipython3\n",
    "def f(x, a=1, b=1):\n",
    "    return a + b * x\n",
    "```\n"
   ]
  },
  {
   "cell_type": "markdown",
   "id": "f74b18cd",
   "metadata": {},
   "source": [
    "The keyword argument values we supplied in the definition of `f` become the default values"
   ]
  },
  {
   "cell_type": "markdown",
   "id": "6fa3defc",
   "metadata": {
    "hide-output": false
   },
   "source": [
    "```ipython3\n",
    "f(2)\n",
    "```\n"
   ]
  },
  {
   "cell_type": "markdown",
   "id": "4e248e28",
   "metadata": {},
   "source": [
    "They can be modified as follows"
   ]
  },
  {
   "cell_type": "markdown",
   "id": "16f84524",
   "metadata": {
    "hide-output": false
   },
   "source": [
    "```ipython3\n",
    "f(2, a=4, b=5)\n",
    "```\n"
   ]
  },
  {
   "cell_type": "markdown",
   "id": "c5ba2be5",
   "metadata": {},
   "source": [
    "### The Flexibility of Python Functions\n",
    "\n",
    "As we discussed in the [previous lecture](python_by_example.ipynb#python-by-example), Python functions are very flexible.\n",
    "\n",
    "In particular\n",
    "\n",
    "- Any number of functions can be defined in a given file.  \n",
    "- Functions can be (and often are) defined inside other functions.  \n",
    "- Any object can be passed to a function as an argument, including other functions.  \n",
    "- A function can return any kind of object, including functions.  \n",
    "\n",
    "\n",
    "We will give examples of how straightforward it is to pass a function to\n",
    "a function in the following sections."
   ]
  },
  {
   "cell_type": "markdown",
   "id": "db34ecb3",
   "metadata": {},
   "source": [
    "### One-Line Functions: `lambda`\n",
    "\n",
    "\n",
    "<a id='index-2'></a>\n",
    "The `lambda` keyword is used to create simple functions on one line.\n",
    "\n",
    "For example, the definitions"
   ]
  },
  {
   "cell_type": "markdown",
   "id": "2c2ecef2",
   "metadata": {
    "hide-output": false
   },
   "source": [
    "```ipython3\n",
    "def f(x):\n",
    "    return x**3\n",
    "```\n"
   ]
  },
  {
   "cell_type": "markdown",
   "id": "afd71821",
   "metadata": {},
   "source": [
    "and"
   ]
  },
  {
   "cell_type": "markdown",
   "id": "9c3d571e",
   "metadata": {
    "hide-output": false
   },
   "source": [
    "```ipython3\n",
    "f = lambda x: x**3\n",
    "```\n"
   ]
  },
  {
   "cell_type": "markdown",
   "id": "8faa772d",
   "metadata": {},
   "source": [
    "are entirely equivalent.\n",
    "\n",
    "To see why `lambda` is useful, suppose that we want to calculate $ \\int_0^2 x^3 dx $ (and have forgotten our high-school calculus).\n",
    "\n",
    "The SciPy library has a function called `quad` that will do this calculation for us.\n",
    "\n",
    "The syntax of the `quad` function is `quad(f, a, b)` where `f` is a function and `a` and `b` are numbers.\n",
    "\n",
    "To create the function $ f(x) = x^3 $ we can use `lambda` as follows"
   ]
  },
  {
   "cell_type": "markdown",
   "id": "d67b52e7",
   "metadata": {
    "hide-output": false
   },
   "source": [
    "```ipython3\n",
    "from scipy.integrate import quad\n",
    "\n",
    "quad(lambda x: x**3, 0, 2)\n",
    "```\n"
   ]
  },
  {
   "cell_type": "markdown",
   "id": "b4bc2800",
   "metadata": {},
   "source": [
    "Here the function created by `lambda` is said to be *anonymous* because it was never given a name."
   ]
  },
  {
   "cell_type": "markdown",
   "id": "eb61a195",
   "metadata": {},
   "source": [
    "### Why Write Functions?\n",
    "\n",
    "User-defined functions are important for improving the clarity of your code by\n",
    "\n",
    "- separating different strands of logic  \n",
    "- facilitating code reuse  \n",
    "\n",
    "\n",
    "(Writing the same thing twice is [almost always a bad idea](https://en.wikipedia.org/wiki/Don%27t_repeat_yourself))\n",
    "\n",
    "We will say more about this [later](writing_good_code.ipynb)."
   ]
  },
  {
   "cell_type": "markdown",
   "id": "b66e242b",
   "metadata": {},
   "source": [
    "## Applications"
   ]
  },
  {
   "cell_type": "markdown",
   "id": "4c97d8d3",
   "metadata": {},
   "source": [
    "### Random Draws\n",
    "\n",
    "Consider again this code from the [previous lecture](python_by_example.ipynb)"
   ]
  },
  {
   "cell_type": "markdown",
   "id": "cde731df",
   "metadata": {
    "hide-output": false
   },
   "source": [
    "```ipython3\n",
    "ts_length = 100\n",
    "ϵ_values = []   # empty list\n",
    "\n",
    "for i in range(ts_length):\n",
    "    e = np.random.randn()\n",
    "    ϵ_values.append(e)\n",
    "\n",
    "plt.plot(ϵ_values)\n",
    "plt.show()\n",
    "```\n"
   ]
  },
  {
   "cell_type": "markdown",
   "id": "d5afa5e1",
   "metadata": {},
   "source": [
    "We will break this program into two parts:\n",
    "\n",
    "1. A user-defined function that generates a list of random variables.  \n",
    "1. The main part of the program that  \n",
    "  1. calls this function to get data  \n",
    "  1. plots the data  \n",
    "\n",
    "\n",
    "This is accomplished in the next program\n",
    "\n",
    "\n",
    "<a id='funcloopprog'></a>"
   ]
  },
  {
   "cell_type": "markdown",
   "id": "eb7222b5",
   "metadata": {
    "hide-output": false
   },
   "source": [
    "```ipython3\n",
    "def generate_data(n):\n",
    "    ϵ_values = []\n",
    "    for i in range(n):\n",
    "        e = np.random.randn()\n",
    "        ϵ_values.append(e)\n",
    "    return ϵ_values\n",
    "\n",
    "data = generate_data(100)\n",
    "plt.plot(data)\n",
    "plt.show()\n",
    "```\n"
   ]
  },
  {
   "cell_type": "markdown",
   "id": "57f68b9b",
   "metadata": {},
   "source": [
    "When the interpreter gets to the expression `generate_data(100)`, it executes the function body with `n` set equal to 100.\n",
    "\n",
    "The net result is that the name `data` is *bound* to the list `ϵ_values` returned by the function."
   ]
  },
  {
   "cell_type": "markdown",
   "id": "180da6a5",
   "metadata": {},
   "source": [
    "### Adding Conditions\n",
    "\n",
    "\n",
    "<a id='index-3'></a>\n",
    "Our function `generate_data()` is rather limited.\n",
    "\n",
    "Let’s make it slightly more useful by giving it the ability to return either standard normals or uniform random variables on $ (0, 1) $ as required.\n",
    "\n",
    "This is achieved in the next piece of code.\n",
    "\n",
    "\n",
    "<a id='funcloopprog2'></a>"
   ]
  },
  {
   "cell_type": "markdown",
   "id": "6e46fed2",
   "metadata": {
    "hide-output": false
   },
   "source": [
    "```ipython3\n",
    "def generate_data(n, generator_type):\n",
    "    ϵ_values = []\n",
    "    for i in range(n):\n",
    "        if generator_type == 'U':\n",
    "            e = np.random.uniform(0, 1)\n",
    "        else:\n",
    "            e = np.random.randn()\n",
    "        ϵ_values.append(e)\n",
    "    return ϵ_values\n",
    "\n",
    "data = generate_data(100, 'U')\n",
    "plt.plot(data)\n",
    "plt.show()\n",
    "```\n"
   ]
  },
  {
   "cell_type": "markdown",
   "id": "c04b071c",
   "metadata": {},
   "source": [
    "Hopefully, the syntax of the if/else clause is self-explanatory, with indentation again delimiting the extent of the code blocks.\n",
    "\n",
    "Notes\n",
    "\n",
    "- We are passing the argument `U` as a string, which is why we write it as `'U'`.  \n",
    "- Notice that equality is tested with the `==` syntax, not `=`.  \n",
    "  - For example, the statement `a = 10` assigns the name `a` to the value `10`.  \n",
    "  - The expression `a == 10` evaluates to either `True` or `False`, depending on the value of `a`.  \n",
    "\n",
    "\n",
    "Now, there are several ways that we can simplify the code above.\n",
    "\n",
    "For example, we can get rid of the conditionals all together by just passing the desired generator type *as a function*.\n",
    "\n",
    "To understand this, consider the following version.\n",
    "\n",
    "\n",
    "<a id='test-program-6'></a>"
   ]
  },
  {
   "cell_type": "markdown",
   "id": "dfd8e2f9",
   "metadata": {
    "hide-output": false
   },
   "source": [
    "```ipython3\n",
    "def generate_data(n, generator_type):\n",
    "    ϵ_values = []\n",
    "    for i in range(n):\n",
    "        e = generator_type()\n",
    "        ϵ_values.append(e)\n",
    "    return ϵ_values\n",
    "\n",
    "data = generate_data(100, np.random.uniform)\n",
    "plt.plot(data)\n",
    "plt.show()\n",
    "```\n"
   ]
  },
  {
   "cell_type": "markdown",
   "id": "85fdd6b3",
   "metadata": {},
   "source": [
    "Now, when we call the function `generate_data()`, we pass `np.random.uniform`\n",
    "as the second argument.\n",
    "\n",
    "This object is a *function*.\n",
    "\n",
    "When the function call  `generate_data(100, np.random.uniform)` is executed, Python runs the function code block with `n` equal to 100 and the name `generator_type` “bound” to the function `np.random.uniform`.\n",
    "\n",
    "- While these lines are executed, the names `generator_type` and `np.random.uniform` are “synonyms”, and can be used in identical ways.  \n",
    "\n",
    "\n",
    "This principle works more generally—for example, consider the following piece of code"
   ]
  },
  {
   "cell_type": "markdown",
   "id": "7aa1b37c",
   "metadata": {
    "hide-output": false
   },
   "source": [
    "```ipython3\n",
    "max(7, 2, 4)   # max() is a built-in Python function\n",
    "```\n"
   ]
  },
  {
   "cell_type": "markdown",
   "id": "6298363b",
   "metadata": {
    "hide-output": false
   },
   "source": [
    "```ipython3\n",
    "m = max\n",
    "m(7, 2, 4)\n",
    "```\n"
   ]
  },
  {
   "cell_type": "markdown",
   "id": "b579d57b",
   "metadata": {},
   "source": [
    "Here we created another name for the built-in function `max()`, which could\n",
    "then be used in identical ways.\n",
    "\n",
    "In the context of our program, the ability to bind new names to functions\n",
    "means that there is no problem *passing a function as an argument to another\n",
    "function*—as we did above.\n",
    "\n",
    "\n",
    "<a id='recursive-functions'></a>"
   ]
  },
  {
   "cell_type": "markdown",
   "id": "9e579397",
   "metadata": {},
   "source": [
    "## Recursive Function Calls (Advanced)\n",
    "\n",
    "\n",
    "<a id='index-4'></a>\n",
    "This is an advanced topic that you should feel free to skip.\n",
    "\n",
    "At the same time, it’s a neat idea that you should learn it at some stage of\n",
    "your programming career.\n",
    "\n",
    "Basically, a recursive function is a function that calls itself.\n",
    "\n",
    "For example, consider the problem of computing $ x_t $ for some t when\n",
    "\n",
    "\n",
    "<a id='equation-xseqdoub'></a>\n",
    "$$\n",
    "x_{t+1} = 2 x_t, \\quad x_0 = 1 \\tag{4.1}\n",
    "$$\n",
    "\n",
    "Obviously the answer is $ 2^t $.\n",
    "\n",
    "We can compute this easily enough with a loop"
   ]
  },
  {
   "cell_type": "markdown",
   "id": "a299e1d5",
   "metadata": {
    "hide-output": false
   },
   "source": [
    "```ipython3\n",
    "def x_loop(t):\n",
    "    x = 1\n",
    "    for i in range(t):\n",
    "        x = 2 * x\n",
    "    return x\n",
    "```\n"
   ]
  },
  {
   "cell_type": "markdown",
   "id": "cb946108",
   "metadata": {},
   "source": [
    "We can also use a recursive solution, as follows"
   ]
  },
  {
   "cell_type": "markdown",
   "id": "30135860",
   "metadata": {
    "hide-output": false
   },
   "source": [
    "```ipython3\n",
    "def x(t):\n",
    "    if t == 0:\n",
    "        return 1\n",
    "    else:\n",
    "        return 2 * x(t-1)\n",
    "```\n"
   ]
  },
  {
   "cell_type": "markdown",
   "id": "689033c3",
   "metadata": {},
   "source": [
    "What happens here is that each successive call uses it’s own *frame* in the *stack*\n",
    "\n",
    "- a frame is where the local variables of a given function call are held  \n",
    "- stack is memory used to process function calls  \n",
    "  - a First In Last Out (FILO) queue  \n",
    "\n",
    "\n",
    "This example is somewhat contrived, since the first (iterative) solution would usually be preferred to the recursive solution.\n",
    "\n",
    "We’ll meet less contrived applications of recursion later on.\n",
    "\n",
    "\n",
    "<a id='factorial-exercise'></a>"
   ]
  },
  {
   "cell_type": "markdown",
   "id": "f88bcd8d",
   "metadata": {},
   "source": [
    "## Exercises"
   ]
  },
  {
   "cell_type": "markdown",
   "id": "c84399da",
   "metadata": {},
   "source": [
    "## Exercise 4.1\n",
    "\n",
    "Recall that $ n! $ is read as “$ n $ factorial” and defined as\n",
    "$ n! = n \\times (n - 1) \\times \\cdots \\times 2 \\times 1 $.\n",
    "\n",
    "We will only consider $ n $ as a positive integer here.\n",
    "\n",
    "There are functions to compute this in various modules, but let’s\n",
    "write our own version as an exercise.\n",
    "\n",
    "In particular, write a function `factorial` such that `factorial(n)` returns $ n! $\n",
    "for any positive integer $ n $."
   ]
  },
  {
   "cell_type": "markdown",
   "id": "ca9db487",
   "metadata": {},
   "source": [
    "## Solution to[ Exercise 4.1](#func_ex1)\n",
    "\n",
    "Here’s one solution:"
   ]
  },
  {
   "cell_type": "markdown",
   "id": "1e81adb0",
   "metadata": {
    "hide-output": false
   },
   "source": [
    "```ipython3\n",
    "def factorial(n):\n",
    "    k = 1\n",
    "    for i in range(n):\n",
    "        k = k * (i + 1)\n",
    "    return k\n",
    "\n",
    "factorial(4)\n",
    "```\n"
   ]
  },
  {
   "cell_type": "markdown",
   "id": "084fa2ce",
   "metadata": {},
   "source": [
    "## Exercise 4.2\n",
    "\n",
    "The [binomial random variable](https://en.wikipedia.org/wiki/Binomial_distribution) $ Y \\sim Bin(n, p) $ represents the number of successes in $ n $ binary trials, where each trial succeeds with probability $ p $.\n",
    "\n",
    "Without any import besides `from numpy.random import uniform`, write a function\n",
    "`binomial_rv` such that `binomial_rv(n, p)` generates one draw of $ Y $.\n",
    "\n",
    "If $ U $ is uniform on $ (0, 1) $ and $ p \\in (0,1) $, then the expression `U < p` evaluates to `True` with probability $ p $."
   ]
  },
  {
   "cell_type": "markdown",
   "id": "8081acff",
   "metadata": {},
   "source": [
    "## Solution to[ Exercise 4.2](#func_ex2)\n",
    "\n",
    "Here is one solution:"
   ]
  },
  {
   "cell_type": "markdown",
   "id": "3d45c76f",
   "metadata": {
    "hide-output": false
   },
   "source": [
    "```ipython3\n",
    "from numpy.random import uniform\n",
    "\n",
    "def binomial_rv(n, p):\n",
    "    count = 0\n",
    "    for i in range(n):\n",
    "        U = uniform()\n",
    "        if U < p:\n",
    "            count = count + 1    # Or count += 1\n",
    "    return count\n",
    "\n",
    "binomial_rv(10, 0.5)\n",
    "```\n"
   ]
  },
  {
   "cell_type": "markdown",
   "id": "0442834e",
   "metadata": {},
   "source": [
    "## Exercise 4.3\n",
    "\n",
    "First, write a function that returns one realization of the following random device\n",
    "\n",
    "1. Flip an unbiased coin 10 times.  \n",
    "1. If a head occurs `k` or more times consecutively within this sequence at least once, pay one dollar.  \n",
    "1. If not, pay nothing.  \n",
    "\n",
    "\n",
    "Second, write another function that does the same task except that the second rule of the above random device becomes\n",
    "\n",
    "- If a head occurs `k` or more times within this sequence, pay one dollar.  \n",
    "\n",
    "\n",
    "Use no import besides `from numpy.random import uniform`."
   ]
  },
  {
   "cell_type": "markdown",
   "id": "fba302de",
   "metadata": {},
   "source": [
    "## Solution to[ Exercise 4.3](#func_ex3)\n",
    "\n",
    "Here’s a function for the first random device."
   ]
  },
  {
   "cell_type": "markdown",
   "id": "2c05619f",
   "metadata": {
    "hide-output": false
   },
   "source": [
    "```ipython3\n",
    "from numpy.random import uniform\n",
    "\n",
    "def draw(k):  # pays if k consecutive successes in a sequence\n",
    "\n",
    "    payoff = 0\n",
    "    count = 0\n",
    "\n",
    "    for i in range(10):\n",
    "        U = uniform()\n",
    "        count = count + 1 if U < 0.5 else 0\n",
    "        print(count)    # print counts for clarity\n",
    "        if count == k:\n",
    "            payoff = 1\n",
    "\n",
    "    return payoff\n",
    "\n",
    "draw(3)\n",
    "```\n"
   ]
  },
  {
   "cell_type": "markdown",
   "id": "8b9dc1c8",
   "metadata": {},
   "source": [
    "Here’s another function for the second random device."
   ]
  },
  {
   "cell_type": "markdown",
   "id": "121bb8e9",
   "metadata": {
    "hide-output": false
   },
   "source": [
    "```ipython3\n",
    "def draw_new(k):  # pays if k successes in a sequence\n",
    "\n",
    "    payoff = 0\n",
    "    count = 0\n",
    "\n",
    "    for i in range(10):\n",
    "        U = uniform()\n",
    "        count = count + ( 1 if U < 0.5 else 0 )\n",
    "        print(count)\n",
    "        if count == k:\n",
    "            payoff = 1\n",
    "\n",
    "    return payoff\n",
    "\n",
    "draw_new(3)\n",
    "```\n"
   ]
  },
  {
   "cell_type": "markdown",
   "id": "e5363c15",
   "metadata": {},
   "source": [
    "## Advanced Exercises\n",
    "\n",
    "In the following exercises, we will write recursive functions together."
   ]
  },
  {
   "cell_type": "markdown",
   "id": "535a5156",
   "metadata": {},
   "source": [
    "## Exercise 4.4\n",
    "\n",
    "The Fibonacci numbers are defined by\n",
    "\n",
    "\n",
    "<a id='equation-fib'></a>\n",
    "$$\n",
    "x_{t+1} = x_t + x_{t-1}, \\quad x_0 = 0, \\; x_1 = 1 \\tag{4.2}\n",
    "$$\n",
    "\n",
    "The first few numbers in the sequence are $ 0, 1, 1, 2, 3, 5, 8, 13, 21, 34, 55 $.\n",
    "\n",
    "Write a function to recursively compute the $ t $-th Fibonacci number for any $ t $."
   ]
  },
  {
   "cell_type": "markdown",
   "id": "022ca816",
   "metadata": {},
   "source": [
    "## Solution to[ Exercise 4.4](#func_ex4)\n",
    "\n",
    "Here’s the standard solution"
   ]
  },
  {
   "cell_type": "markdown",
   "id": "59d639c9",
   "metadata": {
    "hide-output": false
   },
   "source": [
    "```ipython3\n",
    "def x(t):\n",
    "    if t == 0:\n",
    "        return 0\n",
    "    if t == 1:\n",
    "        return 1\n",
    "    else:\n",
    "        return x(t-1) + x(t-2)\n",
    "```\n"
   ]
  },
  {
   "cell_type": "markdown",
   "id": "2d0b4451",
   "metadata": {},
   "source": [
    "Let’s test it"
   ]
  },
  {
   "cell_type": "markdown",
   "id": "8efe01bd",
   "metadata": {
    "hide-output": false
   },
   "source": [
    "```ipython3\n",
    "print([x(i) for i in range(10)])\n",
    "```\n"
   ]
  },
  {
   "cell_type": "markdown",
   "id": "190a6a95",
   "metadata": {},
   "source": [
    "## Exercise 4.5\n",
    "\n",
    "Rewrite the function `factorial()` in from [Exercise 1](#factorial-exercise) using recursion."
   ]
  },
  {
   "cell_type": "markdown",
   "id": "f3f6b1bc",
   "metadata": {},
   "source": [
    "## Solution to[ Exercise 4.5](#func_ex5)\n",
    "\n",
    "Here’s the standard solution"
   ]
  },
  {
   "cell_type": "markdown",
   "id": "0384d186",
   "metadata": {
    "hide-output": false
   },
   "source": [
    "```ipython3\n",
    "def recursion_factorial(n):\n",
    "   if n == 1:\n",
    "       return n\n",
    "   else:\n",
    "       return n * recursion_factorial(n-1)\n",
    "```\n"
   ]
  },
  {
   "cell_type": "markdown",
   "id": "8edbe67b",
   "metadata": {},
   "source": [
    "Let’s test it"
   ]
  },
  {
   "cell_type": "markdown",
   "id": "9fea6122",
   "metadata": {
    "hide-output": false
   },
   "source": [
    "```ipython3\n",
    "print([recursion_factorial(i) for i in range(1, 10)])\n",
    "```\n"
   ]
  }
 ],
 "metadata": {
  "date": 1753420494.02729,
  "filename": "functions.md",
  "kernelspec": {
   "display_name": "Python",
   "language": "python3",
   "name": "python3"
  },
  "title": "Functions"
 },
 "nbformat": 4,
 "nbformat_minor": 5
}