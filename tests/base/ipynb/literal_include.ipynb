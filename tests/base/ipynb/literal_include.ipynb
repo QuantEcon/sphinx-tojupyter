{
 "cells": [
  {
   "cell_type": "markdown",
   "id": "9862d7a2",
   "metadata": {},
   "source": [
    "# Literal Includes\n",
    "\n",
    "Testing literal Includes"
   ]
  },
  {
   "cell_type": "code",
   "execution_count": null,
   "id": "3dd64bc8",
   "metadata": {
    "hide-output": false
   },
   "outputs": [],
   "source": [
    "import numpy as np\n",
    "a = np.random.rand(1000)\n",
    "print(a)"
   ]
  },
  {
   "cell_type": "markdown",
   "id": "f6dba987",
   "metadata": {},
   "source": [
    "should list a python highlighted program"
   ]
  },
  {
   "cell_type": "markdown",
   "id": "ddf7de87",
   "metadata": {
    "hide-output": false
   },
   "source": [
    "```julia\n",
    "# function to calculate the volume of a sphere\n",
    "function sphere_vol(r)\n",
    "    # julia allows Unicode names (in UTF-8 encoding)\n",
    "    # so either \"pi\" or the symbol π can be used\n",
    "    return 4/3*pi*r^3\n",
    "end\n",
    "```\n"
   ]
  },
  {
   "cell_type": "markdown",
   "id": "acfee260",
   "metadata": {},
   "source": [
    "this is a julia highlighted program but is in a markdown cell as the default language for the notebook is **python**\n",
    "\n",
    "Literal includes can also have hidden output"
   ]
  },
  {
   "cell_type": "code",
   "execution_count": null,
   "id": "8546f79a",
   "metadata": {
    "hide-output": true
   },
   "outputs": [],
   "source": [
    "import numpy as np\n",
    "a = np.random.rand(1000)\n",
    "print(a)"
   ]
  }
 ],
 "metadata": {
  "date": 1679270225.413045,
  "filename": "literal_include.rst",
  "kernelspec": {
   "display_name": "Python",
   "language": "python3",
   "name": "python3"
  },
  "title": "Literal Includes"
 },
 "nbformat": 4,
 "nbformat_minor": 5
}