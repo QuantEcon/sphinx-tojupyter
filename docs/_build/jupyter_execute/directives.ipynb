{
 "cells": [
  {
   "cell_type": "markdown",
   "metadata": {},
   "source": [
    "(directives)=\n",
    "# Directives\n",
    "\n",
    "The following directives are provided by this extension:\n",
    "\n",
    "```{contents}\n",
    "---\n",
    "depth: 1\n",
    "local: \n",
    "---\n",
    "```\n",
    "\n",
    "## Directive: exercise\n",
    "\n",
    "Exercise directives can be added to your text such as:\n",
    "\n",
    "```{code-block} rst\n",
    ".. exercise::\n",
    "\n",
    "    Contains the Exercise\n",
    "```\n",
    "\n",
    "If you would like to `exclude` them from your documents you\n",
    "can set:"
   ]
  },
  {
   "cell_type": "code",
   "execution_count": 1,
   "metadata": {},
   "outputs": [
    {
     "ename": "SyntaxError",
     "evalue": "invalid syntax (<ipython-input-1-627d73b3f033>, line 1)",
     "output_type": "error",
     "traceback": [
      "\u001b[0;36m  File \u001b[0;32m\"<ipython-input-1-627d73b3f033>\"\u001b[0;36m, line \u001b[0;32m1\u001b[0m\n\u001b[0;31m    exercise_include_exercises = False``\u001b[0m\n\u001b[0m                                      ^\u001b[0m\n\u001b[0;31mSyntaxError\u001b[0m\u001b[0;31m:\u001b[0m invalid syntax\n"
     ]
    }
   ],
   "source": [
    "exercise_include_exercises = False``"
   ]
  },
  {
   "cell_type": "markdown",
   "metadata": {},
   "source": [
    "in your `conf.py` file.\n",
    "\n",
    "## Directive: exerciselist\n",
    "\n",
    "Collect exercises from the document and compile an exercise list where the directive is placed in the RST\n",
    "\n",
    "```{code-block} rst\n",
    ".. exerciselist::\n",
    "```\n",
    "\n",
    "Beneath each exercise in the list there is another link \"(back to text)\"\n",
    "that points back to the location where you originally authored/placed the exercise.\n",
    "\n",
    "### Provided Options\n",
    "\n",
    "```{code-block} rst\n",
    ".. exerciselist::\n",
    "    :scope: SCOPE\n",
    "    :from: FILE\n",
    "    :force:\n",
    "```\n",
    "\n",
    "\n",
    "\n",
    "\n",
    "\n",
    "\n",
    "\n",
    "\n",
    "\n",
    "\n",
    "\n",
    "\n",
    "\n",
    "\n",
    "\n",
    "\n",
    "\n",
    "\n",
    "\n",
    "\n",
    "\n",
    "\n",
    "\n",
    "\n",
    "\n",
    "\n",
    "\n",
    "|Option|Description|Values|\n",
    "|:-------------------------------:|:-------------------------------:|:-------------------------------:|\n",
    "|`|:from:|`|import exercise defined in a file|\n",
    "|`|:scope:|`|provide scope of exercises|`|file|`|, |`|section|`|, or |`|all|`|\n",
    "|`|:force:|`|force exercises to render where they are defined|True/False|\n",
    "|`|:title:|`|Specify title used for exercise block|\n",
    "\n",
    "#### `:scope:`\n",
    "\n",
    "`file`        then only exercises defined in the same file as the exerciselist directive will be included\n",
    "`section`     then all exercises defined in the same section will be included\n",
    "`all`         then all exercises anywhere in the project will be included\n",
    "\n",
    "### `:force:`\n",
    "\n",
    "By default, when the conf.py config setting exercise_inline_exercises is true, all\n",
    "exercises will render where they are defined and the exerciselist node will be removed\n",
    "from the doctree.\n",
    "\n",
    "```{warning}\n",
    "However, if the :force: option is given the exerciselist will always be rendered\n",
    "and when exercise_inline_exercises is True, each problem will be rendered twice.\n",
    "```\n",
    "\n",
    "### Additional Info\n",
    "\n",
    "If an exercise is included in an exercise list, it is only removed from its original\n",
    "location if the exercise list is in the same file.\n",
    "\n",
    "For example, if I define an exercise in A.rst and in B.rst I both define an exercise\n",
    "and an exerciselist with :scope: section then the following will happen:\n",
    "\n",
    "- both exercises will render at the point of the exerciselist in B.rst\n",
    "- The exercise in B.rst will not be rendered where it was defined, but instead a link to the exercise list and number will be given\n",
    "- The exercise in A.rst will still be rendered in file A. This means its contents are rendered two times."
   ]
  }
 ],
 "metadata": {
  "jupytext": {
   "text_representation": {
    "extension": ".md",
    "format_name": "myst"
   }
  },
  "kernelspec": {
   "display_name": "Python 3",
   "language": "python",
   "name": "python3"
  },
  "language_info": {
   "codemirror_mode": {
    "name": "ipython",
    "version": 3
   },
   "file_extension": ".py",
   "mimetype": "text/x-python",
   "name": "python",
   "nbconvert_exporter": "python",
   "pygments_lexer": "ipython3",
   "version": "3.8.3"
  },
  "source_map": [
   10,
   37,
   39
  ]
 },
 "nbformat": 4,
 "nbformat_minor": 4
}