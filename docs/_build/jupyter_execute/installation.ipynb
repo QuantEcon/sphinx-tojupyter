{
 "cells": [
  {
   "cell_type": "markdown",
   "metadata": {},
   "source": [
    "(installation)=\n",
    "# Installation\n",
    "\n",
    "To install the extension:\n",
    "\n",
    "```{code-block} bash\n",
    "pip install sphinx-tojupyter\n",
    "```\n",
    "\n",
    "to upgrade your current installation to the latest version:\n",
    "\n",
    "```{code-block} bash\n",
    "pip install --upgrade sphinx-tojupyter\n",
    "```\n",
    "\n",
    "```{todo}\n",
    "# Todo\n",
    "\n",
    "Add installation to distribute via conda-forge.\n",
    "See Issue [#160](https://github.com/QuantEcon/sphinx-tojupyter/issues/160).\n",
    "\n",
    "```\n",
    "\n",
    "You can refer to the [release notes](https://github.com/QuantEcon/sphinx-tojupyter/releases)\n",
    "for information on each release.\n",
    "\n",
    "## Alternative\n",
    "\n",
    "Another way to get the **latest** version it is to install directly\n",
    "by getting a copy of the [repository](https://github.com/QuantEcon/sphinx-tojupyter):\n",
    "\n",
    "```{code-block} bash\n",
    "git clone https://github.com/QuantEcon/sphinx-tojupyter\n",
    "```\n",
    "\n",
    "and then use\n",
    "\n",
    "```{code-block} bash\n",
    "python setup.py install\n",
    "```\n",
    "\n",
    "## Developers\n",
    "\n",
    "For developers it can be useful to install using the develop option:\n",
    "\n",
    "```{code-block} bash\n",
    "python setup.py develop\n",
    "```\n",
    "\n",
    "this will install the package into the site-wide package directory which is linked to\n",
    "the code in your local copy of the repository. It is **not** recommended to install this\n",
    "way for common use."
   ]
  }
 ],
 "metadata": {
  "jupytext": {
   "text_representation": {
    "extension": ".md",
    "format_name": "myst"
   }
  },
  "kernelspec": {
   "display_name": "Python 3",
   "language": "python",
   "name": "python3"
  },
  "language_info": {
   "codemirror_mode": {
    "name": "ipython",
    "version": 3
   },
   "file_extension": ".py",
   "mimetype": "text/x-python",
   "name": "python",
   "nbconvert_exporter": "python",
   "pygments_lexer": "ipython3",
   "version": "3.8.3"
  },
  "source_map": [
   10
  ]
 },
 "nbformat": 4,
 "nbformat_minor": 4
}