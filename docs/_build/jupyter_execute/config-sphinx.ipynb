{
 "cells": [
  {
   "cell_type": "markdown",
   "metadata": {},
   "source": [
    "(sphinx_setup)=\n",
    "# Sphinx Setup\n",
    "\n",
    "To initially setup a Sphinx project, please refer [here](https://www.sphinx-doc.org/en/master/usage/quickstart.html).\n",
    "\n",
    "```{note}\n",
    "QuantEcon has developed a `jupinx-quickstart` that can assist with setting up a repository\n",
    "to get you up and running quickly. Please refer to the [Jupinx Project](https://jupinx.quantecon.org/)\n",
    "for more details.\n",
    "```\n",
    "\n",
    "You can use the sphinx quickstart and update the project `conf.py` file to\n",
    "include the jupyter extension and add the desired configuration settings\n",
    "(see {doc}`Extension Configuration <config-extension>` section for details):"
   ]
  },
  {
   "cell_type": "code",
   "execution_count": 1,
   "metadata": {},
   "outputs": [],
   "source": [
    "extensions = [\"sphinx_tojupyter\"]"
   ]
  },
  {
   "cell_type": "markdown",
   "metadata": {},
   "source": [
    "once the extension is installed you can then run:\n",
    "\n",
    "```{code-block} bash\n",
    "make jupyter\n",
    "```\n",
    "\n",
    "The {doc}`Extension Configuration <config-extension>` section includes details\n",
    "on how to configure the extension in your `conf.py`."
   ]
  }
 ],
 "metadata": {
  "jupytext": {
   "text_representation": {
    "extension": ".md",
    "format_name": "myst"
   }
  },
  "kernelspec": {
   "display_name": "Python 3",
   "language": "python",
   "name": "python3"
  },
  "language_info": {
   "codemirror_mode": {
    "name": "ipython",
    "version": 3
   },
   "file_extension": ".py",
   "mimetype": "text/x-python",
   "name": "python",
   "nbconvert_exporter": "python",
   "pygments_lexer": "ipython3",
   "version": "3.8.3"
  },
  "source_map": [
   10,
   27,
   29
  ]
 },
 "nbformat": 4,
 "nbformat_minor": 4
}