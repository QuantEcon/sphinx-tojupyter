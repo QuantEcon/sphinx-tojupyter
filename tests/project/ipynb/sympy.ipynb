{
 "cells": [
  {
   "cell_type": "markdown",
   "id": "97b9a790",
   "metadata": {},
   "source": [
    "\n",
    "<a id='sympy'></a>\n",
    "<div id=\"qe-notebook-header\" align=\"right\" style=\"text-align:right;\">\n",
    "        <a href=\"https://quantecon.org/\" title=\"quantecon.org\">\n",
    "                <img style=\"width:250px;display:inline;\" width=\"250px\" src=\"https://assets.quantecon.org/img/qe-menubar-logo.svg\" alt=\"QuantEcon\">\n",
    "        </a>\n",
    "</div>"
   ]
  },
  {
   "cell_type": "markdown",
   "id": "64a4bf25",
   "metadata": {},
   "source": [
    "# SymPy\n",
    "\n",
    "\n",
    "<a id='index-1'></a>"
   ]
  },
  {
   "cell_type": "markdown",
   "id": "d08a89db",
   "metadata": {},
   "source": [
    "## Overview\n",
    "\n",
    "Unlike numerical libraries that deal with values, [SymPy](https://www.sympy.org/en/index.html) focuses on manipulating mathematical symbols and expressions directly.\n",
    "\n",
    "SymPy provides [a wide range of features](https://www.sympy.org/en/features.html) including\n",
    "\n",
    "- symbolic expression  \n",
    "- equation solving  \n",
    "- simplification  \n",
    "- calculus  \n",
    "- matrices  \n",
    "- discrete math, etc.  \n",
    "\n",
    "\n",
    "These functions make SymPy a popular open-source alternative to other proprietary symbolic computational software such as Mathematica.\n",
    "\n",
    "In this lecture, we will explore some of the functionality of SymPy and demonstrate how to use basic SymPy functions to solve economic models."
   ]
  },
  {
   "cell_type": "markdown",
   "id": "e2247e35",
   "metadata": {},
   "source": [
    "## Getting Started\n",
    "\n",
    "Let’s first import the library and initialize the printer for symbolic output"
   ]
  },
  {
   "cell_type": "markdown",
   "id": "5f72f929",
   "metadata": {
    "hide-output": false
   },
   "source": [
    "```ipython3\n",
    "from sympy import *\n",
    "from sympy.plotting import plot, plot3d_parametric_line, plot3d\n",
    "from sympy.solvers.inequalities import reduce_rational_inequalities\n",
    "from sympy.stats import Poisson, Exponential, Binomial, density, moment, E, cdf\n",
    "\n",
    "import numpy as np\n",
    "import matplotlib.pyplot as plt\n",
    "\n",
    "# Enable the mathjax printer\n",
    "init_printing(use_latex='mathjax')\n",
    "```\n"
   ]
  },
  {
   "cell_type": "markdown",
   "id": "8c7852ba",
   "metadata": {},
   "source": [
    "## Symbolic algebra"
   ]
  },
  {
   "cell_type": "markdown",
   "id": "68a9caf2",
   "metadata": {},
   "source": [
    "### Symbols\n",
    "\n",
    "First we initialize some symbols to work with"
   ]
  },
  {
   "cell_type": "markdown",
   "id": "ba7b345d",
   "metadata": {
    "hide-output": false
   },
   "source": [
    "```ipython3\n",
    "x, y, z = symbols('x y z')\n",
    "```\n"
   ]
  },
  {
   "cell_type": "markdown",
   "id": "69fd2e1c",
   "metadata": {},
   "source": [
    "Symbols are the basic units for symbolic computation in SymPy."
   ]
  },
  {
   "cell_type": "markdown",
   "id": "05216093",
   "metadata": {},
   "source": [
    "### Expressions\n",
    "\n",
    "We can now use symbols `x`, `y`, and `z` to build expressions and equations.\n",
    "\n",
    "Here we build a simple expression first"
   ]
  },
  {
   "cell_type": "markdown",
   "id": "12a8a7ed",
   "metadata": {
    "hide-output": false
   },
   "source": [
    "```ipython3\n",
    "expr = (x+y) ** 2\n",
    "expr\n",
    "```\n"
   ]
  },
  {
   "cell_type": "markdown",
   "id": "0812e6be",
   "metadata": {},
   "source": [
    "We can expand this expression with the `expand` function"
   ]
  },
  {
   "cell_type": "markdown",
   "id": "7dc7d570",
   "metadata": {
    "hide-output": false
   },
   "source": [
    "```ipython3\n",
    "expand_expr = expand(expr)\n",
    "expand_expr\n",
    "```\n"
   ]
  },
  {
   "cell_type": "markdown",
   "id": "27441151",
   "metadata": {},
   "source": [
    "and factorize it back to the factored form with the `factor` function"
   ]
  },
  {
   "cell_type": "markdown",
   "id": "2997f36b",
   "metadata": {
    "hide-output": false
   },
   "source": [
    "```ipython3\n",
    "factor(expand_expr)\n",
    "```\n"
   ]
  },
  {
   "cell_type": "markdown",
   "id": "9da88a80",
   "metadata": {},
   "source": [
    "We can solve this expression"
   ]
  },
  {
   "cell_type": "markdown",
   "id": "25998aed",
   "metadata": {
    "hide-output": false
   },
   "source": [
    "```ipython3\n",
    "solve(expr)\n",
    "```\n"
   ]
  },
  {
   "cell_type": "markdown",
   "id": "4f22fe6a",
   "metadata": {},
   "source": [
    "Note this is equivalent to solving the following equation for `x`\n",
    "\n",
    "$$\n",
    "(x + y)^2 = 0\n",
    "$$\n",
    "\n",
    ">**Note**\n",
    ">\n",
    ">[Solvers](https://docs.sympy.org/latest/modules/solvers/index.html) is an important module with tools to solve different types of equations.\n",
    "\n",
    "There are a variety of solvers available in SymPy depending on the nature of the problem."
   ]
  },
  {
   "cell_type": "markdown",
   "id": "fdaa9872",
   "metadata": {},
   "source": [
    "### Equations\n",
    "\n",
    "SymPy provides several functions to manipulate equations.\n",
    "\n",
    "Let’s develop an equation with the expression we defined before"
   ]
  },
  {
   "cell_type": "markdown",
   "id": "8fd9a3cd",
   "metadata": {
    "hide-output": false
   },
   "source": [
    "```ipython3\n",
    "eq = Eq(expr, 0)\n",
    "eq\n",
    "```\n"
   ]
  },
  {
   "cell_type": "markdown",
   "id": "3c4ec49b",
   "metadata": {},
   "source": [
    "Solving this equation with respect to $ x $ gives the same output as solving the expression directly"
   ]
  },
  {
   "cell_type": "markdown",
   "id": "011068d6",
   "metadata": {
    "hide-output": false
   },
   "source": [
    "```ipython3\n",
    "solve(eq, x)\n",
    "```\n"
   ]
  },
  {
   "cell_type": "markdown",
   "id": "fe907f03",
   "metadata": {},
   "source": [
    "SymPy can handle equations with multiple solutions"
   ]
  },
  {
   "cell_type": "markdown",
   "id": "fa180ec1",
   "metadata": {
    "hide-output": false
   },
   "source": [
    "```ipython3\n",
    "eq = Eq(expr, 1)\n",
    "solve(eq, x)\n",
    "```\n"
   ]
  },
  {
   "cell_type": "markdown",
   "id": "c052761b",
   "metadata": {},
   "source": [
    "`solve` function can also combine multiple equations together and solve a system of equations"
   ]
  },
  {
   "cell_type": "markdown",
   "id": "cdd450de",
   "metadata": {
    "hide-output": false
   },
   "source": [
    "```ipython3\n",
    "eq2 = Eq(x, y)\n",
    "eq2\n",
    "```\n"
   ]
  },
  {
   "cell_type": "markdown",
   "id": "3d859ee2",
   "metadata": {
    "hide-output": false
   },
   "source": [
    "```ipython3\n",
    "solve([eq, eq2], [x, y])\n",
    "```\n"
   ]
  },
  {
   "cell_type": "markdown",
   "id": "002aaeeb",
   "metadata": {},
   "source": [
    "We can also solve for the value of $ y $ by simply substituting $ x $ with $ y $"
   ]
  },
  {
   "cell_type": "markdown",
   "id": "ee994063",
   "metadata": {
    "hide-output": false
   },
   "source": [
    "```ipython3\n",
    "expr_sub = expr.subs(x, y)\n",
    "expr_sub\n",
    "```\n"
   ]
  },
  {
   "cell_type": "markdown",
   "id": "f9c04025",
   "metadata": {
    "hide-output": false
   },
   "source": [
    "```ipython3\n",
    "solve(Eq(expr_sub, 1))\n",
    "```\n"
   ]
  },
  {
   "cell_type": "markdown",
   "id": "2c316e1d",
   "metadata": {},
   "source": [
    "Below is another example equation with the symbol `x` and functions `sin`, `cos`, and `tan` using the `Eq` function"
   ]
  },
  {
   "cell_type": "markdown",
   "id": "06993476",
   "metadata": {
    "hide-output": false
   },
   "source": [
    "```ipython3\n",
    "# Create an equation\n",
    "eq = Eq(cos(x) / (tan(x)/sin(x)), 0)\n",
    "eq\n",
    "```\n"
   ]
  },
  {
   "cell_type": "markdown",
   "id": "4bc86d40",
   "metadata": {},
   "source": [
    "Now we simplify this equation using the `simplify` function"
   ]
  },
  {
   "cell_type": "markdown",
   "id": "b929059e",
   "metadata": {
    "hide-output": false
   },
   "source": [
    "```ipython3\n",
    "# Simplify an expression\n",
    "simplified_expr = simplify(eq)\n",
    "simplified_expr\n",
    "```\n"
   ]
  },
  {
   "cell_type": "markdown",
   "id": "be15c910",
   "metadata": {},
   "source": [
    "Again, we use the `solve` function to solve this equation"
   ]
  },
  {
   "cell_type": "markdown",
   "id": "22b0589c",
   "metadata": {
    "hide-output": false
   },
   "source": [
    "```ipython3\n",
    "# Solve the equation\n",
    "sol = solve(eq, x)\n",
    "sol\n",
    "```\n"
   ]
  },
  {
   "cell_type": "markdown",
   "id": "045ab2ec",
   "metadata": {},
   "source": [
    "SymPy can also handle more complex equations involving trigonometry and complex numbers.\n",
    "\n",
    "We demonstrate this using [Euler’s formula](https://en.wikipedia.org/wiki/Euler%27s_formula)"
   ]
  },
  {
   "cell_type": "markdown",
   "id": "4960a845",
   "metadata": {
    "hide-output": false
   },
   "source": [
    "```ipython3\n",
    "# 'I' represents the imaginary number i \n",
    "euler = cos(x) + I*sin(x)\n",
    "euler\n",
    "```\n"
   ]
  },
  {
   "cell_type": "markdown",
   "id": "05260355",
   "metadata": {
    "hide-output": false
   },
   "source": [
    "```ipython3\n",
    "simplify(euler)\n",
    "```\n"
   ]
  },
  {
   "cell_type": "markdown",
   "id": "4a05a0bd",
   "metadata": {},
   "source": [
    "If you are interested, we encourage you to read the lecture on [trigonometry and complex numbers](https://python.quantecon.org/complex_and_trig.html)."
   ]
  },
  {
   "cell_type": "markdown",
   "id": "c6f30867",
   "metadata": {},
   "source": [
    "#### Example: fixed point computation\n",
    "\n",
    "Fixed point computation is frequently used in economics and finance.\n",
    "\n",
    "Here we solve the fixed point of the Solow-Swan growth dynamics:\n",
    "\n",
    "$$\n",
    "k_{t+1}=s f\\left(k_t\\right)+(1-\\delta) k_t, \\quad t=0,1, \\ldots\n",
    "$$\n",
    "\n",
    "where $ k_t $ is the capital stock, $ f $ is a production function, $ \\delta $ is a rate of depreciation.\n",
    "\n",
    "We are interested in calculating the fixed point of this dynamics, i.e., the value of $ k $ such that $ k_{t+1} = k_t $.\n",
    "\n",
    "With $ f(k) = Ak^\\alpha $, we can show the unique fixed point of the dynamics $ k^* $ using pen and paper:\n",
    "\n",
    "$$\n",
    "k^*:=\\left(\\frac{s A}{\\delta}\\right)^{1 /(1-\\alpha)}\n",
    "$$\n",
    "\n",
    "This can be easily computed in SymPy"
   ]
  },
  {
   "cell_type": "markdown",
   "id": "63968c5b",
   "metadata": {
    "hide-output": false
   },
   "source": [
    "```ipython3\n",
    "A, s, k, α, δ = symbols('A s k^* α δ')\n",
    "```\n"
   ]
  },
  {
   "cell_type": "markdown",
   "id": "bedd3458",
   "metadata": {},
   "source": [
    "Now we solve for the fixed point $ k^* $\n",
    "\n",
    "$$\n",
    "k^* = sA(k^*)^{\\alpha}+(1-\\delta) k^*\n",
    "$$"
   ]
  },
  {
   "cell_type": "markdown",
   "id": "1847ea42",
   "metadata": {
    "hide-output": false
   },
   "source": [
    "```ipython3\n",
    "# Define Solow-Swan growth dynamics\n",
    "solow = Eq(s*A*k**α + (1-δ)*k, k)\n",
    "solow\n",
    "```\n"
   ]
  },
  {
   "cell_type": "markdown",
   "id": "1e374acc",
   "metadata": {
    "hide-output": false
   },
   "source": [
    "```ipython3\n",
    "solve(solow, k)\n",
    "```\n"
   ]
  },
  {
   "cell_type": "markdown",
   "id": "7e6bb2d7",
   "metadata": {},
   "source": [
    "### Inequalities and logic\n",
    "\n",
    "SymPy also allows users to define inequalities and set operators and provides a wide range of [operations](https://docs.sympy.org/latest/modules/solvers/inequalities.html)."
   ]
  },
  {
   "cell_type": "markdown",
   "id": "6d6277aa",
   "metadata": {
    "hide-output": false
   },
   "source": [
    "```ipython3\n",
    "reduce_inequalities([2*x + 5*y <= 30, 4*x + 2*y <= 20], [x])\n",
    "```\n"
   ]
  },
  {
   "cell_type": "markdown",
   "id": "9ee086a7",
   "metadata": {
    "hide-output": false
   },
   "source": [
    "```ipython3\n",
    "And(2*x + 5*y <= 30, x > 0)\n",
    "```\n"
   ]
  },
  {
   "cell_type": "markdown",
   "id": "3cb44e2a",
   "metadata": {},
   "source": [
    "### Series\n",
    "\n",
    "Series are widely used in economics and statistics, from asset pricing to the expectation of discrete random variables.\n",
    "\n",
    "We can construct a simple series of summations using `Sum` function and `Indexed` symbols"
   ]
  },
  {
   "cell_type": "markdown",
   "id": "d92f7fe1",
   "metadata": {
    "hide-output": false
   },
   "source": [
    "```ipython3\n",
    "x, y, i, j = symbols(\"x y i j\")\n",
    "sum_xy = Sum(Indexed('x', i)*Indexed('y', j), \n",
    "            (i, 0, 3),\n",
    "            (j, 0, 3))\n",
    "sum_xy\n",
    "```\n"
   ]
  },
  {
   "cell_type": "markdown",
   "id": "a8992f51",
   "metadata": {},
   "source": [
    "To evaluate the sum, we can [`lambdify`](https://docs.sympy.org/latest/modules/utilities/lambdify.html#sympy.utilities.lambdify.lambdify) the formula.\n",
    "\n",
    "The lambdified expression can take numeric values as input for $ x $ and $ y $ and compute the result"
   ]
  },
  {
   "cell_type": "markdown",
   "id": "cbd3be8c",
   "metadata": {
    "hide-output": false
   },
   "source": [
    "```ipython3\n",
    "sum_xy = lambdify([x, y], sum_xy)\n",
    "grid = np.arange(0, 4, 1)\n",
    "sum_xy(grid, grid)\n",
    "```\n"
   ]
  },
  {
   "cell_type": "markdown",
   "id": "4839167f",
   "metadata": {},
   "source": [
    "#### Example: bank deposits\n",
    "\n",
    "Imagine a bank with $ D_0 $ as the deposit at time $ t $.\n",
    "\n",
    "It loans $ (1-r) $ of its deposits and keeps a fraction $ r $ as cash reserves.\n",
    "\n",
    "Its deposits over an infinite time horizon can be written as\n",
    "\n",
    "$$\n",
    "\\sum_{i=0}^\\infty (1-r)^i D_0\n",
    "$$\n",
    "\n",
    "Let’s compute the deposits at time $ t $"
   ]
  },
  {
   "cell_type": "markdown",
   "id": "3609d1b9",
   "metadata": {
    "hide-output": false
   },
   "source": [
    "```ipython3\n",
    "D = symbols('D_0')\n",
    "r = Symbol('r', positive=True)\n",
    "Dt = Sum('(1 - r)^i * D_0', (i, 0, oo))\n",
    "Dt\n",
    "```\n"
   ]
  },
  {
   "cell_type": "markdown",
   "id": "e4eea473",
   "metadata": {},
   "source": [
    "We can call the `doit` method to evaluate the series"
   ]
  },
  {
   "cell_type": "markdown",
   "id": "12338b5f",
   "metadata": {
    "hide-output": false
   },
   "source": [
    "```ipython3\n",
    "Dt.doit()\n",
    "```\n"
   ]
  },
  {
   "cell_type": "markdown",
   "id": "3eb5c080",
   "metadata": {},
   "source": [
    "Simplifying the expression above gives"
   ]
  },
  {
   "cell_type": "markdown",
   "id": "feac1f94",
   "metadata": {
    "hide-output": false
   },
   "source": [
    "```ipython3\n",
    "simplify(Dt.doit())\n",
    "```\n"
   ]
  },
  {
   "cell_type": "markdown",
   "id": "6314d96a",
   "metadata": {},
   "source": [
    "This is consistent with the solution in the lecture on [geometric series](https://intro.quantecon.org/geom_series.html#example-the-money-multiplier-in-fractional-reserve-banking)."
   ]
  },
  {
   "cell_type": "markdown",
   "id": "9d99d526",
   "metadata": {},
   "source": [
    "#### Example: discrete random variable\n",
    "\n",
    "In the following example, we compute the expectation of a discrete random variable.\n",
    "\n",
    "Let’s define a discrete random variable $ X $ following a [Poisson distribution](https://en.wikipedia.org/wiki/Poisson_distribution):\n",
    "\n",
    "$$\n",
    "f(x) = \\frac{\\lambda^x e^{-\\lambda}}{x!}, \\quad x = 0, 1, 2, \\ldots\n",
    "$$"
   ]
  },
  {
   "cell_type": "markdown",
   "id": "46914b9d",
   "metadata": {
    "hide-output": false
   },
   "source": [
    "```ipython3\n",
    "λ = symbols('lambda')\n",
    "\n",
    "# We refine the symbol x to positive integers\n",
    "x = Symbol('x', integer=True, positive=True)\n",
    "pmf = λ**x * exp(-λ) / factorial(x)\n",
    "pmf\n",
    "```\n"
   ]
  },
  {
   "cell_type": "markdown",
   "id": "984ac48d",
   "metadata": {},
   "source": [
    "We can verify if the sum of probabilities for all possible values equals $ 1 $:\n",
    "\n",
    "$$\n",
    "\\sum_{x=0}^{\\infty} f(x) = 1\n",
    "$$"
   ]
  },
  {
   "cell_type": "markdown",
   "id": "fc1c65fd",
   "metadata": {
    "hide-output": false
   },
   "source": [
    "```ipython3\n",
    "sum_pmf = Sum(pmf, (x, 0, oo))\n",
    "sum_pmf.doit()\n",
    "```\n"
   ]
  },
  {
   "cell_type": "markdown",
   "id": "f7fb2153",
   "metadata": {},
   "source": [
    "The expectation of the distribution is:\n",
    "\n",
    "$$\n",
    "E(X) = \\sum_{x=0}^{\\infty} x f(x)\n",
    "$$"
   ]
  },
  {
   "cell_type": "markdown",
   "id": "84b55336",
   "metadata": {
    "hide-output": false
   },
   "source": [
    "```ipython3\n",
    "fx = Sum(x*pmf, (x, 0, oo))\n",
    "fx.doit()\n",
    "```\n"
   ]
  },
  {
   "cell_type": "markdown",
   "id": "c593bbb9",
   "metadata": {},
   "source": [
    "SymPy includes a statistics submodule called [`Stats`](https://docs.sympy.org/latest/modules/stats.html).\n",
    "\n",
    "`Stats` offers built-in distributions and functions on probability distributions.\n",
    "\n",
    "The computation above can also be condensed into one line using the expectation function `E` in the `Stats` module"
   ]
  },
  {
   "cell_type": "markdown",
   "id": "9201a34f",
   "metadata": {
    "hide-output": false
   },
   "source": [
    "```ipython3\n",
    "λ = Symbol(\"λ\", positive = True)\n",
    "\n",
    "# Using sympy.stats.Poisson() method\n",
    "X = Poisson(\"x\", λ)\n",
    "E(X)\n",
    "```\n"
   ]
  },
  {
   "cell_type": "markdown",
   "id": "03417b0f",
   "metadata": {},
   "source": [
    "## Symbolic Calculus\n",
    "\n",
    "SymPy allows us to perform various calculus operations, such as limits, differentiation, and integration."
   ]
  },
  {
   "cell_type": "markdown",
   "id": "3c2f3d1c",
   "metadata": {},
   "source": [
    "### Limits\n",
    "\n",
    "We can compute limits for a given expression using the `limit` function"
   ]
  },
  {
   "cell_type": "markdown",
   "id": "a5debef3",
   "metadata": {
    "hide-output": false
   },
   "source": [
    "```ipython3\n",
    "# Define an expression\n",
    "f = x**2 / (x-1)\n",
    "\n",
    "# Compute the limit\n",
    "lim = limit(f, x, 0)\n",
    "lim\n",
    "```\n"
   ]
  },
  {
   "cell_type": "markdown",
   "id": "9206867c",
   "metadata": {},
   "source": [
    "### Derivatives\n",
    "\n",
    "We can differentiate any SymPy expression using the `diff` function"
   ]
  },
  {
   "cell_type": "markdown",
   "id": "279cf480",
   "metadata": {
    "hide-output": false
   },
   "source": [
    "```ipython3\n",
    "# Differentiate a function with respect to x\n",
    "df = diff(f, x)\n",
    "df\n",
    "```\n"
   ]
  },
  {
   "cell_type": "markdown",
   "id": "738e813b",
   "metadata": {},
   "source": [
    "### Integrals\n",
    "\n",
    "We can compute definite and indefinite integrals using the `integrate` function"
   ]
  },
  {
   "cell_type": "markdown",
   "id": "14e2bb56",
   "metadata": {
    "hide-output": false
   },
   "source": [
    "```ipython3\n",
    "# Calculate the indefinite integral\n",
    "indef_int = integrate(df, x)\n",
    "indef_int\n",
    "```\n"
   ]
  },
  {
   "cell_type": "markdown",
   "id": "9fc6df56",
   "metadata": {},
   "source": [
    "Let’s use this function to compute the moment-generating function of [exponential distribution](https://en.wikipedia.org/wiki/Exponential_distribution) with the probability density function:\n",
    "\n",
    "$$\n",
    "f(x) = \\lambda e^{-\\lambda x}, \\quad x \\ge 0\n",
    "$$"
   ]
  },
  {
   "cell_type": "markdown",
   "id": "5c6d2070",
   "metadata": {
    "hide-output": false
   },
   "source": [
    "```ipython3\n",
    "λ = Symbol('lambda', positive=True)\n",
    "x = Symbol('x', positive=True)\n",
    "pdf = λ * exp(-λ*x)\n",
    "pdf\n",
    "```\n"
   ]
  },
  {
   "cell_type": "markdown",
   "id": "97543142",
   "metadata": {
    "hide-output": false
   },
   "source": [
    "```ipython3\n",
    "t = Symbol('t', positive=True)\n",
    "moment_t = integrate(exp(t*x) * pdf, (x, 0, oo))\n",
    "simplify(moment_t)\n",
    "```\n"
   ]
  },
  {
   "cell_type": "markdown",
   "id": "4b749bcd",
   "metadata": {},
   "source": [
    "Note that we can also use `Stats` module to compute the moment"
   ]
  },
  {
   "cell_type": "markdown",
   "id": "bad7993c",
   "metadata": {
    "hide-output": false
   },
   "source": [
    "```ipython3\n",
    "X = Exponential(x, λ)\n",
    "```\n"
   ]
  },
  {
   "cell_type": "markdown",
   "id": "3a27b53d",
   "metadata": {
    "hide-output": false
   },
   "source": [
    "```ipython3\n",
    "moment(X, 1)\n",
    "```\n"
   ]
  },
  {
   "cell_type": "markdown",
   "id": "9ddbea4d",
   "metadata": {
    "hide-output": false
   },
   "source": [
    "```ipython3\n",
    "E(X**t)\n",
    "```\n"
   ]
  },
  {
   "cell_type": "markdown",
   "id": "4f528f54",
   "metadata": {},
   "source": [
    "Using the `integrate` function, we can derive the cumulative density function of the exponential distribution with $ \\lambda = 0.5 $"
   ]
  },
  {
   "cell_type": "markdown",
   "id": "2c2b305a",
   "metadata": {
    "hide-output": false
   },
   "source": [
    "```ipython3\n",
    "λ_pdf = pdf.subs(λ, 1/2)\n",
    "λ_pdf\n",
    "```\n"
   ]
  },
  {
   "cell_type": "markdown",
   "id": "9d8fd4bf",
   "metadata": {
    "hide-output": false
   },
   "source": [
    "```ipython3\n",
    "integrate(λ_pdf, (x, 0, 4))\n",
    "```\n"
   ]
  },
  {
   "cell_type": "markdown",
   "id": "8611cb28",
   "metadata": {},
   "source": [
    "Using `cdf` in `Stats` module gives the same solution"
   ]
  },
  {
   "cell_type": "markdown",
   "id": "afe9fc15",
   "metadata": {
    "hide-output": false
   },
   "source": [
    "```ipython3\n",
    "cdf(X, 1/2)\n",
    "```\n"
   ]
  },
  {
   "cell_type": "markdown",
   "id": "548a653d",
   "metadata": {
    "hide-output": false
   },
   "source": [
    "```ipython3\n",
    "# Plug in a value for z \n",
    "λ_cdf = cdf(X, 1/2)(4)\n",
    "λ_cdf\n",
    "```\n"
   ]
  },
  {
   "cell_type": "markdown",
   "id": "1670014f",
   "metadata": {
    "hide-output": false
   },
   "source": [
    "```ipython3\n",
    "# Substitute λ\n",
    "λ_cdf.subs({λ: 1/2})\n",
    "```\n"
   ]
  },
  {
   "cell_type": "markdown",
   "id": "8d4a9603",
   "metadata": {},
   "source": [
    "## Plotting\n",
    "\n",
    "SymPy provides a powerful plotting feature.\n",
    "\n",
    "First we plot a simple function using the `plot` function"
   ]
  },
  {
   "cell_type": "markdown",
   "id": "289ee4b6",
   "metadata": {
    "hide-output": false
   },
   "source": [
    "```ipython3\n",
    "f = sin(2 * sin(2 * sin(2 * sin(x))))\n",
    "p = plot(f, (x, -10, 10), show=False)\n",
    "p.title = 'A Simple Plot'\n",
    "p.show()\n",
    "```\n"
   ]
  },
  {
   "cell_type": "markdown",
   "id": "fa6793e0",
   "metadata": {},
   "source": [
    "Similar to Matplotlib, SymPy provides an interface to customize the graph"
   ]
  },
  {
   "cell_type": "markdown",
   "id": "7225cdf1",
   "metadata": {
    "hide-output": false
   },
   "source": [
    "```ipython3\n",
    "plot_f = plot(f, (x, -10, 10), \n",
    "              xlabel='', ylabel='', \n",
    "              legend = True, show = False)\n",
    "plot_f[0].label = 'f(x)'\n",
    "df = diff(f)\n",
    "plot_df = plot(df, (x, -10, 10), \n",
    "            legend = True, show = False)\n",
    "plot_df[0].label = 'f\\'(x)'\n",
    "plot_f.append(plot_df[0])\n",
    "plot_f.show()\n",
    "```\n"
   ]
  },
  {
   "cell_type": "markdown",
   "id": "46225e33",
   "metadata": {},
   "source": [
    "It also supports plotting implicit functions and visualizing inequalities"
   ]
  },
  {
   "cell_type": "markdown",
   "id": "5e0a2cec",
   "metadata": {
    "hide-output": false
   },
   "source": [
    "```ipython3\n",
    "p = plot_implicit(Eq((1/x + 1/y)**2, 1))\n",
    "```\n"
   ]
  },
  {
   "cell_type": "markdown",
   "id": "bcd4b434",
   "metadata": {
    "hide-output": false
   },
   "source": [
    "```ipython3\n",
    "p = plot_implicit(And(2*x + 5*y <= 30, 4*x + 2*y >= 20),\n",
    "                     (x, -1, 10), (y, -10, 10))\n",
    "```\n"
   ]
  },
  {
   "cell_type": "markdown",
   "id": "ebaca12b",
   "metadata": {},
   "source": [
    "and visualizations in three-dimensional space"
   ]
  },
  {
   "cell_type": "markdown",
   "id": "dc041d76",
   "metadata": {
    "hide-output": false
   },
   "source": [
    "```ipython3\n",
    "p = plot3d(cos(2*x + y), zlabel='')\n",
    "```\n"
   ]
  },
  {
   "cell_type": "markdown",
   "id": "799644b8",
   "metadata": {},
   "source": [
    "## Application: Two-person Exchange Economy\n",
    "\n",
    "Imagine a pure exchange economy with two people ($ a $ and $ b $) and two goods recorded as proportions ($ x $ and $ y $).\n",
    "\n",
    "They can trade goods with each other according to their preferences.\n",
    "\n",
    "Assume that the utility functions of the consumers are given by\n",
    "\n",
    "$$\n",
    "u_a(x, y) = x^{\\alpha} y^{1-\\alpha}\n",
    "$$\n",
    "\n",
    "$$\n",
    "u_b(x, y) = (1 - x)^{\\beta} (1 - y)^{1-\\beta}\n",
    "$$\n",
    "\n",
    "where $ \\alpha, \\beta \\in (0, 1) $.\n",
    "\n",
    "First we define the symbols and utility functions"
   ]
  },
  {
   "cell_type": "markdown",
   "id": "a1661284",
   "metadata": {
    "hide-output": false
   },
   "source": [
    "```ipython3\n",
    "# Define symbols and utility functions\n",
    "x, y, α, β = symbols('x, y, α, β')\n",
    "u_a = x**α * y**(1-α)\n",
    "u_b = (1 - x)**β * (1 - y)**(1 - β)\n",
    "```\n"
   ]
  },
  {
   "cell_type": "markdown",
   "id": "d593b42e",
   "metadata": {
    "hide-output": false
   },
   "source": [
    "```ipython3\n",
    "u_a\n",
    "```\n"
   ]
  },
  {
   "cell_type": "markdown",
   "id": "1b9fa414",
   "metadata": {
    "hide-output": false
   },
   "source": [
    "```ipython3\n",
    "u_b\n",
    "```\n"
   ]
  },
  {
   "cell_type": "markdown",
   "id": "c3bff19b",
   "metadata": {},
   "source": [
    "We are interested in the Pareto optimal allocation of goods $ x $ and $ y $.\n",
    "\n",
    "Note that a point is Pareto efficient when the allocation is optimal for one person given the allocation for the other person.\n",
    "\n",
    "In terms of marginal utility:\n",
    "\n",
    "$$\n",
    "\\frac{\\frac{\\partial u_a}{\\partial x}}{\\frac{\\partial u_a}{\\partial y}} = \\frac{\\frac{\\partial u_b}{\\partial x}}{\\frac{\\partial u_b}{\\partial y}}\n",
    "$$"
   ]
  },
  {
   "cell_type": "markdown",
   "id": "48c5f87c",
   "metadata": {
    "hide-output": false
   },
   "source": [
    "```ipython3\n",
    "# A point is Pareto efficient when the allocation is optimal \n",
    "# for one person given the allocation for the other person\n",
    "\n",
    "pareto = Eq(diff(u_a, x)/diff(u_a, y), \n",
    "            diff(u_b, x)/diff(u_b, y))\n",
    "pareto\n",
    "```\n"
   ]
  },
  {
   "cell_type": "markdown",
   "id": "20e7ebf8",
   "metadata": {
    "hide-output": false
   },
   "source": [
    "```ipython3\n",
    "# Solve the equation\n",
    "sol = solve(pareto, y)[0]\n",
    "sol\n",
    "```\n"
   ]
  },
  {
   "cell_type": "markdown",
   "id": "fc4e4de4",
   "metadata": {},
   "source": [
    "Let’s compute the Pareto optimal allocations of the economy (contract curves) with $ \\alpha = \\beta = 0.5 $ using SymPy"
   ]
  },
  {
   "cell_type": "markdown",
   "id": "08cfbfcb",
   "metadata": {
    "hide-output": false
   },
   "source": [
    "```ipython3\n",
    "# Substitute α = 0.5 and β = 0.5\n",
    "sol.subs({α: 0.5, β: 0.5})\n",
    "```\n"
   ]
  },
  {
   "cell_type": "markdown",
   "id": "c3d0e0de",
   "metadata": {},
   "source": [
    "We can use this result to visualize more contract curves under different parameters"
   ]
  },
  {
   "cell_type": "markdown",
   "id": "aa015d78",
   "metadata": {
    "hide-output": false
   },
   "source": [
    "```ipython3\n",
    "# Plot a range of αs and βs\n",
    "params = [{α: 0.5, β: 0.5}, \n",
    "          {α: 0.1, β: 0.9},\n",
    "          {α: 0.1, β: 0.8},\n",
    "          {α: 0.8, β: 0.9},\n",
    "          {α: 0.4, β: 0.8}, \n",
    "          {α: 0.8, β: 0.1},\n",
    "          {α: 0.9, β: 0.8},\n",
    "          {α: 0.8, β: 0.4},\n",
    "          {α: 0.9, β: 0.1}]\n",
    "\n",
    "p = plot(xlabel='x', ylabel='y', show=False)\n",
    "\n",
    "for param in params:\n",
    "    p_add = plot(sol.subs(param), (x, 0, 1), \n",
    "                 show=False)\n",
    "    p.append(p_add[0])\n",
    "p.show()\n",
    "```\n"
   ]
  },
  {
   "cell_type": "markdown",
   "id": "5b9b07ae",
   "metadata": {},
   "source": [
    "We invite you to play with the parameters and see how the contract curves change and think about the following two questions:\n",
    "\n",
    "- Can you think of a way to draw the same graph using `numpy`?  \n",
    "- How difficult will it be to write a `numpy` implementation?  "
   ]
  },
  {
   "cell_type": "markdown",
   "id": "97dda7c2",
   "metadata": {},
   "source": [
    "## Exercises"
   ]
  },
  {
   "cell_type": "markdown",
   "id": "3e25919b",
   "metadata": {},
   "source": [
    "## Exercise 16.1\n",
    "\n",
    "L’Hôpital’s rule states that for two functions $ f(x) $ and $ g(x) $, if $ \\lim_{x \\to a} f(x) = \\lim_{x \\to a} g(x) = 0 $ or $ \\pm \\infty $, then\n",
    "\n",
    "$$\n",
    "\\lim_{x \\to a} \\frac{f(x)}{g(x)} = \\lim_{x \\to a} \\frac{f'(x)}{g'(x)}\n",
    "$$\n",
    "\n",
    "Use SymPy to verify L’Hôpital’s rule for the following functions\n",
    "\n",
    "$$\n",
    "f(x) = \\frac{y^x - 1}{x}\n",
    "$$\n",
    "\n",
    "as $ x $ approaches to $ 0 $"
   ]
  },
  {
   "cell_type": "markdown",
   "id": "7361a2c8",
   "metadata": {},
   "source": [
    "## Solution to[ Exercise 16.1](#sympy_ex1)\n",
    "\n",
    "Let’s define the function first"
   ]
  },
  {
   "cell_type": "markdown",
   "id": "f1959d23",
   "metadata": {
    "hide-output": false
   },
   "source": [
    "```ipython3\n",
    "f_upper = y**x - 1\n",
    "f_lower = x\n",
    "f = f_upper/f_lower\n",
    "f\n",
    "```\n"
   ]
  },
  {
   "cell_type": "markdown",
   "id": "7c1eef7d",
   "metadata": {},
   "source": [
    "Sympy is smart enough to solve this limit"
   ]
  },
  {
   "cell_type": "markdown",
   "id": "b1332584",
   "metadata": {
    "hide-output": false
   },
   "source": [
    "```ipython3\n",
    "lim = limit(f, x, 0)\n",
    "lim\n",
    "```\n"
   ]
  },
  {
   "cell_type": "markdown",
   "id": "33af998a",
   "metadata": {},
   "source": [
    "We compare the result suggested by L’Hôpital’s rule"
   ]
  },
  {
   "cell_type": "markdown",
   "id": "ae0a7c28",
   "metadata": {
    "hide-output": false
   },
   "source": [
    "```ipython3\n",
    "lim = limit(diff(f_upper, x)/\n",
    "            diff(f_lower, x), x, 0)\n",
    "lim\n",
    "```\n"
   ]
  },
  {
   "cell_type": "markdown",
   "id": "2962ded3",
   "metadata": {},
   "source": [
    "## Exercise 16.2\n",
    "\n",
    "[Maximum likelihood estimation (MLE)](https://python.quantecon.org/mle.html) is a method to estimate the parameters of a statistical model.\n",
    "\n",
    "It usually involves maximizing a log-likelihood function and solving the first-order derivative.\n",
    "\n",
    "The binomial distribution is given by\n",
    "\n",
    "$$\n",
    "f(x; n, θ) = \\frac{n!}{x!(n-x)!}θ^x(1-θ)^{n-x}\n",
    "$$\n",
    "\n",
    "where $ n $ is the number of trials and $ x $ is the number of successes.\n",
    "\n",
    "Assume we observed a series of binary outcomes with $ x $ successes out of $ n $ trials.\n",
    "\n",
    "Compute the MLE of $ θ $ using SymPy"
   ]
  },
  {
   "cell_type": "markdown",
   "id": "fd6f3053",
   "metadata": {},
   "source": [
    "## Solution to[ Exercise 16.2](#sympy_ex2)\n",
    "\n",
    "First, we define the binomial distribution"
   ]
  },
  {
   "cell_type": "markdown",
   "id": "ebf0e8c6",
   "metadata": {
    "hide-output": false
   },
   "source": [
    "```ipython3\n",
    "n, x, θ = symbols('n x θ')\n",
    "\n",
    "binomial_factor = (factorial(n)) / (factorial(x)*factorial(n-r))\n",
    "binomial_factor\n",
    "```\n"
   ]
  },
  {
   "cell_type": "markdown",
   "id": "bbd4e44d",
   "metadata": {
    "hide-output": false
   },
   "source": [
    "```ipython3\n",
    "bino_dist = binomial_factor * ((θ**x)*(1-θ)**(n-x))\n",
    "bino_dist\n",
    "```\n"
   ]
  },
  {
   "cell_type": "markdown",
   "id": "038e945d",
   "metadata": {},
   "source": [
    "Now we compute the log-likelihood function and solve for the result"
   ]
  },
  {
   "cell_type": "markdown",
   "id": "eb36afb9",
   "metadata": {
    "hide-output": false
   },
   "source": [
    "```ipython3\n",
    "log_bino_dist = log(bino_dist)\n",
    "```\n"
   ]
  },
  {
   "cell_type": "markdown",
   "id": "32928f16",
   "metadata": {
    "hide-output": false
   },
   "source": [
    "```ipython3\n",
    "log_bino_diff = simplify(diff(log_bino_dist, θ))\n",
    "log_bino_diff\n",
    "```\n"
   ]
  },
  {
   "cell_type": "markdown",
   "id": "fd99e845",
   "metadata": {
    "hide-output": false
   },
   "source": [
    "```ipython3\n",
    "solve(Eq(log_bino_diff, 0), θ)[0]\n",
    "```\n"
   ]
  }
 ],
 "metadata": {
  "date": 1753420494.4999611,
  "filename": "sympy.md",
  "kernelspec": {
   "display_name": "Python",
   "language": "python3",
   "name": "python3"
  },
  "title": "SymPy"
 },
 "nbformat": 4,
 "nbformat_minor": 5
}