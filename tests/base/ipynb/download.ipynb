{
 "cells": [
  {
   "cell_type": "markdown",
   "id": "f74366ef",
   "metadata": {},
   "source": [
    "# Download\n",
    "\n",
    "Add test for download directive <a href=_static/test_pwt.csv download>here</a>"
   ]
  }
 ],
 "metadata": {
  "date": 1679270225.3876522,
  "filename": "download.rst",
  "kernelspec": {
   "display_name": "Python",
   "language": "python3",
   "name": "python3"
  },
  "title": "Download"
 },
 "nbformat": 4,
 "nbformat_minor": 5
}