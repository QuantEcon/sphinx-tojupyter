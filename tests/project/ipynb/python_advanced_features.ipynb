{
 "cells": [
  {
   "cell_type": "markdown",
   "id": "15faf079",
   "metadata": {},
   "source": [
    "\n",
    "<a id='python-advanced-features'></a>\n",
    "<div id=\"qe-notebook-header\" align=\"right\" style=\"text-align:right;\">\n",
    "        <a href=\"https://quantecon.org/\" title=\"quantecon.org\">\n",
    "                <img style=\"width:250px;display:inline;\" width=\"250px\" src=\"https://assets.quantecon.org/img/qe-menubar-logo.svg\" alt=\"QuantEcon\">\n",
    "        </a>\n",
    "</div>"
   ]
  },
  {
   "cell_type": "markdown",
   "id": "a65672d2",
   "metadata": {},
   "source": [
    "# More Language Features"
   ]
  },
  {
   "cell_type": "markdown",
   "id": "396169c3",
   "metadata": {},
   "source": [
    "## Contents\n",
    "\n",
    "- [More Language Features](#More-Language-Features)  \n",
    "  - [Overview](#Overview)  \n",
    "  - [Iterables and Iterators](#Iterables-and-Iterators)  \n",
    "  - [Names and Name Resolution](#Names-and-Name-Resolution)  \n",
    "  - [Handling Errors](#Handling-Errors)  \n",
    "  - [Decorators and Descriptors](#Decorators-and-Descriptors)  \n",
    "  - [Generators](#Generators)  \n",
    "  - [Recursive Function Calls](#Recursive-Function-Calls)  \n",
    "  - [Exercises](#Exercises)  \n",
    "  - [Solutions](#Solutions)  "
   ]
  },
  {
   "cell_type": "markdown",
   "id": "3c610bf1",
   "metadata": {},
   "source": [
    "## Overview\n",
    "\n",
    "With this last lecture, our advice is to **skip it on first pass**, unless you have a burning desire to read it.\n",
    "\n",
    "It’s here\n",
    "\n",
    "1. as a reference, so we can link back to it when required, and  \n",
    "1. for those who have worked through a number of applications, and now want to learn more about the Python language  \n",
    "\n",
    "\n",
    "A variety of topics are treated in the lecture, including generators, exceptions and descriptors."
   ]
  },
  {
   "cell_type": "markdown",
   "id": "eebdba0a",
   "metadata": {},
   "source": [
    "## Iterables and Iterators\n",
    "\n",
    "\n",
    "<a id='index-0'></a>\n",
    "We’ve [already said something](https://python-programming.quantecon.org/python_essentials.html#iterating-version-1) about iterating in Python.\n",
    "\n",
    "Now let’s look more closely at how it all works, focusing in Python’s implementation of the `for` loop."
   ]
  },
  {
   "cell_type": "markdown",
   "id": "f9a7abc3",
   "metadata": {},
   "source": [
    "### Iterators\n",
    "\n",
    "\n",
    "<a id='index-1'></a>\n",
    "Iterators are a uniform interface to stepping through elements in a collection.\n",
    "\n",
    "Here we’ll talk about using iterators—later we’ll learn how to build our own.\n",
    "\n",
    "Formally, an *iterator* is an object with a `__next__` method.\n",
    "\n",
    "For example, file objects are iterators .\n",
    "\n",
    "To see this, let’s have another look at the [US cities data](https://python-programming.quantecon.org/python_essentials.html#us-cities-data),\n",
    "which is written to the present working directory in the following cell"
   ]
  },
  {
   "cell_type": "code",
   "execution_count": null,
   "id": "d9a452ff",
   "metadata": {
    "hide-output": false
   },
   "outputs": [],
   "source": [
    "%%file us_cities.txt\n",
    "new york: 8244910\n",
    "los angeles: 3819702\n",
    "chicago: 2707120\n",
    "houston: 2145146\n",
    "philadelphia: 1536471\n",
    "phoenix: 1469471\n",
    "san antonio: 1359758\n",
    "san diego: 1326179\n",
    "dallas: 1223229"
   ]
  },
  {
   "cell_type": "markdown",
   "id": "013c18c3",
   "metadata": {
    "hide-output": false
   },
   "source": [
    "```myst-ansi\n",
    "Writing us_cities.txt\n",
    "```\n"
   ]
  },
  {
   "cell_type": "code",
   "execution_count": null,
   "id": "546c3253",
   "metadata": {
    "hide-output": false
   },
   "outputs": [],
   "source": [
    "f = open('us_cities.txt')\n",
    "f.__next__()"
   ]
  },
  {
   "cell_type": "markdown",
   "id": "eeda8b31",
   "metadata": {
    "hide-output": false
   },
   "source": [
    "```myst-ansi\n",
    "'new york: 8244910\\n'\n",
    "```\n"
   ]
  },
  {
   "cell_type": "code",
   "execution_count": null,
   "id": "c55db99c",
   "metadata": {
    "hide-output": false
   },
   "outputs": [],
   "source": [
    "f.__next__()"
   ]
  },
  {
   "cell_type": "markdown",
   "id": "daf31253",
   "metadata": {
    "hide-output": false
   },
   "source": [
    "```myst-ansi\n",
    "'los angeles: 3819702\\n'\n",
    "```\n"
   ]
  },
  {
   "cell_type": "markdown",
   "id": "2946151d",
   "metadata": {},
   "source": [
    "We see that file objects do indeed have a `__next__` method, and that calling this method returns the next line in the file.\n",
    "\n",
    "The next method can also be accessed via the builtin function `next()`,\n",
    "which directly calls this method"
   ]
  },
  {
   "cell_type": "code",
   "execution_count": null,
   "id": "c28147e5",
   "metadata": {
    "hide-output": false
   },
   "outputs": [],
   "source": [
    "next(f)"
   ]
  },
  {
   "cell_type": "markdown",
   "id": "a4c1ef59",
   "metadata": {
    "hide-output": false
   },
   "source": [
    "```myst-ansi\n",
    "'chicago: 2707120\\n'\n",
    "```\n"
   ]
  },
  {
   "cell_type": "markdown",
   "id": "f3af0b2a",
   "metadata": {},
   "source": [
    "The objects returned by `enumerate()` are also iterators"
   ]
  },
  {
   "cell_type": "code",
   "execution_count": null,
   "id": "1119e80e",
   "metadata": {
    "hide-output": false
   },
   "outputs": [],
   "source": [
    "e = enumerate(['foo', 'bar'])\n",
    "next(e)"
   ]
  },
  {
   "cell_type": "markdown",
   "id": "27c6620e",
   "metadata": {
    "hide-output": false
   },
   "source": [
    "```myst-ansi\n",
    "(0, 'foo')\n",
    "```\n"
   ]
  },
  {
   "cell_type": "code",
   "execution_count": null,
   "id": "c837985a",
   "metadata": {
    "hide-output": false
   },
   "outputs": [],
   "source": [
    "next(e)"
   ]
  },
  {
   "cell_type": "markdown",
   "id": "081b8f3b",
   "metadata": {
    "hide-output": false
   },
   "source": [
    "```myst-ansi\n",
    "(1, 'bar')\n",
    "```\n"
   ]
  },
  {
   "cell_type": "markdown",
   "id": "8c9901a2",
   "metadata": {},
   "source": [
    "as are the reader objects from the `csv` module .\n",
    "\n",
    "Let’s create a small csv file that contains data from the NIKKEI index"
   ]
  },
  {
   "cell_type": "code",
   "execution_count": null,
   "id": "29f43fc5",
   "metadata": {
    "hide-output": false
   },
   "outputs": [],
   "source": [
    "%%file test_table.csv\n",
    "Date,Open,High,Low,Close,Volume,Adj Close\n",
    "2009-05-21,9280.35,9286.35,9189.92,9264.15,133200,9264.15\n",
    "2009-05-20,9372.72,9399.40,9311.61,9344.64,143200,9344.64\n",
    "2009-05-19,9172.56,9326.75,9166.97,9290.29,167000,9290.29\n",
    "2009-05-18,9167.05,9167.82,8997.74,9038.69,147800,9038.69\n",
    "2009-05-15,9150.21,9272.08,9140.90,9265.02,172000,9265.02\n",
    "2009-05-14,9212.30,9223.77,9052.41,9093.73,169400,9093.73\n",
    "2009-05-13,9305.79,9379.47,9278.89,9340.49,176000,9340.49\n",
    "2009-05-12,9358.25,9389.61,9298.61,9298.61,188400,9298.61\n",
    "2009-05-11,9460.72,9503.91,9342.75,9451.98,230800,9451.98\n",
    "2009-05-08,9351.40,9464.43,9349.57,9432.83,220200,9432.83"
   ]
  },
  {
   "cell_type": "markdown",
   "id": "349d0ddc",
   "metadata": {
    "hide-output": false
   },
   "source": [
    "```myst-ansi\n",
    "Writing test_table.csv\n",
    "```\n"
   ]
  },
  {
   "cell_type": "code",
   "execution_count": null,
   "id": "d3c8b2b0",
   "metadata": {
    "hide-output": false
   },
   "outputs": [],
   "source": [
    "from csv import reader\n",
    "\n",
    "f = open('test_table.csv', 'r')\n",
    "nikkei_data = reader(f)\n",
    "next(nikkei_data)"
   ]
  },
  {
   "cell_type": "markdown",
   "id": "3a736b6b",
   "metadata": {
    "hide-output": false
   },
   "source": [
    "```myst-ansi\n",
    "['Date', 'Open', 'High', 'Low', 'Close', 'Volume', 'Adj Close']\n",
    "```\n"
   ]
  },
  {
   "cell_type": "code",
   "execution_count": null,
   "id": "6efe481b",
   "metadata": {
    "hide-output": false
   },
   "outputs": [],
   "source": [
    "next(nikkei_data)"
   ]
  },
  {
   "cell_type": "markdown",
   "id": "57f41411",
   "metadata": {
    "hide-output": false
   },
   "source": [
    "```myst-ansi\n",
    "['2009-05-21', '9280.35', '9286.35', '9189.92', '9264.15', '133200', '9264.15']\n",
    "```\n"
   ]
  },
  {
   "cell_type": "markdown",
   "id": "5e1dde60",
   "metadata": {},
   "source": [
    "### Iterators in For Loops\n",
    "\n",
    "\n",
    "<a id='index-2'></a>\n",
    "All iterators can be placed to the right of the `in` keyword in `for` loop statements.\n",
    "\n",
    "In fact this is how the `for` loop works:  If we write"
   ]
  },
  {
   "cell_type": "markdown",
   "id": "92e82760",
   "metadata": {
    "hide-output": false
   },
   "source": [
    "```python3\n",
    "for x in iterator:\n",
    "    <code block>\n",
    "```\n"
   ]
  },
  {
   "cell_type": "markdown",
   "id": "287011ee",
   "metadata": {},
   "source": [
    "then the interpreter\n",
    "\n",
    "- calls `iterator.___next___()` and binds `x` to the result  \n",
    "- executes the code block  \n",
    "- repeats until a `StopIteration` error occurs  \n",
    "\n",
    "\n",
    "So now you know how this magical looking syntax works"
   ]
  },
  {
   "cell_type": "markdown",
   "id": "f8fdafb9",
   "metadata": {
    "hide-output": false
   },
   "source": [
    "```python3\n",
    "f = open('somefile.txt', 'r')\n",
    "for line in f:\n",
    "    # do something\n",
    "```\n"
   ]
  },
  {
   "cell_type": "markdown",
   "id": "3a4e1a9d",
   "metadata": {},
   "source": [
    "The interpreter just keeps\n",
    "\n",
    "1. calling `f.__next__()` and binding `line` to the result  \n",
    "1. executing the body of the loop  \n",
    "\n",
    "\n",
    "This continues until a `StopIteration` error occurs."
   ]
  },
  {
   "cell_type": "markdown",
   "id": "04939c4f",
   "metadata": {},
   "source": [
    "### Iterables\n",
    "\n",
    "\n",
    "<a id='index-3'></a>\n",
    "You already know that we can put a Python list to the right of `in` in a `for` loop"
   ]
  },
  {
   "cell_type": "code",
   "execution_count": null,
   "id": "5507e0bb",
   "metadata": {
    "hide-output": false
   },
   "outputs": [],
   "source": [
    "for i in ['spam', 'eggs']:\n",
    "    print(i)"
   ]
  },
  {
   "cell_type": "markdown",
   "id": "11b4ffd8",
   "metadata": {
    "hide-output": false
   },
   "source": [
    "```myst-ansi\n",
    "spam\n",
    "eggs\n",
    "```\n"
   ]
  },
  {
   "cell_type": "markdown",
   "id": "0723b454",
   "metadata": {},
   "source": [
    "So does that mean that a list is an iterator?\n",
    "\n",
    "The answer is no"
   ]
  },
  {
   "cell_type": "code",
   "execution_count": null,
   "id": "80b35ae8",
   "metadata": {
    "hide-output": false
   },
   "outputs": [],
   "source": [
    "x = ['foo', 'bar']\n",
    "type(x)"
   ]
  },
  {
   "cell_type": "markdown",
   "id": "e6060c51",
   "metadata": {
    "hide-output": false
   },
   "source": [
    "```myst-ansi\n",
    "list\n",
    "```\n"
   ]
  },
  {
   "cell_type": "code",
   "execution_count": null,
   "id": "5312b9dc",
   "metadata": {
    "hide-output": false
   },
   "outputs": [],
   "source": [
    "next(x)"
   ]
  },
  {
   "cell_type": "markdown",
   "id": "1619d06d",
   "metadata": {
    "hide-output": false
   },
   "source": [
    "```ipythontb\n",
    "---------------------------------------------------------------------------\n",
    "TypeError                                 Traceback (most recent call last)\n",
    "Cell In[12], line 1\n",
    "----> 1 next(x)\n",
    "\n",
    "TypeError: 'list' object is not an iterator\n",
    "```\n"
   ]
  },
  {
   "cell_type": "markdown",
   "id": "78b9247b",
   "metadata": {},
   "source": [
    "So why can we iterate over a list in a `for` loop?\n",
    "\n",
    "The reason is that a list is *iterable* (as opposed to an iterator).\n",
    "\n",
    "Formally, an object is iterable if it can be converted to an iterator using the built-in function `iter()`.\n",
    "\n",
    "Lists are one such object"
   ]
  },
  {
   "cell_type": "code",
   "execution_count": null,
   "id": "fe8b221a",
   "metadata": {
    "hide-output": false
   },
   "outputs": [],
   "source": [
    "x = ['foo', 'bar']\n",
    "type(x)"
   ]
  },
  {
   "cell_type": "markdown",
   "id": "954bf396",
   "metadata": {
    "hide-output": false
   },
   "source": [
    "```myst-ansi\n",
    "list\n",
    "```\n"
   ]
  },
  {
   "cell_type": "code",
   "execution_count": null,
   "id": "b296fcad",
   "metadata": {
    "hide-output": false
   },
   "outputs": [],
   "source": [
    "y = iter(x)\n",
    "type(y)"
   ]
  },
  {
   "cell_type": "markdown",
   "id": "9e997692",
   "metadata": {
    "hide-output": false
   },
   "source": [
    "```myst-ansi\n",
    "list_iterator\n",
    "```\n"
   ]
  },
  {
   "cell_type": "code",
   "execution_count": null,
   "id": "98dd9e99",
   "metadata": {
    "hide-output": false
   },
   "outputs": [],
   "source": [
    "next(y)"
   ]
  },
  {
   "cell_type": "markdown",
   "id": "a8d9cc73",
   "metadata": {
    "hide-output": false
   },
   "source": [
    "```myst-ansi\n",
    "'foo'\n",
    "```\n"
   ]
  },
  {
   "cell_type": "code",
   "execution_count": null,
   "id": "a2a9fa24",
   "metadata": {
    "hide-output": false
   },
   "outputs": [],
   "source": [
    "next(y)"
   ]
  },
  {
   "cell_type": "markdown",
   "id": "e7815aa4",
   "metadata": {
    "hide-output": false
   },
   "source": [
    "```myst-ansi\n",
    "'bar'\n",
    "```\n"
   ]
  },
  {
   "cell_type": "code",
   "execution_count": null,
   "id": "7615016e",
   "metadata": {
    "hide-output": false
   },
   "outputs": [],
   "source": [
    "next(y)"
   ]
  },
  {
   "cell_type": "markdown",
   "id": "3cf11f8c",
   "metadata": {
    "hide-output": false
   },
   "source": [
    "```ipythontb\n",
    "---------------------------------------------------------------------------\n",
    "StopIteration                             Traceback (most recent call last)\n",
    "Cell In[17], line 1\n",
    "----> 1 next(y)\n",
    "\n",
    "StopIteration: \n",
    "```\n"
   ]
  },
  {
   "cell_type": "markdown",
   "id": "977e2d31",
   "metadata": {},
   "source": [
    "Many other objects are iterable, such as dictionaries and tuples.\n",
    "\n",
    "Of course, not all objects are iterable"
   ]
  },
  {
   "cell_type": "code",
   "execution_count": null,
   "id": "efaf3f56",
   "metadata": {
    "hide-output": false
   },
   "outputs": [],
   "source": [
    "iter(42)"
   ]
  },
  {
   "cell_type": "markdown",
   "id": "0ff23e81",
   "metadata": {
    "hide-output": false
   },
   "source": [
    "```ipythontb\n",
    "---------------------------------------------------------------------------\n",
    "TypeError                                 Traceback (most recent call last)\n",
    "Cell In[18], line 1\n",
    "----> 1 iter(42)\n",
    "\n",
    "TypeError: 'int' object is not iterable\n",
    "```\n"
   ]
  },
  {
   "cell_type": "markdown",
   "id": "3984ba4f",
   "metadata": {},
   "source": [
    "To conclude our discussion of `for` loops\n",
    "\n",
    "- `for` loops work on either iterators or iterables.  \n",
    "- In the second case, the iterable is converted into an iterator before the loop starts.  "
   ]
  },
  {
   "cell_type": "markdown",
   "id": "c0e03058",
   "metadata": {},
   "source": [
    "### Iterators and built-ins\n",
    "\n",
    "\n",
    "<a id='index-4'></a>\n",
    "Some built-in functions that act on sequences also work with iterables\n",
    "\n",
    "- `max()`, `min()`, `sum()`, `all()`, `any()`  \n",
    "\n",
    "\n",
    "For example"
   ]
  },
  {
   "cell_type": "code",
   "execution_count": null,
   "id": "a9937f5f",
   "metadata": {
    "hide-output": false
   },
   "outputs": [],
   "source": [
    "x = [10, -10]\n",
    "max(x)"
   ]
  },
  {
   "cell_type": "markdown",
   "id": "10586a2c",
   "metadata": {
    "hide-output": false
   },
   "source": [
    "```myst-ansi\n",
    "10\n",
    "```\n"
   ]
  },
  {
   "cell_type": "code",
   "execution_count": null,
   "id": "efae48d4",
   "metadata": {
    "hide-output": false
   },
   "outputs": [],
   "source": [
    "y = iter(x)\n",
    "type(y)"
   ]
  },
  {
   "cell_type": "markdown",
   "id": "f50fb432",
   "metadata": {
    "hide-output": false
   },
   "source": [
    "```myst-ansi\n",
    "list_iterator\n",
    "```\n"
   ]
  },
  {
   "cell_type": "code",
   "execution_count": null,
   "id": "4f2ca574",
   "metadata": {
    "hide-output": false
   },
   "outputs": [],
   "source": [
    "max(y)"
   ]
  },
  {
   "cell_type": "markdown",
   "id": "a6b02294",
   "metadata": {
    "hide-output": false
   },
   "source": [
    "```myst-ansi\n",
    "10\n",
    "```\n"
   ]
  },
  {
   "cell_type": "markdown",
   "id": "2d099a4b",
   "metadata": {},
   "source": [
    "One thing to remember about iterators is that they are depleted by use"
   ]
  },
  {
   "cell_type": "code",
   "execution_count": null,
   "id": "f8db8121",
   "metadata": {
    "hide-output": false
   },
   "outputs": [],
   "source": [
    "x = [10, -10]\n",
    "y = iter(x)\n",
    "max(y)"
   ]
  },
  {
   "cell_type": "markdown",
   "id": "62e2911d",
   "metadata": {
    "hide-output": false
   },
   "source": [
    "```myst-ansi\n",
    "10\n",
    "```\n"
   ]
  },
  {
   "cell_type": "code",
   "execution_count": null,
   "id": "4723d7f3",
   "metadata": {
    "hide-output": false
   },
   "outputs": [],
   "source": [
    "max(y)"
   ]
  },
  {
   "cell_type": "markdown",
   "id": "ff2d9112",
   "metadata": {
    "hide-output": false
   },
   "source": [
    "```ipythontb\n",
    "---------------------------------------------------------------------------\n",
    "ValueError                                Traceback (most recent call last)\n",
    "Cell In[23], line 1\n",
    "----> 1 max(y)\n",
    "\n",
    "ValueError: max() arg is an empty sequence\n",
    "```\n"
   ]
  },
  {
   "cell_type": "markdown",
   "id": "09055f90",
   "metadata": {},
   "source": [
    "\n",
    "<a id='name-res'></a>"
   ]
  },
  {
   "cell_type": "markdown",
   "id": "7340a7a1",
   "metadata": {},
   "source": [
    "## Names and Name Resolution"
   ]
  },
  {
   "cell_type": "markdown",
   "id": "5aa43134",
   "metadata": {},
   "source": [
    "### Variable Names in Python\n",
    "\n",
    "\n",
    "<a id='index-5'></a>\n",
    "Consider the Python statement"
   ]
  },
  {
   "cell_type": "code",
   "execution_count": null,
   "id": "176a9d51",
   "metadata": {
    "hide-output": false
   },
   "outputs": [],
   "source": [
    "x = 42"
   ]
  },
  {
   "cell_type": "markdown",
   "id": "238c8f88",
   "metadata": {},
   "source": [
    "We now know that when this statement is executed, Python creates an object of\n",
    "type `int` in your computer’s memory, containing\n",
    "\n",
    "- the value `42`  \n",
    "- some associated attributes  \n",
    "\n",
    "\n",
    "But what is `x` itself?\n",
    "\n",
    "In Python, `x` is called a *name*, and the statement `x = 42` *binds* the name `x` to the integer object we have just discussed.\n",
    "\n",
    "Under the hood, this process of binding names to objects is implemented as a dictionary—more about this in a moment.\n",
    "\n",
    "There is no problem binding two or more names to the one object, regardless of what that object is"
   ]
  },
  {
   "cell_type": "code",
   "execution_count": null,
   "id": "3f35f013",
   "metadata": {
    "hide-output": false
   },
   "outputs": [],
   "source": [
    "def f(string):      # Create a function called f\n",
    "    print(string)   # that prints any string it's passed\n",
    "\n",
    "g = f\n",
    "id(g) == id(f)"
   ]
  },
  {
   "cell_type": "markdown",
   "id": "f2673e9b",
   "metadata": {
    "hide-output": false
   },
   "source": [
    "```myst-ansi\n",
    "True\n",
    "```\n"
   ]
  },
  {
   "cell_type": "code",
   "execution_count": null,
   "id": "f08ae6bf",
   "metadata": {
    "hide-output": false
   },
   "outputs": [],
   "source": [
    "g('test')"
   ]
  },
  {
   "cell_type": "markdown",
   "id": "a22b2552",
   "metadata": {
    "hide-output": false
   },
   "source": [
    "```myst-ansi\n",
    "test\n",
    "```\n"
   ]
  },
  {
   "cell_type": "markdown",
   "id": "3ae924db",
   "metadata": {},
   "source": [
    "In the first step, a function object is created, and the name `f` is bound to it.\n",
    "\n",
    "After binding the name `g` to the same object, we can use it anywhere we would use `f`.\n",
    "\n",
    "What happens when the number of names bound to an object goes to zero?\n",
    "\n",
    "Here’s an example of this situation, where the name `x` is first bound to one object and then rebound to another"
   ]
  },
  {
   "cell_type": "code",
   "execution_count": null,
   "id": "04a2de9e",
   "metadata": {
    "hide-output": false
   },
   "outputs": [],
   "source": [
    "x = 'foo'\n",
    "id(x)"
   ]
  },
  {
   "cell_type": "markdown",
   "id": "c732a29e",
   "metadata": {
    "hide-output": false
   },
   "source": [
    "```myst-ansi\n",
    "4333708272\n",
    "```\n"
   ]
  },
  {
   "cell_type": "code",
   "execution_count": null,
   "id": "9132eb34",
   "metadata": {
    "hide-output": false
   },
   "outputs": [],
   "source": [
    "x = 'bar'  # No names bound to the first object"
   ]
  },
  {
   "cell_type": "markdown",
   "id": "c8d9878c",
   "metadata": {},
   "source": [
    "What happens here is that the first object is garbage collected.\n",
    "\n",
    "In other words, the memory slot that stores that object is deallocated, and returned to the operating system."
   ]
  },
  {
   "cell_type": "markdown",
   "id": "dabeeff1",
   "metadata": {},
   "source": [
    "### Namespaces\n",
    "\n",
    "\n",
    "<a id='index-6'></a>\n",
    "Recall from the preceding discussion that the statement"
   ]
  },
  {
   "cell_type": "code",
   "execution_count": null,
   "id": "ebe52ef5",
   "metadata": {
    "hide-output": false
   },
   "outputs": [],
   "source": [
    "x = 42"
   ]
  },
  {
   "cell_type": "markdown",
   "id": "2397151c",
   "metadata": {},
   "source": [
    "binds the name `x` to the integer object on the right-hand side.\n",
    "\n",
    "We also mentioned that this process of binding `x` to the correct object is implemented as a dictionary.\n",
    "\n",
    "This dictionary is called a *namespace*.\n",
    "\n",
    "**Definition:** A namespace is a symbol table that maps names to objects in memory.\n",
    "\n",
    "Python uses multiple namespaces, creating them on the fly as necessary .\n",
    "\n",
    "For example, every time we import a module, Python creates a namespace for that module.\n",
    "\n",
    "To see this in action, suppose we write a script `math2.py` with a single line"
   ]
  },
  {
   "cell_type": "code",
   "execution_count": null,
   "id": "b5035edf",
   "metadata": {
    "hide-output": false
   },
   "outputs": [],
   "source": [
    "%%file math2.py\n",
    "pi = 'foobar'"
   ]
  },
  {
   "cell_type": "markdown",
   "id": "036375ad",
   "metadata": {
    "hide-output": false
   },
   "source": [
    "```myst-ansi\n",
    "Writing math2.py\n",
    "```\n"
   ]
  },
  {
   "cell_type": "markdown",
   "id": "5b57ea19",
   "metadata": {},
   "source": [
    "Now we start the Python interpreter and import it"
   ]
  },
  {
   "cell_type": "code",
   "execution_count": null,
   "id": "42b0d52d",
   "metadata": {
    "hide-output": false
   },
   "outputs": [],
   "source": [
    "import math2"
   ]
  },
  {
   "cell_type": "markdown",
   "id": "b78cd4d4",
   "metadata": {},
   "source": [
    "Next let’s import the `math` module from the standard library"
   ]
  },
  {
   "cell_type": "code",
   "execution_count": null,
   "id": "42ea71ee",
   "metadata": {
    "hide-output": false
   },
   "outputs": [],
   "source": [
    "import math"
   ]
  },
  {
   "cell_type": "markdown",
   "id": "b5b3adf8",
   "metadata": {},
   "source": [
    "Both of these modules have an attribute called `pi`"
   ]
  },
  {
   "cell_type": "code",
   "execution_count": null,
   "id": "5a41ac6b",
   "metadata": {
    "hide-output": false
   },
   "outputs": [],
   "source": [
    "math.pi"
   ]
  },
  {
   "cell_type": "markdown",
   "id": "156fac03",
   "metadata": {
    "hide-output": false
   },
   "source": [
    "```myst-ansi\n",
    "3.141592653589793\n",
    "```\n"
   ]
  },
  {
   "cell_type": "code",
   "execution_count": null,
   "id": "71bcc301",
   "metadata": {
    "hide-output": false
   },
   "outputs": [],
   "source": [
    "math2.pi"
   ]
  },
  {
   "cell_type": "markdown",
   "id": "5fa3bc5e",
   "metadata": {
    "hide-output": false
   },
   "source": [
    "```myst-ansi\n",
    "'foobar'\n",
    "```\n"
   ]
  },
  {
   "cell_type": "markdown",
   "id": "a1d7b112",
   "metadata": {},
   "source": [
    "These two different bindings of `pi` exist in different namespaces, each one implemented as a dictionary.\n",
    "\n",
    "We can look at the dictionary directly, using `module_name.__dict__`"
   ]
  },
  {
   "cell_type": "code",
   "execution_count": null,
   "id": "f2c5b8f4",
   "metadata": {
    "hide-output": false
   },
   "outputs": [],
   "source": [
    "import math\n",
    "\n",
    "math.__dict__.items()"
   ]
  },
  {
   "cell_type": "markdown",
   "id": "cb5ec463",
   "metadata": {
    "hide-output": false
   },
   "source": [
    "```myst-ansi\n",
    "dict_items([('__name__', 'math'), ('__doc__', 'This module provides access to the mathematical functions\\ndefined by the C standard.'), ('__package__', ''), ('__loader__', <_frozen_importlib_external.ExtensionFileLoader object at 0x1011c5f10>), ('__spec__', ModuleSpec(name='math', loader=<_frozen_importlib_external.ExtensionFileLoader object at 0x1011c5f10>, origin='/Users/mmcky/anaconda3arm64/envs/sphinx-tojupyter/lib/python3.9/lib-dynload/math.cpython-39-darwin.so')), ('acos', <built-in function acos>), ('acosh', <built-in function acosh>), ('asin', <built-in function asin>), ('asinh', <built-in function asinh>), ('atan', <built-in function atan>), ('atan2', <built-in function atan2>), ('atanh', <built-in function atanh>), ('ceil', <built-in function ceil>), ('copysign', <built-in function copysign>), ('cos', <built-in function cos>), ('cosh', <built-in function cosh>), ('degrees', <built-in function degrees>), ('dist', <built-in function dist>), ('erf', <built-in function erf>), ('erfc', <built-in function erfc>), ('exp', <built-in function exp>), ('expm1', <built-in function expm1>), ('fabs', <built-in function fabs>), ('factorial', <built-in function factorial>), ('floor', <built-in function floor>), ('fmod', <built-in function fmod>), ('frexp', <built-in function frexp>), ('fsum', <built-in function fsum>), ('gamma', <built-in function gamma>), ('gcd', <built-in function gcd>), ('hypot', <built-in function hypot>), ('isclose', <built-in function isclose>), ('isfinite', <built-in function isfinite>), ('isinf', <built-in function isinf>), ('isnan', <built-in function isnan>), ('isqrt', <built-in function isqrt>), ('lcm', <built-in function lcm>), ('ldexp', <built-in function ldexp>), ('lgamma', <built-in function lgamma>), ('log', <built-in function log>), ('log1p', <built-in function log1p>), ('log10', <built-in function log10>), ('log2', <built-in function log2>), ('modf', <built-in function modf>), ('pow', <built-in function pow>), ('radians', <built-in function radians>), ('remainder', <built-in function remainder>), ('sin', <built-in function sin>), ('sinh', <built-in function sinh>), ('sqrt', <built-in function sqrt>), ('tan', <built-in function tan>), ('tanh', <built-in function tanh>), ('trunc', <built-in function trunc>), ('prod', <built-in function prod>), ('perm', <built-in function perm>), ('comb', <built-in function comb>), ('nextafter', <built-in function nextafter>), ('ulp', <built-in function ulp>), ('__file__', '/Users/mmcky/anaconda3arm64/envs/sphinx-tojupyter/lib/python3.9/lib-dynload/math.cpython-39-darwin.so'), ('pi', 3.141592653589793), ('e', 2.718281828459045), ('tau', 6.283185307179586), ('inf', inf), ('nan', nan)])\n",
    "```\n"
   ]
  },
  {
   "cell_type": "code",
   "execution_count": null,
   "id": "a94b42b0",
   "metadata": {
    "hide-output": false
   },
   "outputs": [],
   "source": [
    "import math2\n",
    "\n",
    "math2.__dict__.items()"
   ]
  },
  {
   "cell_type": "markdown",
   "id": "f2b5e7bd",
   "metadata": {
    "hide-output": false
   },
   "source": [
    "```myst-ansi\n",
    "dict_items([('__name__', 'math2'), ('__doc__', None), ('__package__', ''), ('__loader__', <_frozen_importlib_external.SourceFileLoader object at 0x10457ac70>), ('__spec__', ModuleSpec(name='math2', loader=<_frozen_importlib_external.SourceFileLoader object at 0x10457ac70>, origin='/Users/mmcky/work/quantecon/sphinx-tojupyter/tests/project/lecture-python-programming.myst/lectures/math2.py')), ('__file__', '/Users/mmcky/work/quantecon/sphinx-tojupyter/tests/project/lecture-python-programming.myst/lectures/math2.py'), ('__cached__', '/Users/mmcky/work/quantecon/sphinx-tojupyter/tests/project/lecture-python-programming.myst/lectures/__pycache__/math2.cpython-39.pyc'), ('__builtins__', {'__name__': 'builtins', '__doc__': \"Built-in functions, exceptions, and other objects.\\n\\nNoteworthy: None is the `nil' object; Ellipsis represents `...' in slices.\", '__package__': '', '__loader__': <class '_frozen_importlib.BuiltinImporter'>, '__spec__': ModuleSpec(name='builtins', loader=<class '_frozen_importlib.BuiltinImporter'>, origin='built-in'), '__build_class__': <built-in function __build_class__>, '__import__': <built-in function __import__>, 'abs': <built-in function abs>, 'all': <built-in function all>, 'any': <built-in function any>, 'ascii': <built-in function ascii>, 'bin': <built-in function bin>, 'breakpoint': <built-in function breakpoint>, 'callable': <built-in function callable>, 'chr': <built-in function chr>, 'compile': <built-in function compile>, 'delattr': <built-in function delattr>, 'dir': <built-in function dir>, 'divmod': <built-in function divmod>, 'eval': <built-in function eval>, 'exec': <built-in function exec>, 'format': <built-in function format>, 'getattr': <built-in function getattr>, 'globals': <built-in function globals>, 'hasattr': <built-in function hasattr>, 'hash': <built-in function hash>, 'hex': <built-in function hex>, 'id': <built-in function id>, 'input': <bound method Kernel.raw_input of <ipykernel.ipkernel.IPythonKernel object at 0x10398f760>>, 'isinstance': <built-in function isinstance>, 'issubclass': <built-in function issubclass>, 'iter': <built-in function iter>, 'len': <built-in function len>, 'locals': <built-in function locals>, 'max': <built-in function max>, 'min': <built-in function min>, 'next': <built-in function next>, 'oct': <built-in function oct>, 'ord': <built-in function ord>, 'pow': <built-in function pow>, 'print': <built-in function print>, 'repr': <built-in function repr>, 'round': <built-in function round>, 'setattr': <built-in function setattr>, 'sorted': <built-in function sorted>, 'sum': <built-in function sum>, 'vars': <built-in function vars>, 'None': None, 'Ellipsis': Ellipsis, 'NotImplemented': NotImplemented, 'False': False, 'True': True, 'bool': <class 'bool'>, 'memoryview': <class 'memoryview'>, 'bytearray': <class 'bytearray'>, 'bytes': <class 'bytes'>, 'classmethod': <class 'classmethod'>, 'complex': <class 'complex'>, 'dict': <class 'dict'>, 'enumerate': <class 'enumerate'>, 'filter': <class 'filter'>, 'float': <class 'float'>, 'frozenset': <class 'frozenset'>, 'property': <class 'property'>, 'int': <class 'int'>, 'list': <class 'list'>, 'map': <class 'map'>, 'object': <class 'object'>, 'range': <class 'range'>, 'reversed': <class 'reversed'>, 'set': <class 'set'>, 'slice': <class 'slice'>, 'staticmethod': <class 'staticmethod'>, 'str': <class 'str'>, 'super': <class 'super'>, 'tuple': <class 'tuple'>, 'type': <class 'type'>, 'zip': <class 'zip'>, '__debug__': True, 'BaseException': <class 'BaseException'>, 'Exception': <class 'Exception'>, 'TypeError': <class 'TypeError'>, 'StopAsyncIteration': <class 'StopAsyncIteration'>, 'StopIteration': <class 'StopIteration'>, 'GeneratorExit': <class 'GeneratorExit'>, 'SystemExit': <class 'SystemExit'>, 'KeyboardInterrupt': <class 'KeyboardInterrupt'>, 'ImportError': <class 'ImportError'>, 'ModuleNotFoundError': <class 'ModuleNotFoundError'>, 'OSError': <class 'OSError'>, 'EnvironmentError': <class 'OSError'>, 'IOError': <class 'OSError'>, 'EOFError': <class 'EOFError'>, 'RuntimeError': <class 'RuntimeError'>, 'RecursionError': <class 'RecursionError'>, 'NotImplementedError': <class 'NotImplementedError'>, 'NameError': <class 'NameError'>, 'UnboundLocalError': <class 'UnboundLocalError'>, 'AttributeError': <class 'AttributeError'>, 'SyntaxError': <class 'SyntaxError'>, 'IndentationError': <class 'IndentationError'>, 'TabError': <class 'TabError'>, 'LookupError': <class 'LookupError'>, 'IndexError': <class 'IndexError'>, 'KeyError': <class 'KeyError'>, 'ValueError': <class 'ValueError'>, 'UnicodeError': <class 'UnicodeError'>, 'UnicodeEncodeError': <class 'UnicodeEncodeError'>, 'UnicodeDecodeError': <class 'UnicodeDecodeError'>, 'UnicodeTranslateError': <class 'UnicodeTranslateError'>, 'AssertionError': <class 'AssertionError'>, 'ArithmeticError': <class 'ArithmeticError'>, 'FloatingPointError': <class 'FloatingPointError'>, 'OverflowError': <class 'OverflowError'>, 'ZeroDivisionError': <class 'ZeroDivisionError'>, 'SystemError': <class 'SystemError'>, 'ReferenceError': <class 'ReferenceError'>, 'MemoryError': <class 'MemoryError'>, 'BufferError': <class 'BufferError'>, 'Warning': <class 'Warning'>, 'UserWarning': <class 'UserWarning'>, 'DeprecationWarning': <class 'DeprecationWarning'>, 'PendingDeprecationWarning': <class 'PendingDeprecationWarning'>, 'SyntaxWarning': <class 'SyntaxWarning'>, 'RuntimeWarning': <class 'RuntimeWarning'>, 'FutureWarning': <class 'FutureWarning'>, 'ImportWarning': <class 'ImportWarning'>, 'UnicodeWarning': <class 'UnicodeWarning'>, 'BytesWarning': <class 'BytesWarning'>, 'ResourceWarning': <class 'ResourceWarning'>, 'ConnectionError': <class 'ConnectionError'>, 'BlockingIOError': <class 'BlockingIOError'>, 'BrokenPipeError': <class 'BrokenPipeError'>, 'ChildProcessError': <class 'ChildProcessError'>, 'ConnectionAbortedError': <class 'ConnectionAbortedError'>, 'ConnectionRefusedError': <class 'ConnectionRefusedError'>, 'ConnectionResetError': <class 'ConnectionResetError'>, 'FileExistsError': <class 'FileExistsError'>, 'FileNotFoundError': <class 'FileNotFoundError'>, 'IsADirectoryError': <class 'IsADirectoryError'>, 'NotADirectoryError': <class 'NotADirectoryError'>, 'InterruptedError': <class 'InterruptedError'>, 'PermissionError': <class 'PermissionError'>, 'ProcessLookupError': <class 'ProcessLookupError'>, 'TimeoutError': <class 'TimeoutError'>, 'open': <built-in function open>, 'copyright': Copyright (c) 2001-2022 Python Software Foundation.\n",
    "All Rights Reserved.\n",
    "\n",
    "Copyright (c) 2000 BeOpen.com.\n",
    "All Rights Reserved.\n",
    "\n",
    "Copyright (c) 1995-2001 Corporation for National Research Initiatives.\n",
    "All Rights Reserved.\n",
    "\n",
    "Copyright (c) 1991-1995 Stichting Mathematisch Centrum, Amsterdam.\n",
    "All Rights Reserved., 'credits':     Thanks to CWI, CNRI, BeOpen.com, Zope Corporation and a cast of thousands\n",
    "    for supporting Python development.  See www.python.org for more information., 'license': Type license() to see the full license text, 'help': Type help() for interactive help, or help(object) for help about object., 'execfile': <function execfile at 0x103a3d310>, 'runfile': <function runfile at 0x103ac8dc0>, '__IPYTHON__': True, 'display': <function display at 0x10263c700>, 'get_ipython': <bound method InteractiveShell.get_ipython of <ipykernel.zmqshell.ZMQInteractiveShell object at 0x1039fe850>>}), ('pi', 'foobar')])\n",
    "```\n"
   ]
  },
  {
   "cell_type": "markdown",
   "id": "8411634c",
   "metadata": {},
   "source": [
    "As you know, we access elements of the namespace using the dotted attribute notation"
   ]
  },
  {
   "cell_type": "code",
   "execution_count": null,
   "id": "aa5e752b",
   "metadata": {
    "hide-output": false
   },
   "outputs": [],
   "source": [
    "math.pi"
   ]
  },
  {
   "cell_type": "markdown",
   "id": "9a338486",
   "metadata": {
    "hide-output": false
   },
   "source": [
    "```myst-ansi\n",
    "3.141592653589793\n",
    "```\n"
   ]
  },
  {
   "cell_type": "markdown",
   "id": "a001f4fe",
   "metadata": {},
   "source": [
    "In fact this is entirely equivalent to `math.__dict__['pi']`"
   ]
  },
  {
   "cell_type": "code",
   "execution_count": null,
   "id": "4f2d5fb4",
   "metadata": {
    "hide-output": false
   },
   "outputs": [],
   "source": [
    "math.__dict__['pi'] == math.pi"
   ]
  },
  {
   "cell_type": "markdown",
   "id": "1face3eb",
   "metadata": {
    "hide-output": false
   },
   "source": [
    "```myst-ansi\n",
    "True\n",
    "```\n"
   ]
  },
  {
   "cell_type": "markdown",
   "id": "e816219d",
   "metadata": {},
   "source": [
    "### Viewing Namespaces\n",
    "\n",
    "As we saw above, the `math` namespace can be printed by typing `math.__dict__`.\n",
    "\n",
    "Another way to see its contents is to type `vars(math)`"
   ]
  },
  {
   "cell_type": "code",
   "execution_count": null,
   "id": "5b03bb31",
   "metadata": {
    "hide-output": false
   },
   "outputs": [],
   "source": [
    "vars(math).items()"
   ]
  },
  {
   "cell_type": "markdown",
   "id": "d7d4d4a0",
   "metadata": {
    "hide-output": false
   },
   "source": [
    "```myst-ansi\n",
    "dict_items([('__name__', 'math'), ('__doc__', 'This module provides access to the mathematical functions\\ndefined by the C standard.'), ('__package__', ''), ('__loader__', <_frozen_importlib_external.ExtensionFileLoader object at 0x1011c5f10>), ('__spec__', ModuleSpec(name='math', loader=<_frozen_importlib_external.ExtensionFileLoader object at 0x1011c5f10>, origin='/Users/mmcky/anaconda3arm64/envs/sphinx-tojupyter/lib/python3.9/lib-dynload/math.cpython-39-darwin.so')), ('acos', <built-in function acos>), ('acosh', <built-in function acosh>), ('asin', <built-in function asin>), ('asinh', <built-in function asinh>), ('atan', <built-in function atan>), ('atan2', <built-in function atan2>), ('atanh', <built-in function atanh>), ('ceil', <built-in function ceil>), ('copysign', <built-in function copysign>), ('cos', <built-in function cos>), ('cosh', <built-in function cosh>), ('degrees', <built-in function degrees>), ('dist', <built-in function dist>), ('erf', <built-in function erf>), ('erfc', <built-in function erfc>), ('exp', <built-in function exp>), ('expm1', <built-in function expm1>), ('fabs', <built-in function fabs>), ('factorial', <built-in function factorial>), ('floor', <built-in function floor>), ('fmod', <built-in function fmod>), ('frexp', <built-in function frexp>), ('fsum', <built-in function fsum>), ('gamma', <built-in function gamma>), ('gcd', <built-in function gcd>), ('hypot', <built-in function hypot>), ('isclose', <built-in function isclose>), ('isfinite', <built-in function isfinite>), ('isinf', <built-in function isinf>), ('isnan', <built-in function isnan>), ('isqrt', <built-in function isqrt>), ('lcm', <built-in function lcm>), ('ldexp', <built-in function ldexp>), ('lgamma', <built-in function lgamma>), ('log', <built-in function log>), ('log1p', <built-in function log1p>), ('log10', <built-in function log10>), ('log2', <built-in function log2>), ('modf', <built-in function modf>), ('pow', <built-in function pow>), ('radians', <built-in function radians>), ('remainder', <built-in function remainder>), ('sin', <built-in function sin>), ('sinh', <built-in function sinh>), ('sqrt', <built-in function sqrt>), ('tan', <built-in function tan>), ('tanh', <built-in function tanh>), ('trunc', <built-in function trunc>), ('prod', <built-in function prod>), ('perm', <built-in function perm>), ('comb', <built-in function comb>), ('nextafter', <built-in function nextafter>), ('ulp', <built-in function ulp>), ('__file__', '/Users/mmcky/anaconda3arm64/envs/sphinx-tojupyter/lib/python3.9/lib-dynload/math.cpython-39-darwin.so'), ('pi', 3.141592653589793), ('e', 2.718281828459045), ('tau', 6.283185307179586), ('inf', inf), ('nan', nan)])\n",
    "```\n"
   ]
  },
  {
   "cell_type": "markdown",
   "id": "24601855",
   "metadata": {},
   "source": [
    "If you just want to see the names, you can type"
   ]
  },
  {
   "cell_type": "code",
   "execution_count": null,
   "id": "3c35d1ad",
   "metadata": {
    "hide-output": false
   },
   "outputs": [],
   "source": [
    "dir(math)[0:10]"
   ]
  },
  {
   "cell_type": "markdown",
   "id": "ef950f3c",
   "metadata": {
    "hide-output": false
   },
   "source": [
    "```myst-ansi\n",
    "['__doc__',\n",
    " '__file__',\n",
    " '__loader__',\n",
    " '__name__',\n",
    " '__package__',\n",
    " '__spec__',\n",
    " 'acos',\n",
    " 'acosh',\n",
    " 'asin',\n",
    " 'asinh']\n",
    "```\n"
   ]
  },
  {
   "cell_type": "markdown",
   "id": "5af09816",
   "metadata": {},
   "source": [
    "Notice the special names `__doc__` and `__name__`.\n",
    "\n",
    "These are initialized in the namespace when any module is imported\n",
    "\n",
    "- `__doc__` is the doc string of the module  \n",
    "- `__name__` is the name of the module  "
   ]
  },
  {
   "cell_type": "code",
   "execution_count": null,
   "id": "81f2793d",
   "metadata": {
    "hide-output": false
   },
   "outputs": [],
   "source": [
    "print(math.__doc__)"
   ]
  },
  {
   "cell_type": "markdown",
   "id": "7b5734c1",
   "metadata": {
    "hide-output": false
   },
   "source": [
    "```myst-ansi\n",
    "This module provides access to the mathematical functions\n",
    "defined by the C standard.\n",
    "```\n"
   ]
  },
  {
   "cell_type": "code",
   "execution_count": null,
   "id": "ac83b647",
   "metadata": {
    "hide-output": false
   },
   "outputs": [],
   "source": [
    "math.__name__"
   ]
  },
  {
   "cell_type": "markdown",
   "id": "aae15f52",
   "metadata": {
    "hide-output": false
   },
   "source": [
    "```myst-ansi\n",
    "'math'\n",
    "```\n"
   ]
  },
  {
   "cell_type": "markdown",
   "id": "d7d56c3f",
   "metadata": {},
   "source": [
    "### Interactive Sessions\n",
    "\n",
    "\n",
    "<a id='index-7'></a>\n",
    "In Python, **all** code executed by the interpreter runs in some module.\n",
    "\n",
    "What about commands typed at the prompt?\n",
    "\n",
    "These are also regarded as being executed within a module — in this case, a module called `__main__`.\n",
    "\n",
    "To check this, we can look at the current module name via the value of `__name__` given at the prompt"
   ]
  },
  {
   "cell_type": "code",
   "execution_count": null,
   "id": "82070d44",
   "metadata": {
    "hide-output": false
   },
   "outputs": [],
   "source": [
    "print(__name__)"
   ]
  },
  {
   "cell_type": "markdown",
   "id": "c62f871f",
   "metadata": {
    "hide-output": false
   },
   "source": [
    "```myst-ansi\n",
    "__main__\n",
    "```\n"
   ]
  },
  {
   "cell_type": "markdown",
   "id": "4067f82a",
   "metadata": {},
   "source": [
    "When we run a script using IPython’s `run` command, the contents of the file are executed as part of `__main__` too.\n",
    "\n",
    "To see this, let’s create a file `mod.py` that prints its own `__name__` attribute"
   ]
  },
  {
   "cell_type": "code",
   "execution_count": null,
   "id": "1293321e",
   "metadata": {
    "hide-output": false
   },
   "outputs": [],
   "source": [
    "%%file mod.py\n",
    "print(__name__)"
   ]
  },
  {
   "cell_type": "markdown",
   "id": "c41bf97a",
   "metadata": {
    "hide-output": false
   },
   "source": [
    "```myst-ansi\n",
    "Writing mod.py\n",
    "```\n"
   ]
  },
  {
   "cell_type": "markdown",
   "id": "4dc757ed",
   "metadata": {},
   "source": [
    "Now let’s look at two different ways of running it in IPython"
   ]
  },
  {
   "cell_type": "code",
   "execution_count": null,
   "id": "26fed42c",
   "metadata": {
    "hide-output": false
   },
   "outputs": [],
   "source": [
    "import mod  # Standard import"
   ]
  },
  {
   "cell_type": "markdown",
   "id": "2b5f9a46",
   "metadata": {
    "hide-output": false
   },
   "source": [
    "```myst-ansi\n",
    "mod\n",
    "```\n"
   ]
  },
  {
   "cell_type": "code",
   "execution_count": null,
   "id": "bbfd45e1",
   "metadata": {
    "hide-output": false
   },
   "outputs": [],
   "source": [
    "%run mod.py  # Run interactively"
   ]
  },
  {
   "cell_type": "markdown",
   "id": "64c2f863",
   "metadata": {
    "hide-output": false
   },
   "source": [
    "```myst-ansi\n",
    "__main__\n",
    "```\n"
   ]
  },
  {
   "cell_type": "markdown",
   "id": "3850923e",
   "metadata": {},
   "source": [
    "In the second case, the code is executed as part of `__main__`, so `__name__` is equal to `__main__`.\n",
    "\n",
    "To see the contents of the namespace of `__main__` we use `vars()` rather than `vars(__main__)` .\n",
    "\n",
    "If you do this in IPython, you will see a whole lot of variables that IPython\n",
    "needs, and has initialized when you started up your session.\n",
    "\n",
    "If you prefer to see only the variables you have initialized, use `whos`"
   ]
  },
  {
   "cell_type": "code",
   "execution_count": null,
   "id": "6beea61c",
   "metadata": {
    "hide-output": false
   },
   "outputs": [],
   "source": [
    "x = 2\n",
    "y = 3\n",
    "\n",
    "import numpy as np\n",
    "\n",
    "%whos"
   ]
  },
  {
   "cell_type": "markdown",
   "id": "8cb7ed1c",
   "metadata": {
    "hide-output": false
   },
   "source": [
    "```myst-ansi\n",
    "Variable      Type                          Data/Info\n",
    "-----------------------------------------------------\n",
    "e             enumerate                     <enumerate object at 0x104269780>\n",
    "f             function                      <function f at 0x104e1b700>\n",
    "g             function                      <function f at 0x104e1b700>\n",
    "i             str                           eggs\n",
    "math          module                        <module 'math' from '/Use<...>th.cpython-39-darwin.so'>\n",
    "math2         module                        <module 'math2' from '/Us<...>.myst/lectures/math2.py'>\n",
    "mod           module                        <module 'mod' from '/User<...>ng.myst/lectures/mod.py'>\n",
    "nikkei_data   reader                        <_csv.reader object at 0x104248cf0>\n",
    "np            module                        <module 'numpy' from '/Us<...>kages/numpy/__init__.py'>\n",
    "reader        builtin_function_or_method    <built-in function reader>\n",
    "x             int                           2\n",
    "y             int                           3\n",
    "```\n"
   ]
  },
  {
   "cell_type": "markdown",
   "id": "7f983614",
   "metadata": {},
   "source": [
    "### The Global Namespace\n",
    "\n",
    "\n",
    "<a id='index-8'></a>\n",
    "Python documentation often makes reference to the “global namespace”.\n",
    "\n",
    "The global namespace is *the namespace of the module currently being executed*.\n",
    "\n",
    "For example, suppose that we start the interpreter and begin making assignments .\n",
    "\n",
    "We are now working in the module `__main__`, and hence the namespace for `__main__` is the global namespace.\n",
    "\n",
    "Next, we import a module called `amodule`"
   ]
  },
  {
   "cell_type": "markdown",
   "id": "b3b3852e",
   "metadata": {
    "hide-output": false
   },
   "source": [
    "```python3\n",
    "import amodule\n",
    "```\n"
   ]
  },
  {
   "cell_type": "markdown",
   "id": "c087b117",
   "metadata": {},
   "source": [
    "At this point, the interpreter creates a namespace for the module `amodule` and starts executing commands in the module.\n",
    "\n",
    "While this occurs, the namespace `amodule.__dict__` is the global namespace.\n",
    "\n",
    "Once execution of the module finishes, the interpreter returns to the module from where the import statement was made.\n",
    "\n",
    "In this case it’s `__main__`, so the namespace of `__main__` again becomes the global namespace."
   ]
  },
  {
   "cell_type": "markdown",
   "id": "e3380d69",
   "metadata": {},
   "source": [
    "### Local Namespaces\n",
    "\n",
    "\n",
    "<a id='index-9'></a>\n",
    "Important fact: When we call a function, the interpreter creates a *local namespace* for that function, and registers the variables in that namespace.\n",
    "\n",
    "The reason for this will be explained in just a moment.\n",
    "\n",
    "Variables in the local namespace are called *local variables*.\n",
    "\n",
    "After the function returns, the namespace is deallocated and lost.\n",
    "\n",
    "While the function is executing, we can view the contents of the local namespace with `locals()`.\n",
    "\n",
    "For example, consider"
   ]
  },
  {
   "cell_type": "code",
   "execution_count": null,
   "id": "bdcb9710",
   "metadata": {
    "hide-output": false
   },
   "outputs": [],
   "source": [
    "def f(x):\n",
    "    a = 2\n",
    "    print(locals())\n",
    "    return a * x"
   ]
  },
  {
   "cell_type": "markdown",
   "id": "c0748115",
   "metadata": {},
   "source": [
    "Now let’s call the function"
   ]
  },
  {
   "cell_type": "code",
   "execution_count": null,
   "id": "eaca5c92",
   "metadata": {
    "hide-output": false
   },
   "outputs": [],
   "source": [
    "f(1)"
   ]
  },
  {
   "cell_type": "markdown",
   "id": "bad3d2f7",
   "metadata": {
    "hide-output": false
   },
   "source": [
    "```myst-ansi\n",
    "{'x': 1, 'a': 2}\n",
    "```\n"
   ]
  },
  {
   "cell_type": "markdown",
   "id": "656591dc",
   "metadata": {
    "hide-output": false
   },
   "source": [
    "```myst-ansi\n",
    "2\n",
    "```\n"
   ]
  },
  {
   "cell_type": "markdown",
   "id": "c3322072",
   "metadata": {},
   "source": [
    "You can see the local namespace of `f` before it is destroyed."
   ]
  },
  {
   "cell_type": "markdown",
   "id": "f72cb4d1",
   "metadata": {},
   "source": [
    "### The `__builtins__` Namespace\n",
    "\n",
    "\n",
    "<a id='index-10'></a>\n",
    "We have been using various built-in functions, such as `max(), dir(), str(), list(), len(), range(), type()`, etc.\n",
    "\n",
    "How does access to these names work?\n",
    "\n",
    "- These definitions are stored in a module called `__builtin__`.  \n",
    "- They have there own namespace called `__builtins__`.  "
   ]
  },
  {
   "cell_type": "code",
   "execution_count": null,
   "id": "bada7d7d",
   "metadata": {
    "hide-output": false
   },
   "outputs": [],
   "source": [
    "dir()[0:10]"
   ]
  },
  {
   "cell_type": "markdown",
   "id": "45880a6f",
   "metadata": {
    "hide-output": false
   },
   "source": [
    "```myst-ansi\n",
    "['In', 'Out', '_', '_11', '_13', '_14', '_15', '_16', '_19', '_2']\n",
    "```\n"
   ]
  },
  {
   "cell_type": "code",
   "execution_count": null,
   "id": "1a7f1f2d",
   "metadata": {
    "hide-output": false
   },
   "outputs": [],
   "source": [
    "dir(__builtins__)[0:10]"
   ]
  },
  {
   "cell_type": "markdown",
   "id": "a2609f7c",
   "metadata": {
    "hide-output": false
   },
   "source": [
    "```myst-ansi\n",
    "['ArithmeticError',\n",
    " 'AssertionError',\n",
    " 'AttributeError',\n",
    " 'BaseException',\n",
    " 'BlockingIOError',\n",
    " 'BrokenPipeError',\n",
    " 'BufferError',\n",
    " 'BytesWarning',\n",
    " 'ChildProcessError',\n",
    " 'ConnectionAbortedError']\n",
    "```\n"
   ]
  },
  {
   "cell_type": "markdown",
   "id": "2eb474af",
   "metadata": {},
   "source": [
    "We can access elements of the namespace as follows"
   ]
  },
  {
   "cell_type": "code",
   "execution_count": null,
   "id": "d0e05622",
   "metadata": {
    "hide-output": false
   },
   "outputs": [],
   "source": [
    "__builtins__.max"
   ]
  },
  {
   "cell_type": "markdown",
   "id": "0fa82c1d",
   "metadata": {
    "hide-output": false
   },
   "source": [
    "```myst-ansi\n",
    "<function max>\n",
    "```\n"
   ]
  },
  {
   "cell_type": "markdown",
   "id": "ef71d978",
   "metadata": {},
   "source": [
    "But `__builtins__` is special, because we can always access them directly as well"
   ]
  },
  {
   "cell_type": "code",
   "execution_count": null,
   "id": "3743ceef",
   "metadata": {
    "hide-output": false
   },
   "outputs": [],
   "source": [
    "max"
   ]
  },
  {
   "cell_type": "markdown",
   "id": "5aac1b0c",
   "metadata": {
    "hide-output": false
   },
   "source": [
    "```myst-ansi\n",
    "<function max>\n",
    "```\n"
   ]
  },
  {
   "cell_type": "code",
   "execution_count": null,
   "id": "6f2ce3ee",
   "metadata": {
    "hide-output": false
   },
   "outputs": [],
   "source": [
    "__builtins__.max == max"
   ]
  },
  {
   "cell_type": "markdown",
   "id": "3147bb0d",
   "metadata": {
    "hide-output": false
   },
   "source": [
    "```myst-ansi\n",
    "True\n",
    "```\n"
   ]
  },
  {
   "cell_type": "markdown",
   "id": "799ecefa",
   "metadata": {},
   "source": [
    "The next section explains how this works …"
   ]
  },
  {
   "cell_type": "markdown",
   "id": "1c4b174d",
   "metadata": {},
   "source": [
    "### Name Resolution\n",
    "\n",
    "\n",
    "<a id='index-11'></a>\n",
    "Namespaces are great because they help us organize variable names.\n",
    "\n",
    "(Type `import this` at the prompt and look at the last item that’s printed)\n",
    "\n",
    "However, we do need to understand how the Python interpreter works with multiple namespaces .\n",
    "\n",
    "At any point of execution, there are in fact at least two namespaces that can be accessed directly.\n",
    "\n",
    "(“Accessed directly” means without using a dot, as in  `pi` rather than `math.pi`)\n",
    "\n",
    "These namespaces are\n",
    "\n",
    "- The global namespace (of the module being executed)  \n",
    "- The builtin namespace  \n",
    "\n",
    "\n",
    "If the interpreter is executing a function, then the directly accessible namespaces are\n",
    "\n",
    "- The local namespace of the function  \n",
    "- The global namespace (of the module being executed)  \n",
    "- The builtin namespace  \n",
    "\n",
    "\n",
    "Sometimes functions are defined within other functions, like so"
   ]
  },
  {
   "cell_type": "code",
   "execution_count": null,
   "id": "2ecedefa",
   "metadata": {
    "hide-output": false
   },
   "outputs": [],
   "source": [
    "def f():\n",
    "    a = 2\n",
    "    def g():\n",
    "        b = 4\n",
    "        print(a * b)\n",
    "    g()"
   ]
  },
  {
   "cell_type": "markdown",
   "id": "1645ccb4",
   "metadata": {},
   "source": [
    "Here `f` is the *enclosing function* for `g`, and each function gets its\n",
    "own namespaces.\n",
    "\n",
    "Now we can give the rule for how namespace resolution works:\n",
    "\n",
    "The order in which the interpreter searches for names is\n",
    "\n",
    "1. the local namespace (if it exists)  \n",
    "1. the hierarchy of enclosing namespaces (if they exist)  \n",
    "1. the global namespace  \n",
    "1. the builtin namespace  \n",
    "\n",
    "\n",
    "If the name is not in any of these namespaces, the interpreter raises a `NameError`.\n",
    "\n",
    "This is called the **LEGB rule** (local, enclosing, global, builtin).\n",
    "\n",
    "Here’s an example that helps to illustrate .\n",
    "\n",
    "Consider a script `test.py` that looks as follows"
   ]
  },
  {
   "cell_type": "code",
   "execution_count": null,
   "id": "4a430259",
   "metadata": {
    "hide-output": false
   },
   "outputs": [],
   "source": [
    "%%file test.py\n",
    "def g(x):\n",
    "    a = 1\n",
    "    x = x + a\n",
    "    return x\n",
    "\n",
    "a = 0\n",
    "y = g(10)\n",
    "print(\"a = \", a, \"y = \", y)"
   ]
  },
  {
   "cell_type": "markdown",
   "id": "9befeb6c",
   "metadata": {
    "hide-output": false
   },
   "source": [
    "```myst-ansi\n",
    "Writing test.py\n",
    "```\n"
   ]
  },
  {
   "cell_type": "markdown",
   "id": "b80b40da",
   "metadata": {},
   "source": [
    "What happens when we run this script?"
   ]
  },
  {
   "cell_type": "code",
   "execution_count": null,
   "id": "6887b7d8",
   "metadata": {
    "hide-output": false
   },
   "outputs": [],
   "source": [
    "%run test.py"
   ]
  },
  {
   "cell_type": "markdown",
   "id": "e5aaaa62",
   "metadata": {
    "hide-output": false
   },
   "source": [
    "```myst-ansi\n",
    "a =  0 y =  11\n",
    "```\n"
   ]
  },
  {
   "cell_type": "code",
   "execution_count": null,
   "id": "37b1dc24",
   "metadata": {
    "hide-output": false
   },
   "outputs": [],
   "source": [
    "x"
   ]
  },
  {
   "cell_type": "markdown",
   "id": "129680c2",
   "metadata": {
    "hide-output": false
   },
   "source": [
    "```myst-ansi\n",
    "2\n",
    "```\n"
   ]
  },
  {
   "cell_type": "markdown",
   "id": "54e9b1f6",
   "metadata": {},
   "source": [
    "First,\n",
    "\n",
    "- The global namespace `{}` is created.  \n",
    "- The function object is created, and `g` is bound to it within the global namespace.  \n",
    "- The name `a` is bound to `0`, again in the global namespace.  \n",
    "\n",
    "\n",
    "Next `g` is called via `y = g(10)`, leading to the following sequence of actions\n",
    "\n",
    "- The local namespace for the function is created.  \n",
    "- Local names `x` and `a` are bound, so that the local namespace becomes `{'x': 10, 'a': 1}`.  \n",
    "- Statement `x = x + a` uses the local `a` and local `x` to compute `x + a`, and binds local name `x` to the result.  \n",
    "- This value is returned, and `y` is bound to it in the global namespace.  \n",
    "- Local `x` and `a` are discarded (and the local namespace is deallocated).  \n",
    "\n",
    "\n",
    "Note that the global `a` was not affected by the local `a`.\n",
    "\n",
    "\n",
    "<a id='mutable-vs-immutable'></a>"
   ]
  },
  {
   "cell_type": "markdown",
   "id": "de30957e",
   "metadata": {},
   "source": [
    "### Mutable Versus Immutable Parameters\n",
    "\n",
    "This is a good time to say a little more about mutable vs immutable objects.\n",
    "\n",
    "Consider the code segment"
   ]
  },
  {
   "cell_type": "code",
   "execution_count": null,
   "id": "423f0a26",
   "metadata": {
    "hide-output": false
   },
   "outputs": [],
   "source": [
    "def f(x):\n",
    "    x = x + 1\n",
    "    return x\n",
    "\n",
    "x = 1\n",
    "print(f(x), x)"
   ]
  },
  {
   "cell_type": "markdown",
   "id": "2c585f78",
   "metadata": {
    "hide-output": false
   },
   "source": [
    "```myst-ansi\n",
    "2 1\n",
    "```\n"
   ]
  },
  {
   "cell_type": "markdown",
   "id": "bf997e93",
   "metadata": {},
   "source": [
    "We now understand what will happen here: The code prints `2` as the value of `f(x)` and `1` as the value of `x`.\n",
    "\n",
    "First `f` and `x` are registered in the global namespace.\n",
    "\n",
    "The call `f(x)` creates a local namespace and adds `x` to it, bound to `1`.\n",
    "\n",
    "Next, this local `x` is rebound to the new integer object `2`, and this value is returned.\n",
    "\n",
    "None of this affects the global `x`.\n",
    "\n",
    "However, it’s a different story when we use a **mutable** data type such as a list"
   ]
  },
  {
   "cell_type": "code",
   "execution_count": null,
   "id": "5d79cb40",
   "metadata": {
    "hide-output": false
   },
   "outputs": [],
   "source": [
    "def f(x):\n",
    "    x[0] = x[0] + 1\n",
    "    return x\n",
    "\n",
    "x = [1]\n",
    "print(f(x), x)"
   ]
  },
  {
   "cell_type": "markdown",
   "id": "fabf2d47",
   "metadata": {
    "hide-output": false
   },
   "source": [
    "```myst-ansi\n",
    "[2] [2]\n",
    "```\n"
   ]
  },
  {
   "cell_type": "markdown",
   "id": "0bd75f81",
   "metadata": {},
   "source": [
    "This prints `[2]` as the value of `f(x)` and *same* for `x`.\n",
    "\n",
    "Here’s what happens\n",
    "\n",
    "- `f` is registered as a function in the global namespace  \n",
    "- `x` bound to `[1]` in the global namespace  \n",
    "- The call `f(x)`  \n",
    "  - Creates a local namespace  \n",
    "  - Adds `x` to local namespace, bound to `[1]`  \n",
    "  - The list `[1]` is modified to `[2]`  \n",
    "  - Returns the list `[2]`  \n",
    "  - The local namespace is deallocated, and local `x` is lost  \n",
    "- Global `x` has been modified  "
   ]
  },
  {
   "cell_type": "markdown",
   "id": "8cc0a4e0",
   "metadata": {},
   "source": [
    "## Handling Errors\n",
    "\n",
    "\n",
    "<a id='index-14'></a>\n",
    "Sometimes it’s possible to anticipate errors as we’re writing code.\n",
    "\n",
    "For example, the unbiased sample variance of sample $ y_1, \\ldots, y_n $\n",
    "is defined as\n",
    "\n",
    "$$\n",
    "s^2 := \\frac{1}{n-1} \\sum_{i=1}^n (y_i - \\bar y)^2\n",
    "\\qquad \\bar y = \\text{ sample mean}\n",
    "$$\n",
    "\n",
    "This can be calculated in NumPy using `np.var`.\n",
    "\n",
    "But if you were writing a function to handle such a calculation, you might\n",
    "anticipate a divide-by-zero error when the sample size is one.\n",
    "\n",
    "One possible action is to do nothing — the program will just crash, and spit out an error message.\n",
    "\n",
    "But sometimes it’s worth writing your code in a way that anticipates and deals with runtime errors that you think might arise.\n",
    "\n",
    "Why?\n",
    "\n",
    "- Because the debugging information provided by the interpreter is often less useful than the information\n",
    "  on possible errors you have in your head when writing code.  \n",
    "- Because errors causing execution to stop are frustrating if you’re in the middle of a large computation.  \n",
    "- Because it’s reduces confidence in your code on the part of your users (if you are writing for others).  "
   ]
  },
  {
   "cell_type": "markdown",
   "id": "dff4e7c3",
   "metadata": {},
   "source": [
    "### Assertions\n",
    "\n",
    "\n",
    "<a id='index-15'></a>\n",
    "A relatively easy way to handle checks is with the `assert` keyword.\n",
    "\n",
    "For example, pretend for a moment that the `np.var` function doesn’t\n",
    "exist and we need to write our own"
   ]
  },
  {
   "cell_type": "code",
   "execution_count": null,
   "id": "a19b87b9",
   "metadata": {
    "hide-output": false
   },
   "outputs": [],
   "source": [
    "def var(y):\n",
    "    n = len(y)\n",
    "    assert n > 1, 'Sample size must be greater than one.'\n",
    "    return np.sum((y - y.mean())**2) / float(n-1)"
   ]
  },
  {
   "cell_type": "markdown",
   "id": "86192ba3",
   "metadata": {},
   "source": [
    "If we run this with an array of length one, the program will terminate and\n",
    "print our error message"
   ]
  },
  {
   "cell_type": "code",
   "execution_count": null,
   "id": "5b959063",
   "metadata": {
    "hide-output": false
   },
   "outputs": [],
   "source": [
    "var([1])"
   ]
  },
  {
   "cell_type": "markdown",
   "id": "3e1d48ea",
   "metadata": {
    "hide-output": false
   },
   "source": [
    "```ipythontb\n",
    "---------------------------------------------------------------------------\n",
    "AssertionError                            Traceback (most recent call last)\n",
    "Cell In[62], line 1\n",
    "----> 1 var([1])\n",
    "\n",
    "Cell In[61], line 3, in var(y)\n",
    "      1 def var(y):\n",
    "      2     n = len(y)\n",
    "----> 3     assert n > 1, 'Sample size must be greater than one.'\n",
    "      4     return np.sum((y - y.mean())**2) / float(n-1)\n",
    "\n",
    "AssertionError: Sample size must be greater than one.\n",
    "```\n"
   ]
  },
  {
   "cell_type": "markdown",
   "id": "dee9f315",
   "metadata": {},
   "source": [
    "The advantage is that we can\n",
    "\n",
    "- fail early, as soon as we know there will be a problem  \n",
    "- supply specific information on why a program is failing  "
   ]
  },
  {
   "cell_type": "markdown",
   "id": "b47d7abb",
   "metadata": {},
   "source": [
    "### Handling Errors During Runtime\n",
    "\n",
    "\n",
    "<a id='index-16'></a>\n",
    "The approach used above is a bit limited, because it always leads to\n",
    "termination.\n",
    "\n",
    "Sometimes we can handle errors more gracefully, by treating special cases.\n",
    "\n",
    "Let’s look at how this is done."
   ]
  },
  {
   "cell_type": "markdown",
   "id": "99e68d8a",
   "metadata": {},
   "source": [
    "#### Exceptions\n",
    "\n",
    "\n",
    "<a id='index-17'></a>\n",
    "Here’s an example of a common error type"
   ]
  },
  {
   "cell_type": "code",
   "execution_count": null,
   "id": "ea4a5896",
   "metadata": {
    "hide-output": false
   },
   "outputs": [],
   "source": [
    "def f:"
   ]
  },
  {
   "cell_type": "markdown",
   "id": "3c095a35",
   "metadata": {
    "hide-output": false
   },
   "source": [
    "```ipythontb\n",
    "  Cell In[63], line 1\n",
    "    def f:\n",
    "         ^\n",
    "SyntaxError: invalid syntax\n",
    "```\n"
   ]
  },
  {
   "cell_type": "markdown",
   "id": "9b18e55e",
   "metadata": {},
   "source": [
    "Since illegal syntax cannot be executed, a syntax error terminates execution of the program.\n",
    "\n",
    "Here’s a different kind of error, unrelated to syntax"
   ]
  },
  {
   "cell_type": "code",
   "execution_count": null,
   "id": "2533458e",
   "metadata": {
    "hide-output": false
   },
   "outputs": [],
   "source": [
    "1 / 0"
   ]
  },
  {
   "cell_type": "markdown",
   "id": "fe7db47a",
   "metadata": {
    "hide-output": false
   },
   "source": [
    "```ipythontb\n",
    "---------------------------------------------------------------------------\n",
    "ZeroDivisionError                         Traceback (most recent call last)\n",
    "Cell In[64], line 1\n",
    "----> 1 1 / 0\n",
    "\n",
    "ZeroDivisionError: division by zero\n",
    "```\n"
   ]
  },
  {
   "cell_type": "markdown",
   "id": "c4852804",
   "metadata": {},
   "source": [
    "Here’s another"
   ]
  },
  {
   "cell_type": "code",
   "execution_count": null,
   "id": "8b72edfe",
   "metadata": {
    "hide-output": false
   },
   "outputs": [],
   "source": [
    "x1 = y1"
   ]
  },
  {
   "cell_type": "markdown",
   "id": "dd37a9e5",
   "metadata": {
    "hide-output": false
   },
   "source": [
    "```ipythontb\n",
    "---------------------------------------------------------------------------\n",
    "NameError                                 Traceback (most recent call last)\n",
    "Cell In[65], line 1\n",
    "----> 1 x1 = y1\n",
    "\n",
    "NameError: name 'y1' is not defined\n",
    "```\n"
   ]
  },
  {
   "cell_type": "markdown",
   "id": "a9115052",
   "metadata": {},
   "source": [
    "And another"
   ]
  },
  {
   "cell_type": "code",
   "execution_count": null,
   "id": "782f9876",
   "metadata": {
    "hide-output": false
   },
   "outputs": [],
   "source": [
    "'foo' + 6"
   ]
  },
  {
   "cell_type": "markdown",
   "id": "be9da403",
   "metadata": {
    "hide-output": false
   },
   "source": [
    "```ipythontb\n",
    "---------------------------------------------------------------------------\n",
    "TypeError                                 Traceback (most recent call last)\n",
    "Cell In[66], line 1\n",
    "----> 1 'foo' + 6\n",
    "\n",
    "TypeError: can only concatenate str (not \"int\") to str\n",
    "```\n"
   ]
  },
  {
   "cell_type": "markdown",
   "id": "63712209",
   "metadata": {},
   "source": [
    "And another"
   ]
  },
  {
   "cell_type": "code",
   "execution_count": null,
   "id": "a73a2e94",
   "metadata": {
    "hide-output": false
   },
   "outputs": [],
   "source": [
    "X = []\n",
    "x = X[0]"
   ]
  },
  {
   "cell_type": "markdown",
   "id": "1fdfdf2f",
   "metadata": {
    "hide-output": false
   },
   "source": [
    "```ipythontb\n",
    "---------------------------------------------------------------------------\n",
    "IndexError                                Traceback (most recent call last)\n",
    "Cell In[67], line 2\n",
    "      1 X = []\n",
    "----> 2 x = X[0]\n",
    "\n",
    "IndexError: list index out of range\n",
    "```\n"
   ]
  },
  {
   "cell_type": "markdown",
   "id": "ec7c91b0",
   "metadata": {},
   "source": [
    "On each occasion, the interpreter informs us of the error type\n",
    "\n",
    "- `NameError`, `TypeError`, `IndexError`, `ZeroDivisionError`, etc.  \n",
    "\n",
    "\n",
    "In Python, these errors are called *exceptions*."
   ]
  },
  {
   "cell_type": "markdown",
   "id": "a90c6603",
   "metadata": {},
   "source": [
    "#### Catching Exceptions\n",
    "\n",
    "We can catch and deal with exceptions using `try` – `except` blocks.\n",
    "\n",
    "Here’s a simple example"
   ]
  },
  {
   "cell_type": "code",
   "execution_count": null,
   "id": "d61f1b9f",
   "metadata": {
    "hide-output": false
   },
   "outputs": [],
   "source": [
    "def f(x):\n",
    "    try:\n",
    "        return 1.0 / x\n",
    "    except ZeroDivisionError:\n",
    "        print('Error: division by zero.  Returned None')\n",
    "    return None"
   ]
  },
  {
   "cell_type": "markdown",
   "id": "036fd1c8",
   "metadata": {},
   "source": [
    "When we call `f` we get the following output"
   ]
  },
  {
   "cell_type": "code",
   "execution_count": null,
   "id": "cac9a4c1",
   "metadata": {
    "hide-output": false
   },
   "outputs": [],
   "source": [
    "f(2)"
   ]
  },
  {
   "cell_type": "markdown",
   "id": "4da3ccff",
   "metadata": {
    "hide-output": false
   },
   "source": [
    "```myst-ansi\n",
    "0.5\n",
    "```\n"
   ]
  },
  {
   "cell_type": "code",
   "execution_count": null,
   "id": "04949b49",
   "metadata": {
    "hide-output": false
   },
   "outputs": [],
   "source": [
    "f(0)"
   ]
  },
  {
   "cell_type": "markdown",
   "id": "b3a86f4b",
   "metadata": {
    "hide-output": false
   },
   "source": [
    "```myst-ansi\n",
    "Error: division by zero.  Returned None\n",
    "```\n"
   ]
  },
  {
   "cell_type": "code",
   "execution_count": null,
   "id": "10b729f4",
   "metadata": {
    "hide-output": false
   },
   "outputs": [],
   "source": [
    "f(0.0)"
   ]
  },
  {
   "cell_type": "markdown",
   "id": "4420bc49",
   "metadata": {
    "hide-output": false
   },
   "source": [
    "```myst-ansi\n",
    "Error: division by zero.  Returned None\n",
    "```\n"
   ]
  },
  {
   "cell_type": "markdown",
   "id": "a9795c00",
   "metadata": {},
   "source": [
    "The error is caught and execution of the program is not terminated.\n",
    "\n",
    "Note that other error types are not caught.\n",
    "\n",
    "If we are worried the user might pass in a string, we can catch that error too"
   ]
  },
  {
   "cell_type": "code",
   "execution_count": null,
   "id": "f4ad76ec",
   "metadata": {
    "hide-output": false
   },
   "outputs": [],
   "source": [
    "def f(x):\n",
    "    try:\n",
    "        return 1.0 / x\n",
    "    except ZeroDivisionError:\n",
    "        print('Error: Division by zero.  Returned None')\n",
    "    except TypeError:\n",
    "        print('Error: Unsupported operation.  Returned None')\n",
    "    return None"
   ]
  },
  {
   "cell_type": "markdown",
   "id": "2b6f1dc2",
   "metadata": {},
   "source": [
    "Here’s what happens"
   ]
  },
  {
   "cell_type": "code",
   "execution_count": null,
   "id": "e709a44b",
   "metadata": {
    "hide-output": false
   },
   "outputs": [],
   "source": [
    "f(2)"
   ]
  },
  {
   "cell_type": "markdown",
   "id": "9413f5a1",
   "metadata": {
    "hide-output": false
   },
   "source": [
    "```myst-ansi\n",
    "0.5\n",
    "```\n"
   ]
  },
  {
   "cell_type": "code",
   "execution_count": null,
   "id": "c505b435",
   "metadata": {
    "hide-output": false
   },
   "outputs": [],
   "source": [
    "f(0)"
   ]
  },
  {
   "cell_type": "markdown",
   "id": "3f475362",
   "metadata": {
    "hide-output": false
   },
   "source": [
    "```myst-ansi\n",
    "Error: Division by zero.  Returned None\n",
    "```\n"
   ]
  },
  {
   "cell_type": "code",
   "execution_count": null,
   "id": "9ebb543f",
   "metadata": {
    "hide-output": false
   },
   "outputs": [],
   "source": [
    "f('foo')"
   ]
  },
  {
   "cell_type": "markdown",
   "id": "6bde543b",
   "metadata": {
    "hide-output": false
   },
   "source": [
    "```myst-ansi\n",
    "Error: Unsupported operation.  Returned None\n",
    "```\n"
   ]
  },
  {
   "cell_type": "markdown",
   "id": "9aa8100e",
   "metadata": {},
   "source": [
    "If we feel lazy we can catch these errors together"
   ]
  },
  {
   "cell_type": "code",
   "execution_count": null,
   "id": "2a9e75cb",
   "metadata": {
    "hide-output": false
   },
   "outputs": [],
   "source": [
    "def f(x):\n",
    "    try:\n",
    "        return 1.0 / x\n",
    "    except (TypeError, ZeroDivisionError):\n",
    "        print('Error: Unsupported operation.  Returned None')\n",
    "    return None"
   ]
  },
  {
   "cell_type": "markdown",
   "id": "b8dec5ab",
   "metadata": {},
   "source": [
    "Here’s what happens"
   ]
  },
  {
   "cell_type": "code",
   "execution_count": null,
   "id": "efe7e792",
   "metadata": {
    "hide-output": false
   },
   "outputs": [],
   "source": [
    "f(2)"
   ]
  },
  {
   "cell_type": "markdown",
   "id": "69e9359f",
   "metadata": {
    "hide-output": false
   },
   "source": [
    "```myst-ansi\n",
    "0.5\n",
    "```\n"
   ]
  },
  {
   "cell_type": "code",
   "execution_count": null,
   "id": "8adeabe1",
   "metadata": {
    "hide-output": false
   },
   "outputs": [],
   "source": [
    "f(0)"
   ]
  },
  {
   "cell_type": "markdown",
   "id": "7edf0583",
   "metadata": {
    "hide-output": false
   },
   "source": [
    "```myst-ansi\n",
    "Error: Unsupported operation.  Returned None\n",
    "```\n"
   ]
  },
  {
   "cell_type": "code",
   "execution_count": null,
   "id": "f2a8418d",
   "metadata": {
    "hide-output": false
   },
   "outputs": [],
   "source": [
    "f('foo')"
   ]
  },
  {
   "cell_type": "markdown",
   "id": "4dfc9e02",
   "metadata": {
    "hide-output": false
   },
   "source": [
    "```myst-ansi\n",
    "Error: Unsupported operation.  Returned None\n",
    "```\n"
   ]
  },
  {
   "cell_type": "markdown",
   "id": "6ace2cf3",
   "metadata": {},
   "source": [
    "If we feel extra lazy we can catch all error types as follows"
   ]
  },
  {
   "cell_type": "code",
   "execution_count": null,
   "id": "a0e9219e",
   "metadata": {
    "hide-output": false
   },
   "outputs": [],
   "source": [
    "def f(x):\n",
    "    try:\n",
    "        return 1.0 / x\n",
    "    except:\n",
    "        print('Error.  Returned None')\n",
    "    return None"
   ]
  },
  {
   "cell_type": "markdown",
   "id": "1bed0c74",
   "metadata": {},
   "source": [
    "In general it’s better to be specific."
   ]
  },
  {
   "cell_type": "markdown",
   "id": "d608d96f",
   "metadata": {},
   "source": [
    "## Decorators and Descriptors\n",
    "\n",
    "\n",
    "<a id='index-19'></a>\n",
    "Let’s look at some special syntax elements that are routinely used by Python developers.\n",
    "\n",
    "You might not need the following concepts immediately, but you will see them\n",
    "in other people’s code.\n",
    "\n",
    "Hence you need to understand them at some stage of your Python education."
   ]
  },
  {
   "cell_type": "markdown",
   "id": "239c6c96",
   "metadata": {},
   "source": [
    "### Decorators\n",
    "\n",
    "\n",
    "<a id='index-20'></a>\n",
    "Decorators are a bit of syntactic sugar that, while easily avoided, have turned out to be popular.\n",
    "\n",
    "It’s very easy to say what decorators do.\n",
    "\n",
    "On the other hand it takes a bit of effort to explain *why* you might use them."
   ]
  },
  {
   "cell_type": "markdown",
   "id": "6b54215f",
   "metadata": {},
   "source": [
    "#### An Example\n",
    "\n",
    "Suppose we are working on a program that looks something like this"
   ]
  },
  {
   "cell_type": "code",
   "execution_count": null,
   "id": "31be0576",
   "metadata": {
    "hide-output": false
   },
   "outputs": [],
   "source": [
    "import numpy as np\n",
    "\n",
    "def f(x):\n",
    "    return np.log(np.log(x))\n",
    "\n",
    "def g(x):\n",
    "    return np.sqrt(42 * x)\n",
    "\n",
    "# Program continues with various calculations using f and g"
   ]
  },
  {
   "cell_type": "markdown",
   "id": "c05801e2",
   "metadata": {},
   "source": [
    "Now suppose there’s a problem: occasionally negative numbers get fed to `f` and `g` in the calculations that follow.\n",
    "\n",
    "If you try it, you’ll see that when these functions are called with negative numbers they return a NumPy object called `nan` .\n",
    "\n",
    "This stands for “not a number” (and indicates that you are trying to evaluate\n",
    "a mathematical function at a point where it is not defined).\n",
    "\n",
    "Perhaps this isn’t what we want, because it causes other problems that are hard to pick up later on.\n",
    "\n",
    "Suppose that instead we want the program to terminate whenever this happens, with a sensible error message.\n",
    "\n",
    "This change is easy enough to implement"
   ]
  },
  {
   "cell_type": "code",
   "execution_count": null,
   "id": "6432a5c4",
   "metadata": {
    "hide-output": false
   },
   "outputs": [],
   "source": [
    "import numpy as np\n",
    "\n",
    "def f(x):\n",
    "    assert x >= 0, \"Argument must be nonnegative\"\n",
    "    return np.log(np.log(x))\n",
    "\n",
    "def g(x):\n",
    "    assert x >= 0, \"Argument must be nonnegative\"\n",
    "    return np.sqrt(42 * x)\n",
    "\n",
    "# Program continues with various calculations using f and g"
   ]
  },
  {
   "cell_type": "markdown",
   "id": "3642ddd1",
   "metadata": {},
   "source": [
    "Notice however that there is some repetition here, in the form of two identical lines of code.\n",
    "\n",
    "Repetition makes our code longer and harder to maintain, and hence is\n",
    "something we try hard to avoid.\n",
    "\n",
    "Here it’s not a big deal, but imagine now that instead of just `f` and `g`, we have 20 such functions that we need to modify in exactly the same way.\n",
    "\n",
    "This means we need to repeat the test logic (i.e., the `assert` line testing nonnegativity) 20 times.\n",
    "\n",
    "The situation is still worse if the test logic is longer and more complicated.\n",
    "\n",
    "In this kind of scenario the following approach would be neater"
   ]
  },
  {
   "cell_type": "code",
   "execution_count": null,
   "id": "d868ce8c",
   "metadata": {
    "hide-output": false
   },
   "outputs": [],
   "source": [
    "import numpy as np\n",
    "\n",
    "def check_nonneg(func):\n",
    "    def safe_function(x):\n",
    "        assert x >= 0, \"Argument must be nonnegative\"\n",
    "        return func(x)\n",
    "    return safe_function\n",
    "\n",
    "def f(x):\n",
    "    return np.log(np.log(x))\n",
    "\n",
    "def g(x):\n",
    "    return np.sqrt(42 * x)\n",
    "\n",
    "f = check_nonneg(f)\n",
    "g = check_nonneg(g)\n",
    "# Program continues with various calculations using f and g"
   ]
  },
  {
   "cell_type": "markdown",
   "id": "458d4873",
   "metadata": {},
   "source": [
    "This looks complicated so let’s work through it slowly.\n",
    "\n",
    "To unravel the logic, consider what happens when we say `f = check_nonneg(f)`.\n",
    "\n",
    "This calls the function `check_nonneg` with parameter `func` set equal to `f`.\n",
    "\n",
    "Now `check_nonneg` creates a new function called `safe_function` that\n",
    "verifies `x` as nonnegative and then calls `func` on it (which is the same as `f`).\n",
    "\n",
    "Finally, the global name `f` is then set equal to `safe_function`.\n",
    "\n",
    "Now the behavior of `f` is as we desire, and the same is true of `g`.\n",
    "\n",
    "At the same time, the test logic is written only once."
   ]
  },
  {
   "cell_type": "markdown",
   "id": "33990162",
   "metadata": {},
   "source": [
    "#### Enter Decorators\n",
    "\n",
    "\n",
    "<a id='index-21'></a>\n",
    "The last version of our code is still not ideal.\n",
    "\n",
    "For example, if someone is reading our code and wants to know how\n",
    "`f` works, they will be looking for the function definition, which is"
   ]
  },
  {
   "cell_type": "code",
   "execution_count": null,
   "id": "39b0d3d1",
   "metadata": {
    "hide-output": false
   },
   "outputs": [],
   "source": [
    "def f(x):\n",
    "    return np.log(np.log(x))"
   ]
  },
  {
   "cell_type": "markdown",
   "id": "eddb3b9e",
   "metadata": {},
   "source": [
    "They may well miss the line `f = check_nonneg(f)`.\n",
    "\n",
    "For this and other reasons, decorators were introduced to Python.\n",
    "\n",
    "With decorators, we can replace the lines"
   ]
  },
  {
   "cell_type": "code",
   "execution_count": null,
   "id": "5639829a",
   "metadata": {
    "hide-output": false
   },
   "outputs": [],
   "source": [
    "def f(x):\n",
    "    return np.log(np.log(x))\n",
    "\n",
    "def g(x):\n",
    "    return np.sqrt(42 * x)\n",
    "\n",
    "f = check_nonneg(f)\n",
    "g = check_nonneg(g)"
   ]
  },
  {
   "cell_type": "markdown",
   "id": "ba7537f3",
   "metadata": {},
   "source": [
    "with"
   ]
  },
  {
   "cell_type": "code",
   "execution_count": null,
   "id": "0fd0d899",
   "metadata": {
    "hide-output": false
   },
   "outputs": [],
   "source": [
    "@check_nonneg\n",
    "def f(x):\n",
    "    return np.log(np.log(x))\n",
    "\n",
    "@check_nonneg\n",
    "def g(x):\n",
    "    return np.sqrt(42 * x)"
   ]
  },
  {
   "cell_type": "markdown",
   "id": "c6594930",
   "metadata": {},
   "source": [
    "These two pieces of code do exactly the same thing.\n",
    "\n",
    "If they do the same thing, do we really need decorator syntax?\n",
    "\n",
    "Well, notice that the decorators sit right on top of the function definitions.\n",
    "\n",
    "Hence anyone looking at the definition of the function will see them and be\n",
    "aware that the function is modified.\n",
    "\n",
    "In the opinion of many people, this makes the decorator syntax a significant improvement to the language.\n",
    "\n",
    "\n",
    "<a id='descriptors'></a>"
   ]
  },
  {
   "cell_type": "markdown",
   "id": "3aab5d81",
   "metadata": {},
   "source": [
    "### Descriptors\n",
    "\n",
    "\n",
    "<a id='index-22'></a>\n",
    "Descriptors solve a common problem regarding management of variables.\n",
    "\n",
    "To understand the issue, consider a `Car` class, that simulates a car.\n",
    "\n",
    "Suppose that this class defines the variables `miles` and `kms`, which give the distance traveled in miles\n",
    "and kilometers respectively.\n",
    "\n",
    "A highly simplified version of the class might look as follows"
   ]
  },
  {
   "cell_type": "code",
   "execution_count": null,
   "id": "09cbf98d",
   "metadata": {
    "hide-output": false
   },
   "outputs": [],
   "source": [
    "class Car:\n",
    "\n",
    "    def __init__(self, miles=1000):\n",
    "        self.miles = miles\n",
    "        self.kms = miles * 1.61\n",
    "\n",
    "    # Some other functionality, details omitted"
   ]
  },
  {
   "cell_type": "markdown",
   "id": "99c1b735",
   "metadata": {},
   "source": [
    "One potential problem we might have here is that a user alters one of these\n",
    "variables but not the other"
   ]
  },
  {
   "cell_type": "code",
   "execution_count": null,
   "id": "9ee83e5f",
   "metadata": {
    "hide-output": false
   },
   "outputs": [],
   "source": [
    "car = Car()\n",
    "car.miles"
   ]
  },
  {
   "cell_type": "markdown",
   "id": "2499311d",
   "metadata": {
    "hide-output": false
   },
   "source": [
    "```myst-ansi\n",
    "1000\n",
    "```\n"
   ]
  },
  {
   "cell_type": "code",
   "execution_count": null,
   "id": "1194c491",
   "metadata": {
    "hide-output": false
   },
   "outputs": [],
   "source": [
    "car.kms"
   ]
  },
  {
   "cell_type": "markdown",
   "id": "686e2983",
   "metadata": {
    "hide-output": false
   },
   "source": [
    "```myst-ansi\n",
    "1610.0\n",
    "```\n"
   ]
  },
  {
   "cell_type": "code",
   "execution_count": null,
   "id": "319908e4",
   "metadata": {
    "hide-output": false
   },
   "outputs": [],
   "source": [
    "car.miles = 6000\n",
    "car.kms"
   ]
  },
  {
   "cell_type": "markdown",
   "id": "894ffd2d",
   "metadata": {
    "hide-output": false
   },
   "source": [
    "```myst-ansi\n",
    "1610.0\n",
    "```\n"
   ]
  },
  {
   "cell_type": "markdown",
   "id": "dfa86247",
   "metadata": {},
   "source": [
    "In the last two lines we see that `miles` and `kms` are out of sync.\n",
    "\n",
    "What we really want is some mechanism whereby each time a user sets one of these variables, *the other is automatically updated*."
   ]
  },
  {
   "cell_type": "markdown",
   "id": "48c6bd75",
   "metadata": {},
   "source": [
    "#### A Solution\n",
    "\n",
    "In Python, this issue is solved using *descriptors*.\n",
    "\n",
    "A descriptor is just a Python object that implements certain methods.\n",
    "\n",
    "These methods are triggered when the object is accessed through dotted attribute notation.\n",
    "\n",
    "The best way to understand this is to see it in action.\n",
    "\n",
    "Consider this alternative version of the `Car` class"
   ]
  },
  {
   "cell_type": "code",
   "execution_count": null,
   "id": "ba775083",
   "metadata": {
    "hide-output": false
   },
   "outputs": [],
   "source": [
    "class Car:\n",
    "\n",
    "    def __init__(self, miles=1000):\n",
    "        self._miles = miles\n",
    "        self._kms = miles * 1.61\n",
    "\n",
    "    def set_miles(self, value):\n",
    "        self._miles = value\n",
    "        self._kms = value * 1.61\n",
    "\n",
    "    def set_kms(self, value):\n",
    "        self._kms = value\n",
    "        self._miles = value / 1.61\n",
    "\n",
    "    def get_miles(self):\n",
    "        return self._miles\n",
    "\n",
    "    def get_kms(self):\n",
    "        return self._kms\n",
    "\n",
    "    miles = property(get_miles, set_miles)\n",
    "    kms = property(get_kms, set_kms)"
   ]
  },
  {
   "cell_type": "markdown",
   "id": "98d6cce1",
   "metadata": {},
   "source": [
    "First let’s check that we get the desired behavior"
   ]
  },
  {
   "cell_type": "code",
   "execution_count": null,
   "id": "d184c9a4",
   "metadata": {
    "hide-output": false
   },
   "outputs": [],
   "source": [
    "car = Car()\n",
    "car.miles"
   ]
  },
  {
   "cell_type": "markdown",
   "id": "0e21fab9",
   "metadata": {
    "hide-output": false
   },
   "source": [
    "```myst-ansi\n",
    "1000\n",
    "```\n"
   ]
  },
  {
   "cell_type": "code",
   "execution_count": null,
   "id": "fa34cc6c",
   "metadata": {
    "hide-output": false
   },
   "outputs": [],
   "source": [
    "car.miles = 6000\n",
    "car.kms"
   ]
  },
  {
   "cell_type": "markdown",
   "id": "360e7f5a",
   "metadata": {
    "hide-output": false
   },
   "source": [
    "```myst-ansi\n",
    "9660.0\n",
    "```\n"
   ]
  },
  {
   "cell_type": "markdown",
   "id": "f16b7a71",
   "metadata": {},
   "source": [
    "Yep, that’s what we want — `car.kms` is automatically updated."
   ]
  },
  {
   "cell_type": "markdown",
   "id": "2af4edd0",
   "metadata": {},
   "source": [
    "#### How it Works\n",
    "\n",
    "The names `_miles` and `_kms` are arbitrary names we are using to store the values of the variables.\n",
    "\n",
    "The objects `miles` and `kms` are *properties*, a common kind of descriptor.\n",
    "\n",
    "The methods `get_miles`, `set_miles`, `get_kms` and `set_kms` define\n",
    "what happens when you get (i.e. access) or set (bind) these variables\n",
    "\n",
    "- So-called “getter” and “setter” methods.  \n",
    "\n",
    "\n",
    "The builtin Python function `property` takes getter and setter methods and creates a property.\n",
    "\n",
    "For example, after `car` is created as an instance of `Car`, the object `car.miles` is a property.\n",
    "\n",
    "Being a property, when we set its value via `car.miles = 6000` its setter\n",
    "method is triggered — in this case `set_miles`."
   ]
  },
  {
   "cell_type": "markdown",
   "id": "3dbe1045",
   "metadata": {},
   "source": [
    "#### Decorators and Properties\n",
    "\n",
    "\n",
    "<a id='index-24'></a>\n",
    "These days its very common to see the `property` function used via a decorator.\n",
    "\n",
    "Here’s another version of our `Car` class that works as before but now uses\n",
    "decorators to set up the properties"
   ]
  },
  {
   "cell_type": "code",
   "execution_count": null,
   "id": "4be123a3",
   "metadata": {
    "hide-output": false
   },
   "outputs": [],
   "source": [
    "class Car:\n",
    "\n",
    "    def __init__(self, miles=1000):\n",
    "        self._miles = miles\n",
    "        self._kms = miles * 1.61\n",
    "\n",
    "    @property\n",
    "    def miles(self):\n",
    "        return self._miles\n",
    "\n",
    "    @property\n",
    "    def kms(self):\n",
    "        return self._kms\n",
    "\n",
    "    @miles.setter\n",
    "    def miles(self, value):\n",
    "        self._miles = value\n",
    "        self._kms = value * 1.61\n",
    "\n",
    "    @kms.setter\n",
    "    def kms(self, value):\n",
    "        self._kms = value\n",
    "        self._miles = value / 1.61"
   ]
  },
  {
   "cell_type": "markdown",
   "id": "a4c4d427",
   "metadata": {},
   "source": [
    "We won’t go through all the details here.\n",
    "\n",
    "For further information you can refer to the [descriptor documentation](https://docs.python.org/3/howto/descriptor.html).\n",
    "\n",
    "\n",
    "<a id='paf-generators'></a>"
   ]
  },
  {
   "cell_type": "markdown",
   "id": "8be59354",
   "metadata": {},
   "source": [
    "## Generators\n",
    "\n",
    "\n",
    "<a id='index-25'></a>\n",
    "A generator is a kind of iterator (i.e., it works with a `next` function).\n",
    "\n",
    "We will study two ways to build generators: generator expressions and generator functions."
   ]
  },
  {
   "cell_type": "markdown",
   "id": "6ec035a8",
   "metadata": {},
   "source": [
    "### Generator Expressions\n",
    "\n",
    "The easiest way to build generators is using *generator expressions*.\n",
    "\n",
    "Just like a list comprehension, but with round brackets.\n",
    "\n",
    "Here is the list comprehension:"
   ]
  },
  {
   "cell_type": "code",
   "execution_count": null,
   "id": "6037ecf5",
   "metadata": {
    "hide-output": false
   },
   "outputs": [],
   "source": [
    "singular = ('dog', 'cat', 'bird')\n",
    "type(singular)"
   ]
  },
  {
   "cell_type": "markdown",
   "id": "6da03abc",
   "metadata": {
    "hide-output": false
   },
   "source": [
    "```myst-ansi\n",
    "tuple\n",
    "```\n"
   ]
  },
  {
   "cell_type": "code",
   "execution_count": null,
   "id": "bd3b86c6",
   "metadata": {
    "hide-output": false
   },
   "outputs": [],
   "source": [
    "plural = [string + 's' for string in singular]\n",
    "plural"
   ]
  },
  {
   "cell_type": "markdown",
   "id": "0b563d2f",
   "metadata": {
    "hide-output": false
   },
   "source": [
    "```myst-ansi\n",
    "['dogs', 'cats', 'birds']\n",
    "```\n"
   ]
  },
  {
   "cell_type": "code",
   "execution_count": null,
   "id": "d5d958a1",
   "metadata": {
    "hide-output": false
   },
   "outputs": [],
   "source": [
    "type(plural)"
   ]
  },
  {
   "cell_type": "markdown",
   "id": "01925f57",
   "metadata": {
    "hide-output": false
   },
   "source": [
    "```myst-ansi\n",
    "list\n",
    "```\n"
   ]
  },
  {
   "cell_type": "markdown",
   "id": "b1249b75",
   "metadata": {},
   "source": [
    "And here is the generator expression"
   ]
  },
  {
   "cell_type": "code",
   "execution_count": null,
   "id": "c6498aab",
   "metadata": {
    "hide-output": false
   },
   "outputs": [],
   "source": [
    "singular = ('dog', 'cat', 'bird')\n",
    "plural = (string + 's' for string in singular)\n",
    "type(plural)"
   ]
  },
  {
   "cell_type": "markdown",
   "id": "1098650e",
   "metadata": {
    "hide-output": false
   },
   "source": [
    "```myst-ansi\n",
    "generator\n",
    "```\n"
   ]
  },
  {
   "cell_type": "code",
   "execution_count": null,
   "id": "f7b5d975",
   "metadata": {
    "hide-output": false
   },
   "outputs": [],
   "source": [
    "next(plural)"
   ]
  },
  {
   "cell_type": "markdown",
   "id": "6a229a63",
   "metadata": {
    "hide-output": false
   },
   "source": [
    "```myst-ansi\n",
    "'dogs'\n",
    "```\n"
   ]
  },
  {
   "cell_type": "code",
   "execution_count": null,
   "id": "aa8e28fb",
   "metadata": {
    "hide-output": false
   },
   "outputs": [],
   "source": [
    "next(plural)"
   ]
  },
  {
   "cell_type": "markdown",
   "id": "e8bf7a11",
   "metadata": {
    "hide-output": false
   },
   "source": [
    "```myst-ansi\n",
    "'cats'\n",
    "```\n"
   ]
  },
  {
   "cell_type": "code",
   "execution_count": null,
   "id": "e28ad190",
   "metadata": {
    "hide-output": false
   },
   "outputs": [],
   "source": [
    "next(plural)"
   ]
  },
  {
   "cell_type": "markdown",
   "id": "80fa7381",
   "metadata": {
    "hide-output": false
   },
   "source": [
    "```myst-ansi\n",
    "'birds'\n",
    "```\n"
   ]
  },
  {
   "cell_type": "markdown",
   "id": "58f4d66d",
   "metadata": {},
   "source": [
    "Since `sum()` can be called on iterators, we can do this"
   ]
  },
  {
   "cell_type": "code",
   "execution_count": null,
   "id": "783fa792",
   "metadata": {
    "hide-output": false
   },
   "outputs": [],
   "source": [
    "sum((x * x for x in range(10)))"
   ]
  },
  {
   "cell_type": "markdown",
   "id": "aaf0bed9",
   "metadata": {
    "hide-output": false
   },
   "source": [
    "```myst-ansi\n",
    "285\n",
    "```\n"
   ]
  },
  {
   "cell_type": "markdown",
   "id": "38ac9686",
   "metadata": {},
   "source": [
    "The function `sum()` calls `next()` to get the items, adds successive terms.\n",
    "\n",
    "In fact, we can omit the outer brackets in this case"
   ]
  },
  {
   "cell_type": "code",
   "execution_count": null,
   "id": "4efcc16e",
   "metadata": {
    "hide-output": false
   },
   "outputs": [],
   "source": [
    "sum(x * x for x in range(10))"
   ]
  },
  {
   "cell_type": "markdown",
   "id": "e1cbf748",
   "metadata": {
    "hide-output": false
   },
   "source": [
    "```myst-ansi\n",
    "285\n",
    "```\n"
   ]
  },
  {
   "cell_type": "markdown",
   "id": "522b0a82",
   "metadata": {},
   "source": [
    "### Generator Functions\n",
    "\n",
    "\n",
    "<a id='index-26'></a>\n",
    "The most flexible way to create generator objects is to use generator functions.\n",
    "\n",
    "Let’s look at some examples."
   ]
  },
  {
   "cell_type": "markdown",
   "id": "b944ff8c",
   "metadata": {},
   "source": [
    "#### Example 1\n",
    "\n",
    "Here’s a very simple example of a generator function"
   ]
  },
  {
   "cell_type": "code",
   "execution_count": null,
   "id": "ff2e7588",
   "metadata": {
    "hide-output": false
   },
   "outputs": [],
   "source": [
    "def f():\n",
    "    yield 'start'\n",
    "    yield 'middle'\n",
    "    yield 'end'"
   ]
  },
  {
   "cell_type": "markdown",
   "id": "00b836fb",
   "metadata": {},
   "source": [
    "It looks like a function, but uses a keyword `yield` that we haven’t met before.\n",
    "\n",
    "Let’s see how it works after running this code"
   ]
  },
  {
   "cell_type": "code",
   "execution_count": null,
   "id": "b760102b",
   "metadata": {
    "hide-output": false
   },
   "outputs": [],
   "source": [
    "type(f)"
   ]
  },
  {
   "cell_type": "markdown",
   "id": "c06b9324",
   "metadata": {
    "hide-output": false
   },
   "source": [
    "```myst-ansi\n",
    "function\n",
    "```\n"
   ]
  },
  {
   "cell_type": "code",
   "execution_count": null,
   "id": "35db4adc",
   "metadata": {
    "hide-output": false
   },
   "outputs": [],
   "source": [
    "gen = f()\n",
    "gen"
   ]
  },
  {
   "cell_type": "markdown",
   "id": "890ca778",
   "metadata": {
    "hide-output": false
   },
   "source": [
    "```myst-ansi\n",
    "<generator object f at 0x105d4a350>\n",
    "```\n"
   ]
  },
  {
   "cell_type": "code",
   "execution_count": null,
   "id": "c65c8c0e",
   "metadata": {
    "hide-output": false
   },
   "outputs": [],
   "source": [
    "next(gen)"
   ]
  },
  {
   "cell_type": "markdown",
   "id": "23b0cb76",
   "metadata": {
    "hide-output": false
   },
   "source": [
    "```myst-ansi\n",
    "'start'\n",
    "```\n"
   ]
  },
  {
   "cell_type": "code",
   "execution_count": null,
   "id": "a25ae114",
   "metadata": {
    "hide-output": false
   },
   "outputs": [],
   "source": [
    "next(gen)"
   ]
  },
  {
   "cell_type": "markdown",
   "id": "ae69b1d9",
   "metadata": {
    "hide-output": false
   },
   "source": [
    "```myst-ansi\n",
    "'middle'\n",
    "```\n"
   ]
  },
  {
   "cell_type": "code",
   "execution_count": null,
   "id": "5dab5695",
   "metadata": {
    "hide-output": false
   },
   "outputs": [],
   "source": [
    "next(gen)"
   ]
  },
  {
   "cell_type": "markdown",
   "id": "158ee550",
   "metadata": {
    "hide-output": false
   },
   "source": [
    "```myst-ansi\n",
    "'end'\n",
    "```\n"
   ]
  },
  {
   "cell_type": "code",
   "execution_count": null,
   "id": "293dc5f5",
   "metadata": {
    "hide-output": false
   },
   "outputs": [],
   "source": [
    "next(gen)"
   ]
  },
  {
   "cell_type": "markdown",
   "id": "89e30db5",
   "metadata": {
    "hide-output": false
   },
   "source": [
    "```ipythontb\n",
    "---------------------------------------------------------------------------\n",
    "StopIteration                             Traceback (most recent call last)\n",
    "Cell In[110], line 1\n",
    "----> 1 next(gen)\n",
    "\n",
    "StopIteration: \n",
    "```\n"
   ]
  },
  {
   "cell_type": "markdown",
   "id": "76e1c5fb",
   "metadata": {},
   "source": [
    "The generator function `f()` is used to create generator objects (in this case `gen`).\n",
    "\n",
    "Generators are iterators, because they support a `next` method.\n",
    "\n",
    "The first call to `next(gen)`\n",
    "\n",
    "- Executes code in the body of `f()` until it meets a `yield` statement.  \n",
    "- Returns that value to the caller of `next(gen)`.  \n",
    "\n",
    "\n",
    "The second call to `next(gen)` starts executing *from the next line*"
   ]
  },
  {
   "cell_type": "code",
   "execution_count": null,
   "id": "980d0375",
   "metadata": {
    "hide-output": false
   },
   "outputs": [],
   "source": [
    "def f():\n",
    "    yield 'start'\n",
    "    yield 'middle'  # This line!\n",
    "    yield 'end'"
   ]
  },
  {
   "cell_type": "markdown",
   "id": "bde7e1b6",
   "metadata": {},
   "source": [
    "and continues until the next `yield` statement.\n",
    "\n",
    "At that point it returns the value following `yield` to the caller of `next(gen)`, and so on.\n",
    "\n",
    "When the code block ends, the generator throws a `StopIteration` error."
   ]
  },
  {
   "cell_type": "markdown",
   "id": "f61448fb",
   "metadata": {},
   "source": [
    "#### Example 2\n",
    "\n",
    "Our next example receives an argument `x` from the caller"
   ]
  },
  {
   "cell_type": "code",
   "execution_count": null,
   "id": "bbb6c509",
   "metadata": {
    "hide-output": false
   },
   "outputs": [],
   "source": [
    "def g(x):\n",
    "    while x < 100:\n",
    "        yield x\n",
    "        x = x * x"
   ]
  },
  {
   "cell_type": "markdown",
   "id": "14a70094",
   "metadata": {},
   "source": [
    "Let’s see how it works"
   ]
  },
  {
   "cell_type": "code",
   "execution_count": null,
   "id": "3fdd97cc",
   "metadata": {
    "hide-output": false
   },
   "outputs": [],
   "source": [
    "g"
   ]
  },
  {
   "cell_type": "markdown",
   "id": "2e4b5527",
   "metadata": {
    "hide-output": false
   },
   "source": [
    "```myst-ansi\n",
    "<function __main__.g(x)>\n",
    "```\n"
   ]
  },
  {
   "cell_type": "code",
   "execution_count": null,
   "id": "7129e8b1",
   "metadata": {
    "hide-output": false
   },
   "outputs": [],
   "source": [
    "gen = g(2)\n",
    "type(gen)"
   ]
  },
  {
   "cell_type": "markdown",
   "id": "e80fd107",
   "metadata": {
    "hide-output": false
   },
   "source": [
    "```myst-ansi\n",
    "generator\n",
    "```\n"
   ]
  },
  {
   "cell_type": "code",
   "execution_count": null,
   "id": "6a6e3832",
   "metadata": {
    "hide-output": false
   },
   "outputs": [],
   "source": [
    "next(gen)"
   ]
  },
  {
   "cell_type": "markdown",
   "id": "ea2bc9e9",
   "metadata": {
    "hide-output": false
   },
   "source": [
    "```myst-ansi\n",
    "2\n",
    "```\n"
   ]
  },
  {
   "cell_type": "code",
   "execution_count": null,
   "id": "83236580",
   "metadata": {
    "hide-output": false
   },
   "outputs": [],
   "source": [
    "next(gen)"
   ]
  },
  {
   "cell_type": "markdown",
   "id": "4a61b109",
   "metadata": {
    "hide-output": false
   },
   "source": [
    "```myst-ansi\n",
    "4\n",
    "```\n"
   ]
  },
  {
   "cell_type": "code",
   "execution_count": null,
   "id": "9d10931a",
   "metadata": {
    "hide-output": false
   },
   "outputs": [],
   "source": [
    "next(gen)"
   ]
  },
  {
   "cell_type": "markdown",
   "id": "e9d0b982",
   "metadata": {
    "hide-output": false
   },
   "source": [
    "```myst-ansi\n",
    "16\n",
    "```\n"
   ]
  },
  {
   "cell_type": "code",
   "execution_count": null,
   "id": "93782a94",
   "metadata": {
    "hide-output": false
   },
   "outputs": [],
   "source": [
    "next(gen)"
   ]
  },
  {
   "cell_type": "markdown",
   "id": "bce7222d",
   "metadata": {
    "hide-output": false
   },
   "source": [
    "```ipythontb\n",
    "---------------------------------------------------------------------------\n",
    "StopIteration                             Traceback (most recent call last)\n",
    "Cell In[118], line 1\n",
    "----> 1 next(gen)\n",
    "\n",
    "StopIteration: \n",
    "```\n"
   ]
  },
  {
   "cell_type": "markdown",
   "id": "2f88e1e0",
   "metadata": {},
   "source": [
    "The call `gen = g(2)` binds `gen` to a generator.\n",
    "\n",
    "Inside the generator, the name `x` is bound to `2`.\n",
    "\n",
    "When we call `next(gen)`\n",
    "\n",
    "- The body of `g()` executes until the line `yield x`, and the value of `x` is returned.  \n",
    "\n",
    "\n",
    "Note that value of `x` is retained inside the generator.\n",
    "\n",
    "When we call `next(gen)` again, execution continues *from where it left off*"
   ]
  },
  {
   "cell_type": "code",
   "execution_count": null,
   "id": "ccec2f78",
   "metadata": {
    "hide-output": false
   },
   "outputs": [],
   "source": [
    "def g(x):\n",
    "    while x < 100:\n",
    "        yield x\n",
    "        x = x * x  # execution continues from here"
   ]
  },
  {
   "cell_type": "markdown",
   "id": "b6244ca0",
   "metadata": {},
   "source": [
    "When `x < 100` fails, the generator throws a `StopIteration` error.\n",
    "\n",
    "Incidentally, the loop inside the generator can be infinite"
   ]
  },
  {
   "cell_type": "code",
   "execution_count": null,
   "id": "669b5631",
   "metadata": {
    "hide-output": false
   },
   "outputs": [],
   "source": [
    "def g(x):\n",
    "    while 1:\n",
    "        yield x\n",
    "        x = x * x"
   ]
  },
  {
   "cell_type": "markdown",
   "id": "03965437",
   "metadata": {},
   "source": [
    "### Advantages of Iterators\n",
    "\n",
    "What’s the advantage of using an iterator here?\n",
    "\n",
    "Suppose we want to sample a binomial(n,0.5).\n",
    "\n",
    "One way to do it is as follows"
   ]
  },
  {
   "cell_type": "code",
   "execution_count": null,
   "id": "547fad61",
   "metadata": {
    "hide-output": false
   },
   "outputs": [],
   "source": [
    "import random\n",
    "n = 10000000\n",
    "draws = [random.uniform(0, 1) < 0.5 for i in range(n)]\n",
    "sum(draws)"
   ]
  },
  {
   "cell_type": "markdown",
   "id": "8e3e6246",
   "metadata": {
    "hide-output": false
   },
   "source": [
    "```myst-ansi\n",
    "4998435\n",
    "```\n"
   ]
  },
  {
   "cell_type": "markdown",
   "id": "8d4189cf",
   "metadata": {},
   "source": [
    "But we are creating two huge lists here,  `range(n)` and `draws`.\n",
    "\n",
    "This uses lots of memory and is very slow.\n",
    "\n",
    "If we make `n` even bigger then this happens"
   ]
  },
  {
   "cell_type": "code",
   "execution_count": null,
   "id": "af572738",
   "metadata": {
    "hide-output": false
   },
   "outputs": [],
   "source": [
    "n = 100000000\n",
    "draws = [random.uniform(0, 1) < 0.5 for i in range(n)]"
   ]
  },
  {
   "cell_type": "markdown",
   "id": "f9204845",
   "metadata": {},
   "source": [
    "We can avoid these problems using iterators.\n",
    "\n",
    "Here is the generator function"
   ]
  },
  {
   "cell_type": "code",
   "execution_count": null,
   "id": "a9598057",
   "metadata": {
    "hide-output": false
   },
   "outputs": [],
   "source": [
    "def f(n):\n",
    "    i = 1\n",
    "    while i <= n:\n",
    "        yield random.uniform(0, 1) < 0.5\n",
    "        i += 1"
   ]
  },
  {
   "cell_type": "markdown",
   "id": "574fb1c9",
   "metadata": {},
   "source": [
    "Now let’s do the sum"
   ]
  },
  {
   "cell_type": "code",
   "execution_count": null,
   "id": "8be34e9d",
   "metadata": {
    "hide-output": false
   },
   "outputs": [],
   "source": [
    "n = 10000000\n",
    "draws = f(n)\n",
    "draws"
   ]
  },
  {
   "cell_type": "markdown",
   "id": "6b4eb18f",
   "metadata": {
    "hide-output": false
   },
   "source": [
    "```myst-ansi\n",
    "<generator object f at 0x105d4ae40>\n",
    "```\n"
   ]
  },
  {
   "cell_type": "code",
   "execution_count": null,
   "id": "5eab1931",
   "metadata": {
    "hide-output": false
   },
   "outputs": [],
   "source": [
    "sum(draws)"
   ]
  },
  {
   "cell_type": "markdown",
   "id": "b1f5c3b9",
   "metadata": {
    "hide-output": false
   },
   "source": [
    "```myst-ansi\n",
    "4999565\n",
    "```\n"
   ]
  },
  {
   "cell_type": "markdown",
   "id": "54c4665f",
   "metadata": {},
   "source": [
    "In summary, iterables\n",
    "\n",
    "- avoid the need to create big lists/tuples, and  \n",
    "- provide a uniform interface to iteration that can be used transparently in `for` loops  \n",
    "\n",
    "\n",
    "\n",
    "<a id='recursive-functions'></a>"
   ]
  },
  {
   "cell_type": "markdown",
   "id": "46d5bde8",
   "metadata": {},
   "source": [
    "## Recursive Function Calls\n",
    "\n",
    "\n",
    "<a id='index-27'></a>\n",
    "This is not something that you will use every day, but it is still useful — you should learn it at some stage.\n",
    "\n",
    "Basically, a recursive function is a function that calls itself.\n",
    "\n",
    "For example, consider the problem of computing $ x_t $ for some t when\n",
    "\n",
    "\n",
    "<a id='equation-xseqdoub'></a>\n",
    "$$\n",
    "x_{t+1} = 2 x_t, \\quad x_0 = 1 \\tag{15.1}\n",
    "$$\n",
    "\n",
    "Obviously the answer is $ 2^t $.\n",
    "\n",
    "We can compute this easily enough with a loop"
   ]
  },
  {
   "cell_type": "code",
   "execution_count": null,
   "id": "b81f8565",
   "metadata": {
    "hide-output": false
   },
   "outputs": [],
   "source": [
    "def x_loop(t):\n",
    "    x = 1\n",
    "    for i in range(t):\n",
    "        x = 2 * x\n",
    "    return x"
   ]
  },
  {
   "cell_type": "markdown",
   "id": "111b31ae",
   "metadata": {},
   "source": [
    "We can also use a recursive solution, as follows"
   ]
  },
  {
   "cell_type": "code",
   "execution_count": null,
   "id": "2f2f3d53",
   "metadata": {
    "hide-output": false
   },
   "outputs": [],
   "source": [
    "def x(t):\n",
    "    if t == 0:\n",
    "        return 1\n",
    "    else:\n",
    "        return 2 * x(t-1)"
   ]
  },
  {
   "cell_type": "markdown",
   "id": "505ba1b1",
   "metadata": {},
   "source": [
    "What happens here is that each successive call uses it’s own *frame* in the *stack*\n",
    "\n",
    "- a frame is where the local variables of a given function call are held  \n",
    "- stack is memory used to process function calls  \n",
    "  - a First In Last Out (FILO) queue  \n",
    "\n",
    "\n",
    "This example is somewhat contrived, since the first (iterative) solution would usually be preferred to the recursive solution.\n",
    "\n",
    "We’ll meet less contrived applications of recursion later on."
   ]
  },
  {
   "cell_type": "markdown",
   "id": "d7bcc7b2",
   "metadata": {},
   "source": [
    "## Exercises"
   ]
  },
  {
   "cell_type": "markdown",
   "id": "c1e2d0ef",
   "metadata": {},
   "source": [
    "### Exercise 1\n",
    "\n",
    "The Fibonacci numbers are defined by\n",
    "\n",
    "\n",
    "<a id='equation-fib'></a>\n",
    "$$\n",
    "x_{t+1} = x_t + x_{t-1}, \\quad x_0 = 0, \\; x_1 = 1 \\tag{15.2}\n",
    "$$\n",
    "\n",
    "The first few numbers in the sequence are $ 0, 1, 1, 2, 3, 5, 8, 13, 21, 34, 55 $.\n",
    "\n",
    "Write a function to recursively compute the $ t $-th Fibonacci number for any $ t $."
   ]
  },
  {
   "cell_type": "markdown",
   "id": "1b977493",
   "metadata": {},
   "source": [
    "### Exercise 2\n",
    "\n",
    "Complete the following code, and test it using [this csv file](https://raw.githubusercontent.com/QuantEcon/lecture-python-programming/master/source/_static/lecture_specific/python_advanced_features/test_table.csv), which we assume that you’ve put in your current working directory"
   ]
  },
  {
   "cell_type": "markdown",
   "id": "4479e9b7",
   "metadata": {
    "hide-output": false
   },
   "source": [
    "```python3\n",
    "def column_iterator(target_file, column_number):\n",
    "    \"\"\"A generator function for CSV files.\n",
    "    When called with a file name target_file (string) and column number\n",
    "    column_number (integer), the generator function returns a generator\n",
    "    that steps through the elements of column column_number in file\n",
    "    target_file.\n",
    "    \"\"\"\n",
    "    # put your code here\n",
    "\n",
    "dates = column_iterator('test_table.csv', 1)\n",
    "\n",
    "for date in dates:\n",
    "    print(date)\n",
    "```\n"
   ]
  },
  {
   "cell_type": "markdown",
   "id": "6cd5c37a",
   "metadata": {},
   "source": [
    "### Exercise 3\n",
    "\n",
    "Suppose we have a text file `numbers.txt` containing the following lines"
   ]
  },
  {
   "cell_type": "markdown",
   "id": "d03ccbb4",
   "metadata": {
    "hide-output": false
   },
   "source": [
    "```text\n",
    "prices\n",
    "3\n",
    "8\n",
    "\n",
    "7\n",
    "21\n",
    "```\n"
   ]
  },
  {
   "cell_type": "markdown",
   "id": "7d84ece8",
   "metadata": {},
   "source": [
    "Using `try` – `except`, write a program to read in the contents of the file and sum the numbers, ignoring lines without numbers."
   ]
  },
  {
   "cell_type": "markdown",
   "id": "d7464212",
   "metadata": {},
   "source": [
    "## Solutions"
   ]
  },
  {
   "cell_type": "markdown",
   "id": "44b1ec04",
   "metadata": {},
   "source": [
    "### Exercise 1\n",
    "\n",
    "Here’s the standard solution"
   ]
  },
  {
   "cell_type": "code",
   "execution_count": null,
   "id": "71fed51a",
   "metadata": {
    "hide-output": false
   },
   "outputs": [],
   "source": [
    "def x(t):\n",
    "    if t == 0:\n",
    "        return 0\n",
    "    if t == 1:\n",
    "        return 1\n",
    "    else:\n",
    "        return x(t-1) + x(t-2)"
   ]
  },
  {
   "cell_type": "markdown",
   "id": "d365bb98",
   "metadata": {},
   "source": [
    "Let’s test it"
   ]
  },
  {
   "cell_type": "code",
   "execution_count": null,
   "id": "f8804e68",
   "metadata": {
    "hide-output": false
   },
   "outputs": [],
   "source": [
    "print([x(i) for i in range(10)])"
   ]
  },
  {
   "cell_type": "markdown",
   "id": "59e380ae",
   "metadata": {
    "hide-output": false
   },
   "source": [
    "```myst-ansi\n",
    "[0, 1, 1, 2, 3, 5, 8, 13, 21, 34]\n",
    "```\n"
   ]
  },
  {
   "cell_type": "markdown",
   "id": "d1cde1e2",
   "metadata": {},
   "source": [
    "### Exercise 2\n",
    "\n",
    "One solution is as follows"
   ]
  },
  {
   "cell_type": "code",
   "execution_count": null,
   "id": "7750e060",
   "metadata": {
    "hide-output": false
   },
   "outputs": [],
   "source": [
    "def column_iterator(target_file, column_number):\n",
    "    \"\"\"A generator function for CSV files.\n",
    "    When called with a file name target_file (string) and column number\n",
    "    column_number (integer), the generator function returns a generator\n",
    "    which steps through the elements of column column_number in file\n",
    "    target_file.\n",
    "    \"\"\"\n",
    "    f = open(target_file, 'r')\n",
    "    for line in f:\n",
    "        yield line.split(',')[column_number - 1]\n",
    "    f.close()\n",
    "\n",
    "dates = column_iterator('test_table.csv', 1)\n",
    "\n",
    "i = 1\n",
    "for date in dates:\n",
    "    print(date)\n",
    "    if i == 10:\n",
    "        break\n",
    "    i += 1"
   ]
  },
  {
   "cell_type": "markdown",
   "id": "e9f52104",
   "metadata": {
    "hide-output": false
   },
   "source": [
    "```myst-ansi\n",
    "Date\n",
    "2009-05-21\n",
    "2009-05-20\n",
    "2009-05-19\n",
    "2009-05-18\n",
    "2009-05-15\n",
    "2009-05-14\n",
    "2009-05-13\n",
    "2009-05-12\n",
    "2009-05-11\n",
    "```\n"
   ]
  },
  {
   "cell_type": "markdown",
   "id": "ad3b74ff",
   "metadata": {},
   "source": [
    "### Exercise 3\n",
    "\n",
    "Let’s save the data first"
   ]
  },
  {
   "cell_type": "code",
   "execution_count": null,
   "id": "1aa01c5c",
   "metadata": {
    "hide-output": false
   },
   "outputs": [],
   "source": [
    "%%file numbers.txt\n",
    "prices\n",
    "3\n",
    "8\n",
    "\n",
    "7\n",
    "21"
   ]
  },
  {
   "cell_type": "markdown",
   "id": "038a4141",
   "metadata": {
    "hide-output": false
   },
   "source": [
    "```myst-ansi\n",
    "Writing numbers.txt\n",
    "```\n"
   ]
  },
  {
   "cell_type": "code",
   "execution_count": null,
   "id": "07e94e55",
   "metadata": {
    "hide-output": false
   },
   "outputs": [],
   "source": [
    "f = open('numbers.txt')\n",
    "\n",
    "total = 0.0\n",
    "for line in f:\n",
    "    try:\n",
    "        total += float(line)\n",
    "    except ValueError:\n",
    "        pass\n",
    "\n",
    "f.close()\n",
    "\n",
    "print(total)"
   ]
  },
  {
   "cell_type": "markdown",
   "id": "f74a6272",
   "metadata": {
    "hide-output": false
   },
   "source": [
    "```myst-ansi\n",
    "39.0\n",
    "```\n"
   ]
  }
 ],
 "metadata": {
  "date": 1679268151.902905,
  "filename": "python_advanced_features.md",
  "kernelspec": {
   "display_name": "Python",
   "language": "python3",
   "name": "python3"
  },
  "title": "More Language Features"
 },
 "nbformat": 4,
 "nbformat_minor": 5
}