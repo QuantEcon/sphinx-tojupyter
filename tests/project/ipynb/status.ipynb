{
 "cells": [
  {
   "cell_type": "markdown",
   "id": "a1f0c874",
   "metadata": {},
   "source": [
    "# Execution Statistics\n",
    "\n",
    "This table contains the latest execution statistics.\n",
    "\n",
    "[](about_py.ipynb)[](debugging.ipynb)[](functions.ipynb)[](getting_started.ipynb)[](intro.ipynb)[](jax_intro.ipynb)[](matplotlib.ipynb)[](names.ipynb)[](need_for_speed.ipynb)[](numba.ipynb)[](numpy.ipynb)[](oop_intro.ipynb)[](pandas.ipynb)[](pandas_panel.ipynb)[](parallelization.ipynb)[](python_advanced_features.ipynb)[](python_by_example.ipynb)[](python_essentials.ipynb)[](python_oop.ipynb)[](scipy.ipynb)[](.ipynb)[](sympy.ipynb)[](troubleshooting.ipynb)[](workspace.ipynb)[](writing_good_code.ipynb)|Document|Modified|Method|Run Time (s)|Status|\n",
    "|:------------------:|:------------------:|:------------------:|:------------------:|:------------------:|\n",
    "|about_py|2025-07-25 14:07|cache|2.39|✅|\n",
    "|debugging|2025-07-25 14:08|cache|1.52|✅|\n",
    "|functions|2025-07-25 14:08|cache|1.56|✅|\n",
    "|getting_started|2025-07-25 14:08|cache|1.27|✅|\n",
    "|intro|2023-03-21 01:08|cache|1.11|✅|\n",
    "|jax_intro|2025-07-25 14:08|cache|0.84|✅|\n",
    "|matplotlib|2025-07-25 14:08|cache|2.52|✅|\n",
    "|names|2025-07-25 14:08|cache|0.93|✅|\n",
    "|need_for_speed|2025-07-25 14:08|cache|3.97|✅|\n",
    "|numba|2025-07-25 14:08|cache|6.55|✅|\n",
    "|numpy|2025-07-25 14:08|cache|5.43|✅|\n",
    "|oop_intro|2025-07-25 14:08|cache|1.91|✅|\n",
    "|pandas|2025-07-25 14:08|cache|13.14|✅|\n",
    "|pandas_panel|2025-07-25 14:08|cache|5.02|✅|\n",
    "|parallelization|2025-07-25 14:09|cache|31.34|✅|\n",
    "|python_advanced_features|2025-07-25 14:09|cache|14.48|✅|\n",
    "|python_by_example|2025-07-25 14:09|cache|4.64|✅|\n",
    "|python_essentials|2025-07-25 14:09|cache|4.04|✅|\n",
    "|python_oop|2025-07-25 14:09|cache|1.97|✅|\n",
    "|scipy|2025-07-25 14:09|cache|17.38|✅|\n",
    "|status|2025-07-25 14:10|cache|4.15|✅|\n",
    "|sympy|2025-07-25 14:10|cache|4.5|✅|\n",
    "|troubleshooting|2023-03-21 01:08|cache|1.11|✅|\n",
    "|workspace|2023-03-21 01:08|cache|1.11|✅|\n",
    "|writing_good_code|2025-07-25 14:10|cache|1.86|✅|\n",
    "\n",
    "<a id='status-machine-details'></a>\n",
    "These lectures are built on `linux` instances through `github actions`.\n",
    "\n",
    "These lectures are using the following python version"
   ]
  },
  {
   "cell_type": "markdown",
   "id": "d79f147b",
   "metadata": {
    "hide-output": false
   },
   "source": [
    "```ipython3\n",
    "!python --version\n",
    "```\n"
   ]
  },
  {
   "cell_type": "markdown",
   "id": "a90a7caf",
   "metadata": {},
   "source": [
    "and the following package versions"
   ]
  },
  {
   "cell_type": "markdown",
   "id": "6703e19a",
   "metadata": {
    "hide-output": false
   },
   "source": [
    "```ipython3\n",
    "!conda list\n",
    "```\n"
   ]
  }
 ],
 "metadata": {
  "date": 1753420494.47707,
  "filename": "status.md",
  "kernelspec": {
   "display_name": "Python",
   "language": "python3",
   "name": "python3"
  },
  "title": "Execution Statistics"
 },
 "nbformat": 4,
 "nbformat_minor": 5
}