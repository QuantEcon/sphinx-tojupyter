{
 "cells": [
  {
   "cell_type": "markdown",
   "metadata": {},
   "source": [
    "(config_project)=\n",
    "# Managing Large Projects\n",
    "\n",
    "Large projects may require different build pathways due to the time required\n",
    "for execution of embedded code. This can be done by modifying the `Makefile`\n",
    "to accommodate multiple build pathways.\n",
    "\n",
    "You may, for example, wish to leave `make jupyter` simply building notebooks\n",
    "while setting up an alternative `make` command to target a full `website`\n",
    "build.\n",
    "\n",
    "In the `Makefile` you can add an alternative build target such as:\n",
    "\n",
    "```{code-block} bash\n",
    "BUILDWEBSITE  = _build/website\n",
    "```\n",
    "\n",
    "and then you can modify options (set in the `conf.py` file) using the -D flag.\n",
    "\n",
    "```{code-block} bash\n",
    "website:\n",
    "    @$(SPHINXBUILD) -M jupyter \"$(SOURCEDIR)\" \"$(BUILDWEBSITE)\" $(SPHINXOPTS) $(O) -D jupyter_make_site=1 -D jupyter_generate_html=1 -D jupyter_download_nb=1 -D jupyter_execute_notebooks=1 -D jupyter_target_html=1 -D jupyter_images_markdown=0 -D jupyter_html_template=\"theme/templates/lectures-nbconvert.tpl\" -D jupyter_download_nb_urlpath=\"https://lectures.quantecon.org/\"\n",
    "```\n",
    "\n",
    "this will setup a new folder `_build/website` for the new build pathway to\n",
    "store resultant files from the options selected. See {doc}`builders <builders>` for further details.\n",
    "\n",
    "```{note}\n",
    "This method also preserves the `sphinx` cache mechanism for each build pathway.\n",
    "```\n",
    "\n",
    "```{warning}\n",
    "Issue [#199](https://github.com/QuantEcon/sphinx-tojupyter/issues/199) will\n",
    "alter this approach to include all configuration settings in the `conf.py` file\n",
    "and then the different pipelines can be switched off in the Makefile which will\n",
    "be less error prone.\n",
    "```"
   ]
  }
 ],
 "metadata": {
  "jupytext": {
   "text_representation": {
    "extension": ".md",
    "format_name": "myst"
   }
  },
  "kernelspec": {
   "display_name": "Python 3",
   "language": "python",
   "name": "python3"
  },
  "language_info": {
   "codemirror_mode": {
    "name": "ipython",
    "version": 3
   },
   "file_extension": ".py",
   "mimetype": "text/x-python",
   "name": "python",
   "nbconvert_exporter": "python",
   "pygments_lexer": "ipython3",
   "version": "3.8.3"
  },
  "source_map": [
   10
  ]
 },
 "nbformat": 4,
 "nbformat_minor": 4
}