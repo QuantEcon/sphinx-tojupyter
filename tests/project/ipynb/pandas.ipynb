{
 "cells": [
  {
   "cell_type": "markdown",
   "id": "e523a98b",
   "metadata": {},
   "source": [
    "\n",
    "<a id='pd'></a>\n",
    "<div id=\"qe-notebook-header\" align=\"right\" style=\"text-align:right;\">\n",
    "        <a href=\"https://quantecon.org/\" title=\"quantecon.org\">\n",
    "                <img style=\"width:250px;display:inline;\" width=\"250px\" src=\"https://assets.quantecon.org/img/qe-menubar-logo.svg\" alt=\"QuantEcon\">\n",
    "        </a>\n",
    "</div>"
   ]
  },
  {
   "cell_type": "markdown",
   "id": "4585c316",
   "metadata": {},
   "source": [
    "# Pandas\n",
    "\n",
    "\n",
    "<a id='index-1'></a>\n",
    "In addition to what’s in Anaconda, this lecture will need the following libraries:"
   ]
  },
  {
   "cell_type": "markdown",
   "id": "5ccc4181",
   "metadata": {
    "hide-output": false
   },
   "source": [
    "```ipython3\n",
    "!pip install --upgrade pandas-datareader\n",
    "!pip install --upgrade yfinance\n",
    "```\n"
   ]
  },
  {
   "cell_type": "markdown",
   "id": "aee809a6",
   "metadata": {},
   "source": [
    "## Overview\n",
    "\n",
    "[Pandas](http://pandas.pydata.org/) is a package of fast, efficient data analysis tools for Python.\n",
    "\n",
    "Its popularity has surged in recent years, coincident with the rise\n",
    "of fields such as data science and machine learning.\n",
    "\n",
    "Here’s a popularity comparison over time against Matlab and STATA courtesy of Stack Overflow Trends\n",
    "\n",
    "![_static/lecture_specific/pandas/pandas_vs_rest.png](_static/lecture_specific/pandas/pandas_vs_rest.png)\n",
    "\n",
    "  \n",
    "Just as [NumPy](http://www.numpy.org/) provides the basic array data type plus core array operations, pandas\n",
    "\n",
    "1. defines fundamental structures for working with data and  \n",
    "1. endows them with methods that facilitate operations such as  \n",
    "  - reading in data  \n",
    "  - adjusting indices  \n",
    "  - working with dates and time series  \n",
    "  - sorting, grouping, re-ordering and general data munging <sup>[1](#mung)</sup>  \n",
    "  - dealing with missing values, etc., etc.  \n",
    "\n",
    "\n",
    "More sophisticated statistical functionality is left to other packages, such\n",
    "as [statsmodels](http://www.statsmodels.org/) and [scikit-learn](http://scikit-learn.org/), which are built on top of pandas.\n",
    "\n",
    "This lecture will provide a basic introduction to pandas.\n",
    "\n",
    "Throughout the lecture, we will assume that the following imports have taken\n",
    "place"
   ]
  },
  {
   "cell_type": "markdown",
   "id": "d44019a9",
   "metadata": {
    "hide-output": false
   },
   "source": [
    "```ipython3\n",
    "import pandas as pd\n",
    "import numpy as np\n",
    "import matplotlib.pyplot as plt\n",
    "import requests\n",
    "```\n"
   ]
  },
  {
   "cell_type": "markdown",
   "id": "1e321560",
   "metadata": {},
   "source": [
    "Two important data types defined by pandas are  `Series` and `DataFrame`.\n",
    "\n",
    "You can think of a `Series` as a “column” of data, such as a collection of observations on a single variable.\n",
    "\n",
    "A `DataFrame` is a two-dimensional object for storing related columns of data."
   ]
  },
  {
   "cell_type": "markdown",
   "id": "faa95a63",
   "metadata": {},
   "source": [
    "## Series\n",
    "\n",
    "\n",
    "<a id='index-2'></a>\n",
    "Let’s start with Series.\n",
    "\n",
    "We begin by creating a series of four random observations"
   ]
  },
  {
   "cell_type": "markdown",
   "id": "27dc05a9",
   "metadata": {
    "hide-output": false
   },
   "source": [
    "```ipython3\n",
    "s = pd.Series(np.random.randn(4), name='daily returns')\n",
    "s\n",
    "```\n"
   ]
  },
  {
   "cell_type": "markdown",
   "id": "1a771068",
   "metadata": {},
   "source": [
    "Here you can imagine the indices `0, 1, 2, 3` as indexing four listed\n",
    "companies, and the values being daily returns on their shares.\n",
    "\n",
    "Pandas `Series` are built on top of NumPy arrays and support many similar\n",
    "operations"
   ]
  },
  {
   "cell_type": "markdown",
   "id": "0e3c0725",
   "metadata": {
    "hide-output": false
   },
   "source": [
    "```ipython3\n",
    "s * 100\n",
    "```\n"
   ]
  },
  {
   "cell_type": "markdown",
   "id": "3d80fa77",
   "metadata": {
    "hide-output": false
   },
   "source": [
    "```ipython3\n",
    "np.abs(s)\n",
    "```\n"
   ]
  },
  {
   "cell_type": "markdown",
   "id": "6c8d0e30",
   "metadata": {},
   "source": [
    "But `Series` provide more than NumPy arrays.\n",
    "\n",
    "Not only do they have some additional (statistically oriented) methods"
   ]
  },
  {
   "cell_type": "markdown",
   "id": "dbf2d45c",
   "metadata": {
    "hide-output": false
   },
   "source": [
    "```ipython3\n",
    "s.describe()\n",
    "```\n"
   ]
  },
  {
   "cell_type": "markdown",
   "id": "17714bb0",
   "metadata": {},
   "source": [
    "But their indices are more flexible"
   ]
  },
  {
   "cell_type": "markdown",
   "id": "aeb569a5",
   "metadata": {
    "hide-output": false
   },
   "source": [
    "```ipython3\n",
    "s.index = ['AMZN', 'AAPL', 'MSFT', 'GOOG']\n",
    "s\n",
    "```\n"
   ]
  },
  {
   "cell_type": "markdown",
   "id": "06ef0832",
   "metadata": {},
   "source": [
    "Viewed in this way, `Series` are like fast, efficient Python dictionaries\n",
    "(with the restriction that the items in the dictionary all have the same\n",
    "type—in this case, floats).\n",
    "\n",
    "In fact, you can use much of the same syntax as Python dictionaries"
   ]
  },
  {
   "cell_type": "markdown",
   "id": "c9189e0a",
   "metadata": {
    "hide-output": false
   },
   "source": [
    "```ipython3\n",
    "s['AMZN']\n",
    "```\n"
   ]
  },
  {
   "cell_type": "markdown",
   "id": "c1917b66",
   "metadata": {
    "hide-output": false
   },
   "source": [
    "```ipython3\n",
    "s['AMZN'] = 0\n",
    "s\n",
    "```\n"
   ]
  },
  {
   "cell_type": "markdown",
   "id": "bc49c68e",
   "metadata": {
    "hide-output": false
   },
   "source": [
    "```ipython3\n",
    "'AAPL' in s\n",
    "```\n"
   ]
  },
  {
   "cell_type": "markdown",
   "id": "9fef67f7",
   "metadata": {},
   "source": [
    "## DataFrames\n",
    "\n",
    "\n",
    "<a id='index-3'></a>\n",
    "While a `Series` is a single column of data, a `DataFrame` is several columns, one for each variable.\n",
    "\n",
    "In essence, a `DataFrame` in pandas is analogous to a (highly optimized) Excel spreadsheet.\n",
    "\n",
    "Thus, it is a powerful tool for representing and analyzing data that are naturally organized into rows and columns, often with descriptive indexes for individual rows and individual columns.\n",
    "\n",
    "Let’s look at an example that reads data from the CSV file `pandas/data/test_pwt.csv`, which is taken from the [Penn World Tables](https://www.rug.nl/ggdc/productivity/pwt/pwt-releases/pwt-7.0).\n",
    "\n",
    "The dataset contains the following indicators\n",
    "\n",
    "|Variable Name|Description|\n",
    "|:------------------------------------------------:|:------------------------------------------------:|\n",
    "|POP|Population (in thousands)|\n",
    "|XRAT|Exchange Rate to US Dollar|\n",
    "|tcgdp|Total PPP Converted GDP (in million international dollar)|\n",
    "|cc|Consumption Share of PPP Converted GDP Per Capita (%)|\n",
    "|cg|Government Consumption Share of PPP Converted GDP Per Capita (%)|\n",
    "We’ll read this in from a URL using the `pandas` function `read_csv`."
   ]
  },
  {
   "cell_type": "markdown",
   "id": "8c93b9c3",
   "metadata": {
    "hide-output": false
   },
   "source": [
    "```ipython3\n",
    "df = pd.read_csv('https://raw.githubusercontent.com/QuantEcon/lecture-python-programming/master/source/_static/lecture_specific/pandas/data/test_pwt.csv')\n",
    "type(df)\n",
    "```\n"
   ]
  },
  {
   "cell_type": "markdown",
   "id": "8f722b65",
   "metadata": {},
   "source": [
    "Here’s the content of `test_pwt.csv`"
   ]
  },
  {
   "cell_type": "markdown",
   "id": "16c54d1e",
   "metadata": {
    "hide-output": false
   },
   "source": [
    "```ipython3\n",
    "df\n",
    "```\n"
   ]
  },
  {
   "cell_type": "markdown",
   "id": "37bb08e6",
   "metadata": {},
   "source": [
    "### Select Data by Position\n",
    "\n",
    "In practice, one thing that we do all the time is to find, select and work with a subset of the data of our interests.\n",
    "\n",
    "We can select particular rows using standard Python array slicing notation"
   ]
  },
  {
   "cell_type": "markdown",
   "id": "446cdbdf",
   "metadata": {
    "hide-output": false
   },
   "source": [
    "```ipython3\n",
    "df[2:5]\n",
    "```\n"
   ]
  },
  {
   "cell_type": "markdown",
   "id": "0404ad4a",
   "metadata": {},
   "source": [
    "To select columns, we can pass a list containing the names of the desired columns represented as strings"
   ]
  },
  {
   "cell_type": "markdown",
   "id": "04b10c10",
   "metadata": {
    "hide-output": false
   },
   "source": [
    "```ipython3\n",
    "df[['country', 'tcgdp']]\n",
    "```\n"
   ]
  },
  {
   "cell_type": "markdown",
   "id": "872637ff",
   "metadata": {},
   "source": [
    "To select both rows and columns using integers, the `iloc` attribute should be used with the format `.iloc[rows, columns]`."
   ]
  },
  {
   "cell_type": "markdown",
   "id": "68d2c40f",
   "metadata": {
    "hide-output": false
   },
   "source": [
    "```ipython3\n",
    "df.iloc[2:5, 0:4]\n",
    "```\n"
   ]
  },
  {
   "cell_type": "markdown",
   "id": "6cc2d220",
   "metadata": {},
   "source": [
    "To select rows and columns using a mixture of integers and labels, the `loc` attribute can be used in a similar way"
   ]
  },
  {
   "cell_type": "markdown",
   "id": "1eb01943",
   "metadata": {
    "hide-output": false
   },
   "source": [
    "```ipython3\n",
    "df.loc[df.index[2:5], ['country', 'tcgdp']]\n",
    "```\n"
   ]
  },
  {
   "cell_type": "markdown",
   "id": "90a9c210",
   "metadata": {},
   "source": [
    "### Select Data by Conditions\n",
    "\n",
    "Instead of indexing rows and columns using integers and names, we can also obtain a sub-dataframe of our interests that satisfies certain (potentially complicated) conditions.\n",
    "\n",
    "This section demonstrates various ways to do that.\n",
    "\n",
    "The most straightforward way is with the `[]` operator."
   ]
  },
  {
   "cell_type": "markdown",
   "id": "038139e3",
   "metadata": {
    "hide-output": false
   },
   "source": [
    "```ipython3\n",
    "df[df.POP >= 20000]\n",
    "```\n"
   ]
  },
  {
   "cell_type": "markdown",
   "id": "13719b5f",
   "metadata": {},
   "source": [
    "To understand what is going on here, notice that `df.POP >= 20000` returns a series of boolean values."
   ]
  },
  {
   "cell_type": "markdown",
   "id": "d75c740f",
   "metadata": {
    "hide-output": false
   },
   "source": [
    "```ipython3\n",
    "df.POP >= 20000\n",
    "```\n"
   ]
  },
  {
   "cell_type": "markdown",
   "id": "678de758",
   "metadata": {},
   "source": [
    "In this case, `df[___]` takes a series of boolean values and only returns rows with the `True` values.\n",
    "\n",
    "Take one more example,"
   ]
  },
  {
   "cell_type": "markdown",
   "id": "365bb094",
   "metadata": {
    "hide-output": false
   },
   "source": [
    "```ipython3\n",
    "df[(df.country.isin(['Argentina', 'India', 'South Africa'])) & (df.POP > 40000)]\n",
    "```\n"
   ]
  },
  {
   "cell_type": "markdown",
   "id": "e07623ea",
   "metadata": {},
   "source": [
    "However, there is another way of doing the same thing, which can be slightly faster for large dataframes, with more natural syntax."
   ]
  },
  {
   "cell_type": "markdown",
   "id": "6ff471db",
   "metadata": {
    "hide-output": false
   },
   "source": [
    "```ipython3\n",
    "# the above is equivalent to \n",
    "df.query(\"POP >= 20000\")\n",
    "```\n"
   ]
  },
  {
   "cell_type": "markdown",
   "id": "ee7261fa",
   "metadata": {
    "hide-output": false
   },
   "source": [
    "```ipython3\n",
    "df.query(\"country in ['Argentina', 'India', 'South Africa'] and POP > 40000\")\n",
    "```\n"
   ]
  },
  {
   "cell_type": "markdown",
   "id": "1241d366",
   "metadata": {},
   "source": [
    "We can also allow arithmetic operations between different columns."
   ]
  },
  {
   "cell_type": "markdown",
   "id": "e0d479cd",
   "metadata": {
    "hide-output": false
   },
   "source": [
    "```ipython3\n",
    "df[(df.cc + df.cg >= 80) & (df.POP <= 20000)]\n",
    "```\n"
   ]
  },
  {
   "cell_type": "markdown",
   "id": "f8e38144",
   "metadata": {
    "hide-output": false
   },
   "source": [
    "```ipython3\n",
    "# the above is equivalent to \n",
    "df.query(\"cc + cg >= 80 & POP <= 20000\")\n",
    "```\n"
   ]
  },
  {
   "cell_type": "markdown",
   "id": "477f73ef",
   "metadata": {},
   "source": [
    "For example, we can use the conditioning to select the country with the largest household consumption - gdp share `cc`."
   ]
  },
  {
   "cell_type": "markdown",
   "id": "36e3668c",
   "metadata": {
    "hide-output": false
   },
   "source": [
    "```ipython3\n",
    "df.loc[df.cc == max(df.cc)]\n",
    "```\n"
   ]
  },
  {
   "cell_type": "markdown",
   "id": "9ca696c1",
   "metadata": {},
   "source": [
    "When we only want to look at certain columns of a selected sub-dataframe, we can use the above conditions with the `.loc[__ , __]` command.\n",
    "\n",
    "The first argument takes the condition, while the second argument takes a list of columns we want to return."
   ]
  },
  {
   "cell_type": "markdown",
   "id": "32dc64dd",
   "metadata": {
    "hide-output": false
   },
   "source": [
    "```ipython3\n",
    "df.loc[(df.cc + df.cg >= 80) & (df.POP <= 20000), ['country', 'year', 'POP']]\n",
    "```\n"
   ]
  },
  {
   "cell_type": "markdown",
   "id": "54aa3a44",
   "metadata": {},
   "source": [
    "**Application: Subsetting Dataframe**\n",
    "\n",
    "Real-world datasets can be [enormous](https://developers.google.com/machine-learning/data-prep/construct/collect/data-size-quality).\n",
    "\n",
    "It is sometimes desirable to work with a subset of data to enhance computational efficiency and reduce redundancy.\n",
    "\n",
    "Let’s imagine that we’re only interested in the population (`POP`) and total GDP (`tcgdp`).\n",
    "\n",
    "One way to strip the data frame `df` down to only these variables is to overwrite the dataframe using the selection method described above"
   ]
  },
  {
   "cell_type": "markdown",
   "id": "590d8b98",
   "metadata": {
    "hide-output": false
   },
   "source": [
    "```ipython3\n",
    "df_subset = df[['country', 'POP', 'tcgdp']]\n",
    "df_subset\n",
    "```\n"
   ]
  },
  {
   "cell_type": "markdown",
   "id": "06e61179",
   "metadata": {},
   "source": [
    "We can then save the smaller dataset for further analysis."
   ]
  },
  {
   "cell_type": "markdown",
   "id": "b8010d31",
   "metadata": {
    "hide-output": false
   },
   "source": [
    "```python3\n",
    "df_subset.to_csv('pwt_subset.csv', index=False)\n",
    "```\n"
   ]
  },
  {
   "cell_type": "markdown",
   "id": "ccdb20dc",
   "metadata": {},
   "source": [
    "### Apply Method\n",
    "\n",
    "Another widely used Pandas method is `df.apply()`.\n",
    "\n",
    "It applies a function to each row/column and returns a series.\n",
    "\n",
    "This function can be some built-in functions like the `max` function, a `lambda` function, or a user-defined function.\n",
    "\n",
    "Here is an example using the `max` function"
   ]
  },
  {
   "cell_type": "markdown",
   "id": "fd917c09",
   "metadata": {
    "hide-output": false
   },
   "source": [
    "```ipython3\n",
    "df[['year', 'POP', 'XRAT', 'tcgdp', 'cc', 'cg']].apply(max)\n",
    "```\n"
   ]
  },
  {
   "cell_type": "markdown",
   "id": "93aff487",
   "metadata": {},
   "source": [
    "This line of code applies the `max` function to all selected columns.\n",
    "\n",
    "`lambda` function is often used with `df.apply()` method\n",
    "\n",
    "A trivial example is to return itself for each row in the dataframe"
   ]
  },
  {
   "cell_type": "markdown",
   "id": "296d7a8d",
   "metadata": {
    "hide-output": false
   },
   "source": [
    "```ipython3\n",
    "df.apply(lambda row: row, axis=1)\n",
    "```\n"
   ]
  },
  {
   "cell_type": "markdown",
   "id": "707598a5",
   "metadata": {},
   "source": [
    ">**Note**\n",
    ">\n",
    ">For the `.apply()` method\n",
    "\n",
    "- axis = 0 – apply function to each column (variables)  \n",
    "- axis = 1 – apply function to each row (observations)  \n",
    "- axis = 0 is the default parameter  \n",
    "\n",
    "\n",
    "We can use it together with `.loc[]` to do some more advanced selection."
   ]
  },
  {
   "cell_type": "markdown",
   "id": "6baa11c4",
   "metadata": {
    "hide-output": false
   },
   "source": [
    "```ipython3\n",
    "complexCondition = df.apply(\n",
    "    lambda row: row.POP > 40000 if row.country in ['Argentina', 'India', 'South Africa'] else row.POP < 20000, \n",
    "    axis=1), ['country', 'year', 'POP', 'XRAT', 'tcgdp']\n",
    "```\n"
   ]
  },
  {
   "cell_type": "markdown",
   "id": "f92a3c90",
   "metadata": {},
   "source": [
    "`df.apply()` here returns a series of boolean values rows that satisfies the condition specified in the if-else statement.\n",
    "\n",
    "In addition, it also defines a subset of variables of interest."
   ]
  },
  {
   "cell_type": "markdown",
   "id": "96084e51",
   "metadata": {
    "hide-output": false
   },
   "source": [
    "```ipython3\n",
    "complexCondition\n",
    "```\n"
   ]
  },
  {
   "cell_type": "markdown",
   "id": "432092b7",
   "metadata": {},
   "source": [
    "When we apply this condition to the dataframe, the result will be"
   ]
  },
  {
   "cell_type": "markdown",
   "id": "3e989722",
   "metadata": {
    "hide-output": false
   },
   "source": [
    "```ipython3\n",
    "df.loc[complexCondition]\n",
    "```\n"
   ]
  },
  {
   "cell_type": "markdown",
   "id": "86a2f8ed",
   "metadata": {},
   "source": [
    "### Make Changes in DataFrames\n",
    "\n",
    "The ability to make changes in dataframes is important to generate a clean dataset for future analysis.\n",
    "\n",
    "**1.** We can use `df.where()` conveniently to “keep” the rows we have selected and replace the rest rows with any other values"
   ]
  },
  {
   "cell_type": "markdown",
   "id": "644b5f9f",
   "metadata": {
    "hide-output": false
   },
   "source": [
    "```ipython3\n",
    "df.where(df.POP >= 20000, False)\n",
    "```\n"
   ]
  },
  {
   "cell_type": "markdown",
   "id": "adf30768",
   "metadata": {},
   "source": [
    "**2.** We can simply use `.loc[]` to specify the column that we want to modify, and assign values"
   ]
  },
  {
   "cell_type": "markdown",
   "id": "94f4803f",
   "metadata": {
    "hide-output": false
   },
   "source": [
    "```ipython3\n",
    "df.loc[df.cg == max(df.cg), 'cg'] = np.nan\n",
    "df\n",
    "```\n"
   ]
  },
  {
   "cell_type": "markdown",
   "id": "aaba5c59",
   "metadata": {},
   "source": [
    "**3.** We can use the `.apply()` method to modify *rows/columns as a whole*"
   ]
  },
  {
   "cell_type": "markdown",
   "id": "317620fe",
   "metadata": {
    "hide-output": false
   },
   "source": [
    "```ipython3\n",
    "def update_row(row):\n",
    "    # modify POP\n",
    "    row.POP = np.nan if row.POP<= 10000 else row.POP\n",
    "\n",
    "    # modify XRAT\n",
    "    row.XRAT = row.XRAT / 10\n",
    "    return row\n",
    "\n",
    "df.apply(update_row, axis=1)\n",
    "```\n"
   ]
  },
  {
   "cell_type": "markdown",
   "id": "45b7a0f6",
   "metadata": {},
   "source": [
    "**4.** We can use the `.applymap()` method to modify all *individual entries* in the dataframe altogether."
   ]
  },
  {
   "cell_type": "markdown",
   "id": "dd4278e1",
   "metadata": {
    "hide-output": false
   },
   "source": [
    "```ipython3\n",
    "# Round all decimal numbers to 2 decimal places\n",
    "df.applymap(lambda x : round(x,2) if type(x)!=str else x)\n",
    "```\n"
   ]
  },
  {
   "cell_type": "markdown",
   "id": "cd782bca",
   "metadata": {},
   "source": [
    "**Application: Missing Value Imputation**\n",
    "\n",
    "Replacing missing values is an important step in data munging.\n",
    "\n",
    "Let’s randomly insert some NaN values"
   ]
  },
  {
   "cell_type": "markdown",
   "id": "dd8f2cfe",
   "metadata": {
    "hide-output": false
   },
   "source": [
    "```ipython3\n",
    "for idx in list(zip([0, 3, 5, 6], [3, 4, 6, 2])):\n",
    "    df.iloc[idx] = np.nan\n",
    "\n",
    "df\n",
    "```\n"
   ]
  },
  {
   "cell_type": "markdown",
   "id": "5c24ab5a",
   "metadata": {},
   "source": [
    "The `zip()` function here creates pairs of values from the two lists (i.e. [0,3], [3,4] …)\n",
    "\n",
    "We can use the `.applymap()` method again to replace all missing values with 0"
   ]
  },
  {
   "cell_type": "markdown",
   "id": "a90ea3f3",
   "metadata": {
    "hide-output": false
   },
   "source": [
    "```ipython3\n",
    "# replace all NaN values by 0\n",
    "def replace_nan(x):\n",
    "    if type(x)!=str:\n",
    "        return  0 if np.isnan(x) else x\n",
    "    else:\n",
    "        return x\n",
    "\n",
    "df.applymap(replace_nan)\n",
    "```\n"
   ]
  },
  {
   "cell_type": "markdown",
   "id": "4755d89c",
   "metadata": {},
   "source": [
    "Pandas also provides us with convenient methods to replace missing values.\n",
    "\n",
    "For example, single imputation using variable means can be easily done in pandas"
   ]
  },
  {
   "cell_type": "markdown",
   "id": "d658b8ad",
   "metadata": {
    "hide-output": false
   },
   "source": [
    "```ipython3\n",
    "df = df.fillna(df.iloc[:,2:8].mean())\n",
    "df\n",
    "```\n"
   ]
  },
  {
   "cell_type": "markdown",
   "id": "19d0e429",
   "metadata": {},
   "source": [
    "Missing value imputation is a big area in data science involving various machine learning techniques.\n",
    "\n",
    "There are also more [advanced tools](https://scikit-learn.org/stable/modules/impute.html) in python to impute missing values."
   ]
  },
  {
   "cell_type": "markdown",
   "id": "75d2d87a",
   "metadata": {},
   "source": [
    "### Standardization and Visualization\n",
    "\n",
    "Let’s imagine that we’re only interested in the population (`POP`) and total GDP (`tcgdp`).\n",
    "\n",
    "One way to strip the data frame `df` down to only these variables is to overwrite the dataframe using the selection method described above"
   ]
  },
  {
   "cell_type": "markdown",
   "id": "06f04600",
   "metadata": {
    "hide-output": false
   },
   "source": [
    "```ipython3\n",
    "df = df[['country', 'POP', 'tcgdp']]\n",
    "df\n",
    "```\n"
   ]
  },
  {
   "cell_type": "markdown",
   "id": "09413901",
   "metadata": {},
   "source": [
    "Here the index `0, 1,..., 7` is redundant because we can use the country names as an index.\n",
    "\n",
    "To do this, we set the index to be the `country` variable in the dataframe"
   ]
  },
  {
   "cell_type": "markdown",
   "id": "7548f6aa",
   "metadata": {
    "hide-output": false
   },
   "source": [
    "```ipython3\n",
    "df = df.set_index('country')\n",
    "df\n",
    "```\n"
   ]
  },
  {
   "cell_type": "markdown",
   "id": "469ca5ca",
   "metadata": {},
   "source": [
    "Let’s give the columns slightly better names"
   ]
  },
  {
   "cell_type": "markdown",
   "id": "af1bab8e",
   "metadata": {
    "hide-output": false
   },
   "source": [
    "```ipython3\n",
    "df.columns = 'population', 'total GDP'\n",
    "df\n",
    "```\n"
   ]
  },
  {
   "cell_type": "markdown",
   "id": "d657496c",
   "metadata": {},
   "source": [
    "The `population` variable is in thousands, let’s revert to single units"
   ]
  },
  {
   "cell_type": "markdown",
   "id": "3936ba31",
   "metadata": {
    "hide-output": false
   },
   "source": [
    "```ipython3\n",
    "df['population'] = df['population'] * 1e3\n",
    "df\n",
    "```\n"
   ]
  },
  {
   "cell_type": "markdown",
   "id": "33594489",
   "metadata": {},
   "source": [
    "Next, we’re going to add a column showing real GDP per capita, multiplying by 1,000,000 as we go because total GDP is in millions"
   ]
  },
  {
   "cell_type": "markdown",
   "id": "cd9f8b22",
   "metadata": {
    "hide-output": false
   },
   "source": [
    "```ipython3\n",
    "df['GDP percap'] = df['total GDP'] * 1e6 / df['population']\n",
    "df\n",
    "```\n"
   ]
  },
  {
   "cell_type": "markdown",
   "id": "dab1c238",
   "metadata": {},
   "source": [
    "One of the nice things about pandas `DataFrame` and `Series` objects is that they have methods for plotting and visualization that work through Matplotlib.\n",
    "\n",
    "For example, we can easily generate a bar plot of GDP per capita"
   ]
  },
  {
   "cell_type": "markdown",
   "id": "32f2d5ea",
   "metadata": {
    "hide-output": false
   },
   "source": [
    "```ipython3\n",
    "ax = df['GDP percap'].plot(kind='bar')\n",
    "ax.set_xlabel('country', fontsize=12)\n",
    "ax.set_ylabel('GDP per capita', fontsize=12)\n",
    "plt.show()\n",
    "```\n"
   ]
  },
  {
   "cell_type": "markdown",
   "id": "3f41f340",
   "metadata": {},
   "source": [
    "At the moment the data frame is ordered alphabetically on the countries—let’s change it to GDP per capita"
   ]
  },
  {
   "cell_type": "markdown",
   "id": "3d439dfb",
   "metadata": {
    "hide-output": false
   },
   "source": [
    "```ipython3\n",
    "df = df.sort_values(by='GDP percap', ascending=False)\n",
    "df\n",
    "```\n"
   ]
  },
  {
   "cell_type": "markdown",
   "id": "c958b317",
   "metadata": {},
   "source": [
    "Plotting as before now yields"
   ]
  },
  {
   "cell_type": "markdown",
   "id": "c72fe19a",
   "metadata": {
    "hide-output": false
   },
   "source": [
    "```ipython3\n",
    "ax = df['GDP percap'].plot(kind='bar')\n",
    "ax.set_xlabel('country', fontsize=12)\n",
    "ax.set_ylabel('GDP per capita', fontsize=12)\n",
    "plt.show()\n",
    "```\n"
   ]
  },
  {
   "cell_type": "markdown",
   "id": "3300f968",
   "metadata": {},
   "source": [
    "## On-Line Data Sources\n",
    "\n",
    "\n",
    "<a id='index-4'></a>\n",
    "Python makes it straightforward to query online databases programmatically.\n",
    "\n",
    "An important database for economists is [FRED](https://research.stlouisfed.org/fred2/) — a vast collection of time series data maintained by the St. Louis Fed.\n",
    "\n",
    "For example, suppose that we are interested in the [unemployment rate](https://research.stlouisfed.org/fred2/series/UNRATE).\n",
    "\n",
    "Via FRED, the entire series for the US civilian unemployment rate can be downloaded directly by entering\n",
    "this URL into your browser (note that this requires an internet connection)"
   ]
  },
  {
   "cell_type": "markdown",
   "id": "4528f6be",
   "metadata": {
    "hide-output": false
   },
   "source": [
    "```text\n",
    "https://research.stlouisfed.org/fred2/series/UNRATE/downloaddata/UNRATE.csv\n",
    "```\n"
   ]
  },
  {
   "cell_type": "markdown",
   "id": "fa29681e",
   "metadata": {},
   "source": [
    "(Equivalently, click here: [https://research.stlouisfed.org/fred2/series/UNRATE/downloaddata/UNRATE.csv](https://research.stlouisfed.org/fred2/series/UNRATE/downloaddata/UNRATE.csv))\n",
    "\n",
    "This request returns a CSV file, which will be handled by your default application for this class of files.\n",
    "\n",
    "Alternatively, we can access the CSV file from within a Python program.\n",
    "\n",
    "This can be done with a variety of methods.\n",
    "\n",
    "We start with a relatively low-level method and then return to pandas."
   ]
  },
  {
   "cell_type": "markdown",
   "id": "58c8ea20",
   "metadata": {},
   "source": [
    "### Accessing Data with requests\n",
    "\n",
    "\n",
    "<a id='index-6'></a>\n",
    "One option is to use [requests](https://requests.readthedocs.io/en/master/), a standard Python library for requesting data over the Internet.\n",
    "\n",
    "To begin, try the following code on your computer"
   ]
  },
  {
   "cell_type": "markdown",
   "id": "23ca7bba",
   "metadata": {
    "hide-output": false
   },
   "source": [
    "```ipython3\n",
    "r = requests.get('https://fred.stlouisfed.org/graph/fredgraph.csv?bgcolor=%23e1e9f0&chart_type=line&drp=0&fo=open%20sans&graph_bgcolor=%23ffffff&height=450&mode=fred&recession_bars=on&txtcolor=%23444444&ts=12&tts=12&width=1318&nt=0&thu=0&trc=0&show_legend=yes&show_axis_titles=yes&show_tooltip=yes&id=UNRATE&scale=left&cosd=1948-01-01&coed=2024-06-01&line_color=%234572a7&link_values=false&line_style=solid&mark_type=none&mw=3&lw=2&ost=-99999&oet=99999&mma=0&fml=a&fq=Monthly&fam=avg&fgst=lin&fgsnd=2020-02-01&line_index=1&transformation=lin&vintage_date=2024-07-29&revision_date=2024-07-29&nd=1948-01-01')\n",
    "```\n"
   ]
  },
  {
   "cell_type": "markdown",
   "id": "112b8bfb",
   "metadata": {},
   "source": [
    "If there’s no error message, then the call has succeeded.\n",
    "\n",
    "If you do get an error, then there are two likely causes\n",
    "\n",
    "1. You are not connected to the Internet — hopefully, this isn’t the case.  \n",
    "1. Your machine is accessing the Internet through a proxy server, and Python isn’t aware of this.  \n",
    "\n",
    "\n",
    "In the second case, you can either\n",
    "\n",
    "- switch to another machine  \n",
    "- solve your proxy problem by reading [the documentation](https://requests.readthedocs.io/en/master/)  \n",
    "\n",
    "\n",
    "Assuming that all is working, you can now proceed to use the `source` object returned by the call `requests.get('http://research.stlouisfed.org/fred2/series/UNRATE/downloaddata/UNRATE.csv')`"
   ]
  },
  {
   "cell_type": "markdown",
   "id": "d63645a6",
   "metadata": {
    "hide-output": false
   },
   "source": [
    "```ipython3\n",
    "url = 'https://fred.stlouisfed.org/graph/fredgraph.csv?bgcolor=%23e1e9f0&chart_type=line&drp=0&fo=open%20sans&graph_bgcolor=%23ffffff&height=450&mode=fred&recession_bars=on&txtcolor=%23444444&ts=12&tts=12&width=1318&nt=0&thu=0&trc=0&show_legend=yes&show_axis_titles=yes&show_tooltip=yes&id=UNRATE&scale=left&cosd=1948-01-01&coed=2024-06-01&line_color=%234572a7&link_values=false&line_style=solid&mark_type=none&mw=3&lw=2&ost=-99999&oet=99999&mma=0&fml=a&fq=Monthly&fam=avg&fgst=lin&fgsnd=2020-02-01&line_index=1&transformation=lin&vintage_date=2024-07-29&revision_date=2024-07-29&nd=1948-01-01'\n",
    "source = requests.get(url).content.decode().split(\"\\n\")\n",
    "source[0]\n",
    "```\n"
   ]
  },
  {
   "cell_type": "markdown",
   "id": "934f651b",
   "metadata": {
    "hide-output": false
   },
   "source": [
    "```ipython3\n",
    "source[1]\n",
    "```\n"
   ]
  },
  {
   "cell_type": "markdown",
   "id": "4d088bae",
   "metadata": {
    "hide-output": false
   },
   "source": [
    "```ipython3\n",
    "source[2]\n",
    "```\n"
   ]
  },
  {
   "cell_type": "markdown",
   "id": "6641f47b",
   "metadata": {},
   "source": [
    "We could now write some additional code to parse this text and store it as an array.\n",
    "\n",
    "But this is unnecessary — pandas’ `read_csv` function can handle the task for us.\n",
    "\n",
    "We use `parse_dates=True` so that pandas recognizes our dates column, allowing for simple date filtering"
   ]
  },
  {
   "cell_type": "markdown",
   "id": "bb0c2548",
   "metadata": {
    "hide-output": false
   },
   "source": [
    "```ipython3\n",
    "data = pd.read_csv(url, index_col=0, parse_dates=True)\n",
    "```\n"
   ]
  },
  {
   "cell_type": "markdown",
   "id": "13625444",
   "metadata": {},
   "source": [
    "The data has been read into a pandas DataFrame called `data` that we can now manipulate in the usual way"
   ]
  },
  {
   "cell_type": "markdown",
   "id": "3df16688",
   "metadata": {
    "hide-output": false
   },
   "source": [
    "```ipython3\n",
    "type(data)\n",
    "```\n"
   ]
  },
  {
   "cell_type": "markdown",
   "id": "df949cfc",
   "metadata": {
    "hide-output": false
   },
   "source": [
    "```ipython3\n",
    "data.head()  # A useful method to get a quick look at a data frame\n",
    "```\n"
   ]
  },
  {
   "cell_type": "markdown",
   "id": "bc5e7a79",
   "metadata": {
    "hide-output": false
   },
   "source": [
    "```ipython3\n",
    "pd.set_option('display.precision', 1)\n",
    "data.describe()  # Your output might differ slightly\n",
    "```\n"
   ]
  },
  {
   "cell_type": "markdown",
   "id": "4eb09e17",
   "metadata": {},
   "source": [
    "We can also plot the unemployment rate from 2006 to 2012 as follows"
   ]
  },
  {
   "cell_type": "markdown",
   "id": "0eeb6631",
   "metadata": {
    "hide-output": false
   },
   "source": [
    "```ipython3\n",
    "ax = data['2006':'2012'].plot(title='US Unemployment Rate', legend=False)\n",
    "ax.set_xlabel('year', fontsize=12)\n",
    "ax.set_ylabel('%', fontsize=12)\n",
    "plt.show()\n",
    "```\n"
   ]
  },
  {
   "cell_type": "markdown",
   "id": "1a51f554",
   "metadata": {},
   "source": [
    "Note that pandas offers many other file type alternatives.\n",
    "\n",
    "Pandas has [a wide variety](https://pandas.pydata.org/pandas-docs/stable/user_guide/io.html) of top-level methods that we can use to read, excel, json, parquet or plug straight into a database server."
   ]
  },
  {
   "cell_type": "markdown",
   "id": "df5dfdb8",
   "metadata": {},
   "source": [
    "### Using pandas_datareader and yfinance to Access Data\n",
    "\n",
    "\n",
    "<a id='index-9'></a>\n",
    "The maker of pandas has also authored a library called\n",
    "[pandas_datareader](https://pandas-datareader.readthedocs.io/en/latest/) that\n",
    "gives programmatic access to many data sources straight from the Jupyter notebook.\n",
    "\n",
    "While some sources require an access key, many of the most important (e.g., FRED, [OECD](https://data.oecd.org/), [EUROSTAT](https://ec.europa.eu/eurostat/data/database) and the World Bank) are free to use.\n",
    "\n",
    "We will also use [yfinance](https://pypi.org/project/yfinance/) to fetch data from Yahoo finance\n",
    "in the exercises.\n",
    "\n",
    "For now let’s work through one example of downloading and plotting data — this\n",
    "time from the World Bank.\n",
    "\n",
    ">**Note**\n",
    ">\n",
    ">There are also other [python libraries](https://data.worldbank.org/products/third-party-apps)\n",
    "available for working with world bank data such as [wbgapi](https://pypi.org/project/wbgapi/)\n",
    "\n",
    "The World Bank [collects and organizes data](http://data.worldbank.org/indicator) on a huge range of indicators.\n",
    "\n",
    "For example, [here’s](http://data.worldbank.org/indicator/GC.DOD.TOTL.GD.ZS/countries) some data on government debt as a ratio to GDP.\n",
    "\n",
    "The next code example fetches the data for you and plots time series for the US and Australia"
   ]
  },
  {
   "cell_type": "markdown",
   "id": "f5ff538d",
   "metadata": {
    "hide-output": false
   },
   "source": [
    "```ipython3\n",
    "from pandas_datareader import wb\n",
    "\n",
    "govt_debt = wb.download(indicator='GC.DOD.TOTL.GD.ZS', country=['US', 'AU'], start=2005, end=2016).stack().unstack(0)\n",
    "ind = govt_debt.index.droplevel(-1)\n",
    "govt_debt.index = ind\n",
    "ax = govt_debt.plot(lw=2)\n",
    "ax.set_xlabel('year', fontsize=12)\n",
    "plt.title(\"Government Debt to GDP (%)\")\n",
    "plt.show()\n",
    "```\n"
   ]
  },
  {
   "cell_type": "markdown",
   "id": "dd72f337",
   "metadata": {},
   "source": [
    "The [documentation](https://pandas-datareader.readthedocs.io/en/latest/index.html) provides more details on how to access various data sources."
   ]
  },
  {
   "cell_type": "markdown",
   "id": "80e00d44",
   "metadata": {},
   "source": [
    "## Exercises"
   ]
  },
  {
   "cell_type": "markdown",
   "id": "14d54960",
   "metadata": {},
   "source": [
    "## Exercise 14.1\n",
    "\n",
    "With these imports:"
   ]
  },
  {
   "cell_type": "markdown",
   "id": "852f6199",
   "metadata": {
    "hide-output": false
   },
   "source": [
    "```ipython3\n",
    "import datetime as dt\n",
    "import yfinance as yf\n",
    "```\n"
   ]
  },
  {
   "cell_type": "markdown",
   "id": "5542714f",
   "metadata": {},
   "source": [
    "Write a program to calculate the percentage price change over 2021 for the following shares:"
   ]
  },
  {
   "cell_type": "markdown",
   "id": "48a0404c",
   "metadata": {
    "hide-output": false
   },
   "source": [
    "```ipython3\n",
    "ticker_list = {'INTC': 'Intel',\n",
    "               'MSFT': 'Microsoft',\n",
    "               'IBM': 'IBM',\n",
    "               'BHP': 'BHP',\n",
    "               'TM': 'Toyota',\n",
    "               'AAPL': 'Apple',\n",
    "               'AMZN': 'Amazon',\n",
    "               'C': 'Citigroup',\n",
    "               'QCOM': 'Qualcomm',\n",
    "               'KO': 'Coca-Cola',\n",
    "               'GOOG': 'Google'}\n",
    "```\n"
   ]
  },
  {
   "cell_type": "markdown",
   "id": "bc52c188",
   "metadata": {},
   "source": [
    "Here’s the first part of the program"
   ]
  },
  {
   "cell_type": "markdown",
   "id": "f11dd63a",
   "metadata": {
    "hide-output": false
   },
   "source": [
    "```ipython3\n",
    "def read_data(ticker_list,\n",
    "          start=dt.datetime(2021, 1, 1),\n",
    "          end=dt.datetime(2021, 12, 31)):\n",
    "    \"\"\"\n",
    "    This function reads in closing price data from Yahoo\n",
    "    for each tick in the ticker_list.\n",
    "    \"\"\"\n",
    "    ticker = pd.DataFrame()\n",
    "\n",
    "    for tick in ticker_list:\n",
    "        stock = yf.Ticker(tick)\n",
    "        prices = stock.history(start=start, end=end)\n",
    "\n",
    "        # Change the index to date-only\n",
    "        prices.index = pd.to_datetime(prices.index.date)\n",
    "        \n",
    "        closing_prices = prices['Close']\n",
    "        ticker[tick] = closing_prices\n",
    "\n",
    "    return ticker\n",
    "\n",
    "ticker = read_data(ticker_list)\n",
    "```\n"
   ]
  },
  {
   "cell_type": "markdown",
   "id": "dea729a0",
   "metadata": {},
   "source": [
    "Complete the program to plot the result as a bar graph like this one:\n",
    "\n",
    "![_static/lecture_specific/pandas/pandas_share_prices.png](_static/lecture_specific/pandas/pandas_share_prices.png)"
   ]
  },
  {
   "cell_type": "markdown",
   "id": "dd38f0ab",
   "metadata": {},
   "source": [
    "## Solution to[ Exercise 14.1](#pd_ex1)\n",
    "\n",
    "There are a few ways to approach this problem using Pandas to calculate\n",
    "the percentage change.\n",
    "\n",
    "First, you can extract the data and perform the calculation such as:"
   ]
  },
  {
   "cell_type": "markdown",
   "id": "12fcba68",
   "metadata": {
    "hide-output": false
   },
   "source": [
    "```ipython3\n",
    "p1 = ticker.iloc[0]    #Get the first set of prices as a Series\n",
    "p2 = ticker.iloc[-1]   #Get the last set of prices as a Series\n",
    "price_change = (p2 - p1) / p1 * 100\n",
    "price_change\n",
    "```\n"
   ]
  },
  {
   "cell_type": "markdown",
   "id": "3358ed4c",
   "metadata": {},
   "source": [
    "Alternatively you can use an inbuilt method `pct_change` and configure it to\n",
    "perform the correct calculation using `periods` argument."
   ]
  },
  {
   "cell_type": "markdown",
   "id": "e0f2796c",
   "metadata": {
    "hide-output": false
   },
   "source": [
    "```ipython3\n",
    "change = ticker.pct_change(periods=len(ticker)-1, axis='rows')*100\n",
    "price_change = change.iloc[-1]\n",
    "price_change\n",
    "```\n"
   ]
  },
  {
   "cell_type": "markdown",
   "id": "87f6a874",
   "metadata": {},
   "source": [
    "Then to plot the chart"
   ]
  },
  {
   "cell_type": "markdown",
   "id": "ab3efe76",
   "metadata": {
    "hide-output": false
   },
   "source": [
    "```ipython3\n",
    "price_change.sort_values(inplace=True)\n",
    "price_change = price_change.rename(index=ticker_list)\n",
    "fig, ax = plt.subplots(figsize=(10,8))\n",
    "ax.set_xlabel('stock', fontsize=12)\n",
    "ax.set_ylabel('percentage change in price', fontsize=12)\n",
    "price_change.plot(kind='bar', ax=ax)\n",
    "plt.show()\n",
    "```\n"
   ]
  },
  {
   "cell_type": "markdown",
   "id": "dc72035c",
   "metadata": {},
   "source": [
    "## Exercise 14.2\n",
    "\n",
    "Using the method `read_data` introduced in Exercise 14.1, write a program to obtain year-on-year percentage change for the following indices:"
   ]
  },
  {
   "cell_type": "markdown",
   "id": "19f451c5",
   "metadata": {
    "hide-output": false
   },
   "source": [
    "```ipython3\n",
    "indices_list = {'^GSPC': 'S&P 500',\n",
    "               '^IXIC': 'NASDAQ',\n",
    "               '^DJI': 'Dow Jones',\n",
    "               '^N225': 'Nikkei'}\n",
    "```\n"
   ]
  },
  {
   "cell_type": "markdown",
   "id": "96814011",
   "metadata": {},
   "source": [
    "Complete the program to show summary statistics and plot the result as a time series graph like this one:\n",
    "\n",
    "![_static/lecture_specific/pandas/pandas_indices_pctchange.png](_static/lecture_specific/pandas/pandas_indices_pctchange.png)"
   ]
  },
  {
   "cell_type": "markdown",
   "id": "839fb704",
   "metadata": {},
   "source": [
    "## Solution to[ Exercise 14.2](#pd_ex2)\n",
    "\n",
    "Following the work you did in Exercise 14.1, you can query the data using `read_data` by updating the start and end dates accordingly."
   ]
  },
  {
   "cell_type": "markdown",
   "id": "ce4b5bc5",
   "metadata": {
    "hide-output": false
   },
   "source": [
    "```ipython3\n",
    "indices_data = read_data(\n",
    "        indices_list,\n",
    "        start=dt.datetime(1971, 1, 1),  #Common Start Date\n",
    "        end=dt.datetime(2021, 12, 31)\n",
    ")\n",
    "```\n"
   ]
  },
  {
   "cell_type": "markdown",
   "id": "c37ac7d7",
   "metadata": {},
   "source": [
    "Then, extract the first and last set of prices per year as DataFrames and calculate the yearly returns such as:"
   ]
  },
  {
   "cell_type": "markdown",
   "id": "8ddee151",
   "metadata": {
    "hide-output": false
   },
   "source": [
    "```ipython3\n",
    "yearly_returns = pd.DataFrame()\n",
    "\n",
    "for index, name in indices_list.items():\n",
    "    p1 = indices_data.groupby(indices_data.index.year)[index].first()  # Get the first set of returns as a DataFrame\n",
    "    p2 = indices_data.groupby(indices_data.index.year)[index].last()   # Get the last set of returns as a DataFrame\n",
    "    returns = (p2 - p1) / p1\n",
    "    yearly_returns[name] = returns\n",
    "\n",
    "yearly_returns\n",
    "```\n"
   ]
  },
  {
   "cell_type": "markdown",
   "id": "98cba189",
   "metadata": {},
   "source": [
    "Next, you can obtain summary statistics by using the method `describe`."
   ]
  },
  {
   "cell_type": "markdown",
   "id": "14fe3839",
   "metadata": {
    "hide-output": false
   },
   "source": [
    "```ipython3\n",
    "yearly_returns.describe()\n",
    "```\n"
   ]
  },
  {
   "cell_type": "markdown",
   "id": "538a245f",
   "metadata": {},
   "source": [
    "Then, to plot the chart"
   ]
  },
  {
   "cell_type": "markdown",
   "id": "bc7c2d49",
   "metadata": {
    "hide-output": false
   },
   "source": [
    "```ipython3\n",
    "fig, axes = plt.subplots(2, 2, figsize=(10, 8))\n",
    "\n",
    "for iter_, ax in enumerate(axes.flatten()):            # Flatten 2-D array to 1-D array\n",
    "    index_name = yearly_returns.columns[iter_]         # Get index name per iteration\n",
    "    ax.plot(yearly_returns[index_name])                # Plot pct change of yearly returns per index\n",
    "    ax.set_ylabel(\"percent change\", fontsize = 12)\n",
    "    ax.set_title(index_name)\n",
    "\n",
    "plt.tight_layout()\n",
    "```\n"
   ]
  },
  {
   "cell_type": "markdown",
   "id": "6bfac361",
   "metadata": {},
   "source": [
    "<a id='mung'></a>\n",
    "**[1]** Wikipedia defines munging as cleaning data from one raw form into a structured, purged one."
   ]
  }
 ],
 "metadata": {
  "date": 1753420494.297886,
  "filename": "pandas.md",
  "kernelspec": {
   "display_name": "Python",
   "language": "python3",
   "name": "python3"
  },
  "title": "Pandas"
 },
 "nbformat": 4,
 "nbformat_minor": 5
}