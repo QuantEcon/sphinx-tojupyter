{
 "cells": [
  {
   "cell_type": "markdown",
   "id": "d4ed8cac",
   "metadata": {},
   "source": [
    "# Ignore\n",
    "\n",
    "This contains a set of tests to see what elements are ignored"
   ]
  },
  {
   "cell_type": "markdown",
   "id": "0213000f",
   "metadata": {},
   "source": [
    "## Comments\n",
    "\n",
    "the following **comment** contains “COMMENT HERE” text and should be ignored\n",
    "\n",
    "and here is some text after it"
   ]
  }
 ],
 "metadata": {
  "date": 1679270225.391846,
  "filename": "ignore.rst",
  "kernelspec": {
   "display_name": "Python",
   "language": "python3",
   "name": "python3"
  },
  "title": "Ignore"
 },
 "nbformat": 4,
 "nbformat_minor": 5
}