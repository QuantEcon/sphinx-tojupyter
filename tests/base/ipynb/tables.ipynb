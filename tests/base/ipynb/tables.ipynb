{
 "cells": [
  {
   "cell_type": "markdown",
   "id": "ac299758",
   "metadata": {},
   "source": [
    "# Table\n",
    "\n",
    "These tables are from the [RST specification](http://docutils.sourceforge.net/docs/ref/rst/restructuredtext.html#grid-tables):"
   ]
  },
  {
   "cell_type": "markdown",
   "id": "f06b1192",
   "metadata": {},
   "source": [
    "## Grid Tables\n",
    "\n",
    "A simple rst table with header\n",
    "\n",
    "|C1|C2|\n",
    "|:----:|:----:|\n",
    "|a|b|\n",
    "|c|d|\n",
    "**Note:** Tables without a header are currently not supported as markdown does\n",
    "not support tables without headers."
   ]
  },
  {
   "cell_type": "markdown",
   "id": "690eb6aa",
   "metadata": {},
   "source": [
    "## Simple Tables\n",
    "\n",
    "|A|B|A and B|\n",
    "|:---:|:---:|:-----:|\n",
    "|False|False|False|\n",
    "|True|False|False|\n",
    "|False|True|False|\n",
    "|True|True|True|"
   ]
  },
  {
   "cell_type": "markdown",
   "id": "22a14b23",
   "metadata": {},
   "source": [
    "## Directive Table Types\n",
    "\n",
    "These table types are provided by [sphinx docs](http://www.sphinx-doc.org/en/master/rest.html#directives)"
   ]
  },
  {
   "cell_type": "markdown",
   "id": "081bc3e1",
   "metadata": {},
   "source": [
    "### List Table directive"
   ]
  },
  {
   "cell_type": "markdown",
   "id": "e1da241f",
   "metadata": {},
   "source": [
    "### Frozen Delights!\n",
    "|Treat|Quantity|Description|\n",
    "|:-------------:|:--------:|:----------------------------:|\n",
    "|Albatross|2.99|On a stick!|\n",
    "|Crunchy Frog|1.49|If we took the bones out, it wouldn’t be crunchy, now would it?|\n",
    "|Gannet Ripple|1.99|On a stick!|"
   ]
  },
  {
   "cell_type": "markdown",
   "id": "e7eb2c5f",
   "metadata": {},
   "source": [
    "### CSV Table Directive"
   ]
  },
  {
   "cell_type": "markdown",
   "id": "20d3f06e",
   "metadata": {},
   "source": [
    "### Frozen Delights!\n",
    "|Treat|Quantity|Description|\n",
    "|:-------------:|:--------:|:----------------------------:|\n",
    "|Albatross|2.99|On a stick!|\n",
    "|Crunchy Frog|1.49|If we took the bones out, it wouldn’t be crunchy, now would it?|\n",
    "|Gannet Ripple|1.99|On a stick!|"
   ]
  },
  {
   "cell_type": "markdown",
   "id": "e692da41",
   "metadata": {},
   "source": [
    "## Complex Tables\n",
    "\n",
    "**MultiColumn and MultiRow** tables are currently **not** supported by this extension"
   ]
  }
 ],
 "metadata": {
  "date": 1634527608.29666,
  "filename": "tables.rst",
  "kernelspec": {
   "display_name": "Python",
   "language": "python3",
   "name": "python3"
  },
  "title": "Table"
 },
 "nbformat": 4,
 "nbformat_minor": 5
}