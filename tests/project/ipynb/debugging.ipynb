{
 "cells": [
  {
   "cell_type": "markdown",
   "id": "1fe4c44b",
   "metadata": {},
   "source": [
    "\n",
    "<a id='debugging'></a>\n",
    "<div id=\"qe-notebook-header\" align=\"right\" style=\"text-align:right;\">\n",
    "        <a href=\"https://quantecon.org/\" title=\"quantecon.org\">\n",
    "                <img style=\"width:250px;display:inline;\" width=\"250px\" src=\"https://assets.quantecon.org/img/qe-menubar-logo.svg\" alt=\"QuantEcon\">\n",
    "        </a>\n",
    "</div>"
   ]
  },
  {
   "cell_type": "markdown",
   "id": "e8015df2",
   "metadata": {},
   "source": [
    "# Debugging\n",
    "\n",
    "\n",
    "<a id='index-0'></a>"
   ]
  },
  {
   "cell_type": "markdown",
   "id": "7e836195",
   "metadata": {},
   "source": [
    "## Contents\n",
    "\n",
    "- [Debugging](#Debugging)  \n",
    "  - [Overview](#Overview)  \n",
    "  - [Debugging](#Debugging)  \n",
    "  - [Other Useful Magics](#Other-Useful-Magics)  "
   ]
  },
  {
   "cell_type": "markdown",
   "id": "8840484b",
   "metadata": {},
   "source": [
    "> “Debugging is twice as hard as writing the code in the first place.\n",
    "> Therefore, if you write the code as cleverly as possible, you are, by definition,\n",
    "> not smart enough to debug it.” – Brian Kernighan"
   ]
  },
  {
   "cell_type": "markdown",
   "id": "5d578b67",
   "metadata": {},
   "source": [
    "## Overview\n",
    "\n",
    "Are you one of those programmers who fills their code with `print` statements when trying to debug their programs?\n",
    "\n",
    "Hey, we all used to do that.\n",
    "\n",
    "(OK, sometimes we still do that…)\n",
    "\n",
    "But once you start writing larger programs you’ll need a better system.\n",
    "\n",
    "Debugging tools for Python vary across platforms, IDEs and editors.\n",
    "\n",
    "Here we’ll focus on Jupyter and leave you to explore other settings.\n",
    "\n",
    "We’ll need the following imports"
   ]
  },
  {
   "cell_type": "code",
   "execution_count": null,
   "id": "ed52974f",
   "metadata": {
    "hide-output": false
   },
   "outputs": [],
   "source": [
    "%matplotlib inline\n",
    "import numpy as np\n",
    "import matplotlib.pyplot as plt\n",
    "plt.rcParams['figure.figsize'] = (10,6)"
   ]
  },
  {
   "cell_type": "markdown",
   "id": "6c9512d9",
   "metadata": {},
   "source": [
    "## Debugging\n",
    "\n",
    "\n",
    "<a id='index-1'></a>"
   ]
  },
  {
   "cell_type": "markdown",
   "id": "55072915",
   "metadata": {},
   "source": [
    "### The `debug` Magic\n",
    "\n",
    "Let’s consider a simple (and rather contrived) example"
   ]
  },
  {
   "cell_type": "code",
   "execution_count": null,
   "id": "f6671e60",
   "metadata": {
    "hide-output": false
   },
   "outputs": [],
   "source": [
    "def plot_log():\n",
    "    fig, ax = plt.subplots(2, 1)\n",
    "    x = np.linspace(1, 2, 10)\n",
    "    ax.plot(x, np.log(x))\n",
    "    plt.show()\n",
    "\n",
    "plot_log()  # Call the function, generate plot"
   ]
  },
  {
   "cell_type": "markdown",
   "id": "aa46d42f",
   "metadata": {},
   "source": [
    "This code is intended to plot the `log` function over the interval $ [1, 2] $.\n",
    "\n",
    "But there’s an error here: `plt.subplots(2, 1)` should be just `plt.subplots()`.\n",
    "\n",
    "(The call `plt.subplots(2, 1)` returns a NumPy array containing two axes objects, suitable for having two subplots on the same figure)\n",
    "\n",
    "The traceback shows that the error occurs at the method call `ax.plot(x, np.log(x))`.\n",
    "\n",
    "The error occurs because we have mistakenly made `ax` a NumPy array, and a NumPy array has no `plot` method.\n",
    "\n",
    "But let’s pretend that we don’t understand this for the moment.\n",
    "\n",
    "We might suspect there’s something wrong with `ax` but when we try to investigate this object, we get the following exception:"
   ]
  },
  {
   "cell_type": "code",
   "execution_count": null,
   "id": "f0174c65",
   "metadata": {
    "hide-output": false
   },
   "outputs": [],
   "source": [
    "ax"
   ]
  },
  {
   "cell_type": "markdown",
   "id": "959c4967",
   "metadata": {},
   "source": [
    "The problem is that `ax` was defined inside `plot_log()`, and the name is\n",
    "lost once that function terminates.\n",
    "\n",
    "Let’s try doing it a different way.\n",
    "\n",
    "We run the first cell block again, generating the same error"
   ]
  },
  {
   "cell_type": "code",
   "execution_count": null,
   "id": "1b984647",
   "metadata": {
    "hide-output": false
   },
   "outputs": [],
   "source": [
    "def plot_log():\n",
    "    fig, ax = plt.subplots(2, 1)\n",
    "    x = np.linspace(1, 2, 10)\n",
    "    ax.plot(x, np.log(x))\n",
    "    plt.show()\n",
    "\n",
    "plot_log()  # Call the function, generate plot"
   ]
  },
  {
   "cell_type": "markdown",
   "id": "785f78e0",
   "metadata": {},
   "source": [
    "But this time we type in the following cell block"
   ]
  },
  {
   "cell_type": "markdown",
   "id": "f7ed360f",
   "metadata": {
    "hide-output": false
   },
   "source": [
    "```ipython\n",
    "%debug\n",
    "```\n"
   ]
  },
  {
   "cell_type": "markdown",
   "id": "c141dcf6",
   "metadata": {},
   "source": [
    "You should be dropped into a new prompt that looks something like this"
   ]
  },
  {
   "cell_type": "markdown",
   "id": "f202e02a",
   "metadata": {
    "hide-output": false
   },
   "source": [
    "```ipython\n",
    "ipdb>\n",
    "```\n"
   ]
  },
  {
   "cell_type": "markdown",
   "id": "5d4f2cf5",
   "metadata": {},
   "source": [
    "(You might see pdb> instead)\n",
    "\n",
    "Now we can investigate the value of our variables at this point in the program, step forward through the code, etc.\n",
    "\n",
    "For example, here we simply type the name `ax` to see what’s happening with\n",
    "this object:"
   ]
  },
  {
   "cell_type": "markdown",
   "id": "97e54f8c",
   "metadata": {
    "hide-output": false
   },
   "source": [
    "```ipython\n",
    "ipdb> ax\n",
    "array([<matplotlib.axes.AxesSubplot object at 0x290f5d0>,\n",
    "       <matplotlib.axes.AxesSubplot object at 0x2930810>], dtype=object)\n",
    "```\n"
   ]
  },
  {
   "cell_type": "markdown",
   "id": "f23600ca",
   "metadata": {},
   "source": [
    "It’s now very clear that `ax` is an array, which clarifies the source of the\n",
    "problem.\n",
    "\n",
    "To find out what else you can do from inside `ipdb` (or `pdb`), use the\n",
    "online help"
   ]
  },
  {
   "cell_type": "markdown",
   "id": "b2661e4c",
   "metadata": {
    "hide-output": false
   },
   "source": [
    "```ipython\n",
    "ipdb> h\n",
    "\n",
    "Documented commands (type help <topic>):\n",
    "========================================\n",
    "EOF    bt         cont      enable  jump  pdef   r        tbreak   w\n",
    "a      c          continue  exit    l     pdoc   restart  u        whatis\n",
    "alias  cl         d         h       list  pinfo  return   unalias  where\n",
    "args   clear      debug     help    n     pp     run      unt\n",
    "b      commands   disable   ignore  next  q      s        until\n",
    "break  condition  down      j       p     quit   step     up\n",
    "\n",
    "Miscellaneous help topics:\n",
    "==========================\n",
    "exec  pdb\n",
    "\n",
    "Undocumented commands:\n",
    "======================\n",
    "retval  rv\n",
    "\n",
    "ipdb> h c\n",
    "c(ont(inue))\n",
    "Continue execution, only stop when a breakpoint is encountered.\n",
    "```\n"
   ]
  },
  {
   "cell_type": "markdown",
   "id": "9d925b60",
   "metadata": {},
   "source": [
    "### Setting a Break Point\n",
    "\n",
    "The preceding approach is handy but sometimes insufficient.\n",
    "\n",
    "Consider the following modified version of our function above"
   ]
  },
  {
   "cell_type": "code",
   "execution_count": null,
   "id": "c807481c",
   "metadata": {
    "hide-output": false
   },
   "outputs": [],
   "source": [
    "def plot_log():\n",
    "    fig, ax = plt.subplots()\n",
    "    x = np.logspace(1, 2, 10)\n",
    "    ax.plot(x, np.log(x))\n",
    "    plt.show()\n",
    "\n",
    "plot_log()"
   ]
  },
  {
   "cell_type": "markdown",
   "id": "7aea700a",
   "metadata": {},
   "source": [
    "Here the original problem is fixed, but we’ve accidentally written\n",
    "`np.logspace(1, 2, 10)` instead of `np.linspace(1, 2, 10)`.\n",
    "\n",
    "Now there won’t be any exception, but the plot won’t look right.\n",
    "\n",
    "To investigate, it would be helpful if we could inspect variables like `x` during execution of the function.\n",
    "\n",
    "To this end, we add a “break point” by inserting  `breakpoint()` inside the function code block"
   ]
  },
  {
   "cell_type": "markdown",
   "id": "48de2c1e",
   "metadata": {
    "hide-output": false
   },
   "source": [
    "```python3\n",
    "def plot_log():\n",
    "    breakpoint()\n",
    "    fig, ax = plt.subplots()\n",
    "    x = np.logspace(1, 2, 10)\n",
    "    ax.plot(x, np.log(x))\n",
    "    plt.show()\n",
    "\n",
    "plot_log()\n",
    "```\n"
   ]
  },
  {
   "cell_type": "markdown",
   "id": "5c76f657",
   "metadata": {},
   "source": [
    "Now let’s run the script, and investigate via the debugger"
   ]
  },
  {
   "cell_type": "markdown",
   "id": "053507b8",
   "metadata": {
    "hide-output": false
   },
   "source": [
    "```ipython\n",
    "> <ipython-input-6-a188074383b7>(6)plot_log()\n",
    "-> fig, ax = plt.subplots()\n",
    "(Pdb) n\n",
    "> <ipython-input-6-a188074383b7>(7)plot_log()\n",
    "-> x = np.logspace(1, 2, 10)\n",
    "(Pdb) n\n",
    "> <ipython-input-6-a188074383b7>(8)plot_log()\n",
    "-> ax.plot(x, np.log(x))\n",
    "(Pdb) x\n",
    "array([ 10.        ,  12.91549665,  16.68100537,  21.5443469 ,\n",
    "        27.82559402,  35.93813664,  46.41588834,  59.94842503,\n",
    "        77.42636827, 100.        ])\n",
    "```\n"
   ]
  },
  {
   "cell_type": "markdown",
   "id": "028c2e95",
   "metadata": {},
   "source": [
    "We used `n` twice to step forward through the code (one line at a time).\n",
    "\n",
    "Then we printed the value of `x` to see what was happening with that variable.\n",
    "\n",
    "To exit from the debugger, use `q`."
   ]
  },
  {
   "cell_type": "markdown",
   "id": "d8bbb6ed",
   "metadata": {},
   "source": [
    "## Other Useful Magics\n",
    "\n",
    "In this lecture, we used the `%debug` IPython magic.\n",
    "\n",
    "There are many other useful magics:\n",
    "\n",
    "- `%precision 4` sets printed precision for floats to 4 decimal places  \n",
    "- `%whos` gives a list of variables and their values  \n",
    "- `%quickref` gives a list of magics  \n",
    "\n",
    "\n",
    "The full list of magics is [here](http://ipython.readthedocs.org/en/stable/interactive/magics.html)."
   ]
  }
 ],
 "metadata": {
  "date": 1634524909.953559,
  "filename": "debugging.md",
  "kernelspec": {
   "display_name": "Python",
   "language": "python3",
   "name": "python3"
  },
  "title": "Debugging"
 },
 "nbformat": 4,
 "nbformat_minor": 5
}