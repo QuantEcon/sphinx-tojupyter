{
 "cells": [
  {
   "cell_type": "markdown",
   "metadata": {},
   "source": [
    "(builders)=\n",
    "# Builders\n",
    "\n",
    "This extension has the following Builders\n",
    "\n",
    "## jupyter\n",
    "\n",
    "This builder currently handles jupyter, html, and coverage output\n",
    "\n",
    "```{code-block} bash\n",
    "@$(SPHINXBUILD) -M jupyter \"$(SOURCEDIR)\" \"$(BUILDCOVERAGE)\" $(FILES) $(SPHINXOPTS) $(O)\n",
    "```\n",
    "\n",
    "```{warning}\n",
    "If your project needs to build jupyter and html then configuration for html\n",
    "and coverage is currently handled through Makefile overrides.\n",
    "The project is working on separate builders for html and coverage\n",
    "```\n",
    "\n",
    "Example Configuration for HTML production\n",
    "\n",
    "```{code-block} bash\n",
    "@$(SPHINXBUILD) -M jupyter \"$(SOURCEDIR)\" \"$(BUILDWEBSITE)\" $(FILES) $(SPHINXOPTS) $(O) -D jupyter_make_site=1 -D jupyter_generate_html=1 -D jupyter_download_nb=1 -D jupyter_execute_notebooks=1 -D jupyter_target_html=1 -D jupyter_download_nb_image_urlpath=\"https://s3-ap-southeast-2.amazonaws.com/lectures.quantecon.org/py/_static/\" -D jupyter_images_markdown=0 -D jupyter_html_template=\"python-html.tpl\" -D jupyter_download_nb_urlpath=\"https://lectures.quantecon.org/\" -D jupyter_coverage_dir=$(BUILDCOVERAGE)\n",
    "```\n",
    "\n",
    "## jupyterpdf\n",
    "\n",
    "This builder handles production of pdf\n",
    "\n",
    "```{code-block} bash\n",
    "@$(SPHINXBUILD) -M jupyterpdf \"$(SOURCEDIR)\" \"$(BUILDCOVERAGE)\" $(FILES) $(SPHINXOPTS) $(O)\n",
    "```"
   ]
  }
 ],
 "metadata": {
  "jupytext": {
   "text_representation": {
    "extension": ".md",
    "format_name": "myst"
   }
  },
  "kernelspec": {
   "display_name": "Python 3",
   "language": "python",
   "name": "python3"
  },
  "language_info": {
   "codemirror_mode": {
    "name": "ipython",
    "version": 3
   },
   "file_extension": ".py",
   "mimetype": "text/x-python",
   "name": "python",
   "nbconvert_exporter": "python",
   "pygments_lexer": "ipython3",
   "version": "3.8.3"
  },
  "source_map": [
   10
  ]
 },
 "nbformat": 4,
 "nbformat_minor": 4
}