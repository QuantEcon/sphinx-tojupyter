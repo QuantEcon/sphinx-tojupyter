{
 "cells": [
  {
   "cell_type": "markdown",
   "metadata": {},
   "source": [
    "(config_extension_execution)=\n",
    "# Executing Notebooks\n",
    "\n",
    "## jupyter_execute_nb\n",
    "\n",
    "Enables the execution of generated notebooks\n",
    "\n",
    "\n",
    "\n",
    "\n",
    "\n",
    "\n",
    "\n",
    "|Values|\n",
    "|:--------------------------------------------------------------------------------------------------:|\n",
    "|False (|**|default|**|)|\n",
    "|True|\n",
    "\n",
    "```{todo}\n",
    "## Todo\n",
    "\n",
    "deprecate this option in favour of jupyter_execute_notebooks\n",
    "\n",
    "```\n",
    "\n",
    "## jupyter_execute_notebooks\n",
    "\n",
    "Enables the execution of generated notebooks\n",
    "\n",
    "\n",
    "\n",
    "\n",
    "\n",
    "\n",
    "\n",
    "|Values|\n",
    "|:--------------------------------------------------------------------------------------------------:|\n",
    "|False (|**|default|**|)|\n",
    "|True|\n",
    "\n",
    "`conf.py` usage:"
   ]
  },
  {
   "cell_type": "code",
   "execution_count": 1,
   "metadata": {},
   "outputs": [],
   "source": [
    "jupyter_execute_notebooks = True"
   ]
  },
  {
   "cell_type": "markdown",
   "metadata": {},
   "source": [
    "## jupyter_dependency_lists\n",
    "\n",
    "Dependency of notebooks on other notebooks for execution can also\n",
    "be added to the configuration file above in the form of a dictionary.\n",
    "The key/value pairs will contain the names of the notebook files.\n",
    "\n",
    "`conf.py` usage:"
   ]
  },
  {
   "cell_type": "code",
   "execution_count": 2,
   "metadata": {},
   "outputs": [],
   "source": [
    "# add your dependency lists here\n",
    "jupyter_dependency_lists = {\n",
    "   'python_advanced_features' : ['python_essentials','python_oop'],\n",
    "   'discrete_dp' : ['dp_essentials'],\n",
    "}"
   ]
  },
  {
   "cell_type": "markdown",
   "metadata": {},
   "source": [
    "## jupyter_dependencies\n",
    "\n",
    "Specify support (dependencies) for notebook collection at the file or\n",
    "the directory level.\n",
    "\n",
    "`conf.py` usage:"
   ]
  },
  {
   "cell_type": "code",
   "execution_count": 3,
   "metadata": {},
   "outputs": [
    {
     "ename": "SyntaxError",
     "evalue": "invalid syntax (<ipython-input-3-915bcf394523>, line 2)",
     "output_type": "error",
     "traceback": [
      "\u001b[0;36m  File \u001b[0;32m\"<ipython-input-3-915bcf394523>\"\u001b[0;36m, line \u001b[0;32m2\u001b[0m\n\u001b[0;31m    <dir> : ['file1', 'file2'],\u001b[0m\n\u001b[0m    ^\u001b[0m\n\u001b[0;31mSyntaxError\u001b[0m\u001b[0;31m:\u001b[0m invalid syntax\n"
     ]
    }
   ],
   "source": [
    "jupyter_dependencies = {\n",
    "    <dir> : ['file1', 'file2'],\n",
    "    {<dir>}/<file.rst> : ['file1']\n",
    "}"
   ]
  },
  {
   "cell_type": "markdown",
   "metadata": {},
   "source": [
    "```{note}\n",
    "to specify a support file at the root level of the source directory\n",
    "the key should be \"\"\n",
    "```\n",
    "\n",
    "## jupyter_number_workers\n",
    "\n",
    "Specify the number cores to use with dask\n",
    "\n",
    "\n",
    "\n",
    "\n",
    "\n",
    "|Values|\n",
    "|:--------------------------------------------------------------------------------------------------:|\n",
    "|Integer (|**|default|**| = 1)|\n",
    "\n",
    "`conf.py` usage:\n",
    "\n",
    "> jupyter_number_workers = 4\n",
    "\n",
    "## jupyter_threads_per_worker\n",
    "\n",
    "Specify the number of threads per worker for dask\n",
    "\n",
    "\n",
    "\n",
    "\n",
    "\n",
    "|Values|\n",
    "|:--------------------------------------------------------------------------------------------------:|\n",
    "|Integer (|**|default|**| = 1)|\n",
    "\n",
    "`conf.py` usage:\n",
    "\n",
    "> jupyter_threads_per_worker = 1"
   ]
  }
 ],
 "metadata": {
  "jupytext": {
   "text_representation": {
    "extension": ".md",
    "format_name": "myst"
   }
  },
  "kernelspec": {
   "display_name": "Python 3",
   "language": "python",
   "name": "python3"
  },
  "language_info": {
   "codemirror_mode": {
    "name": "ipython",
    "version": 3
   },
   "file_extension": ".py",
   "mimetype": "text/x-python",
   "name": "python",
   "nbconvert_exporter": "python",
   "pygments_lexer": "ipython3",
   "version": "3.8.3"
  },
  "source_map": [
   10,
   54,
   56,
   66,
   72,
   81,
   86
  ]
 },
 "nbformat": 4,
 "nbformat_minor": 4
}