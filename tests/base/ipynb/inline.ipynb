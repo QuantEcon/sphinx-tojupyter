{
 "cells": [
  {
   "cell_type": "markdown",
   "id": "b0df5c99",
   "metadata": {},
   "source": [
    "# Inline\n",
    "\n",
    "A test suite for inline items"
   ]
  },
  {
   "cell_type": "markdown",
   "id": "02e7e4eb",
   "metadata": {},
   "source": [
    "## Code\n",
    "\n",
    "Here is some inline python `import numpy as np` that should be displayed\n",
    "\n",
    "and some text that is not code `here`"
   ]
  },
  {
   "cell_type": "markdown",
   "id": "5baf1651",
   "metadata": {},
   "source": [
    "## Math\n",
    "\n",
    "Inline maths with inline role: $ x^3+\\frac{1+\\sqrt{2}}{\\pi} $\n",
    "\n",
    "Inline maths using dollar signs (not supported yet): \\$x^3+frac{1+sqrt{2}}{pi}\\$ as the\n",
    "backslashes are removed."
   ]
  }
 ],
 "metadata": {
  "date": 1679270225.399988,
  "filename": "inline.rst",
  "kernelspec": {
   "display_name": "Python",
   "language": "python3",
   "name": "python3"
  },
  "title": "Inline"
 },
 "nbformat": 4,
 "nbformat_minor": 5
}