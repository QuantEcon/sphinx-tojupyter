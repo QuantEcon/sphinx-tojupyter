{
 "cells": [
  {
   "cell_type": "markdown",
   "metadata": {},
   "source": [
    "# Images\n",
    "\n",
    "Collection of tests for **.. image::** and **.. figure::** directives"
   ]
  },
  {
   "cell_type": "markdown",
   "metadata": {},
   "source": [
    "## Image\n",
    "\n",
    "[Docutils Reference](http://docutils.sourceforge.net/docs/ref/rst/directives.html#images)\n",
    "\n",
    "Most basic image directive\n",
    "\n",
    "![_static/hood.jpg](_static/hood.jpg)\n",
    "\n",
    "A scaled down version with 25 % width\n",
    "\n",
    "![_static/hood.jpg](_static/hood.jpg)\n",
    "\n",
    "A height of 50px\n",
    "\n",
    "![_static/hood.jpg](_static/hood.jpg)\n",
    "\n",
    "Including *alt*\n",
    "\n",
    "![_static/hood.jpg](_static/hood.jpg)\n",
    "\n",
    "An image with a *right* alignment\n",
    "\n",
    "![_static/hood.jpg](_static/hood.jpg)\n",
    "\n",
    "An image with a *left* alignment\n",
    "\n",
    "![_static/hood.jpg](_static/hood.jpg)"
   ]
  },
  {
   "cell_type": "markdown",
   "metadata": {},
   "source": [
    "## Figure\n",
    "\n",
    "[Docutils Reference](http://docutils.sourceforge.net/docs/ref/rst/directives.html#figure)\n",
    "\n",
    "Testing the **.. figure::** directive\n",
    "\n",
    "![_static/hood.jpg](_static/hood.jpg)"
   ]
  }
 ],
 "metadata": {
  "date": 1605573979.5460742,
  "filename": "images.rst",
  "kernelspec": {
   "display_name": "Python",
   "language": "python3",
   "name": "python3"
  },
  "title": "Images"
 },
 "nbformat": 4,
 "nbformat_minor": 4
}