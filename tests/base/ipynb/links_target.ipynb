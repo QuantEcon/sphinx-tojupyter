{
 "cells": [
  {
   "cell_type": "markdown",
   "id": "fe6fc0ce",
   "metadata": {},
   "source": [
    "\n",
    "<a id='links-target'></a>"
   ]
  },
  {
   "cell_type": "markdown",
   "id": "c60c9646",
   "metadata": {},
   "source": [
    "# Links Target\n",
    "\n",
    "This is a simple file that is linked to by [links.rst](links.ipynb#links)"
   ]
  }
 ],
 "metadata": {
  "date": 1679270225.405887,
  "filename": "links_target.rst",
  "kernelspec": {
   "display_name": "Python",
   "language": "python3",
   "name": "python3"
  },
  "title": "Links Target"
 },
 "nbformat": 4,
 "nbformat_minor": 5
}