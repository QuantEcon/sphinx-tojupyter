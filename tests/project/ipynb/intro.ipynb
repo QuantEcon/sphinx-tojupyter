{
 "cells": [
  {
   "cell_type": "markdown",
   "id": "ead0621d",
   "metadata": {},
   "source": [
    "# Python Programming for Economics and Finance\n",
    "\n",
    "This website presents a set of lectures on Python programming for economics and finance. This is the first text in the series, which focuses on programming in Python.\n",
    "\n",
    "For an overview of the series, see [this page](https://quantecon.org/python-lectures/)"
   ]
  },
  {
   "cell_type": "markdown",
   "id": "349dacc8",
   "metadata": {},
   "source": [
    "# Introduction to Python\n",
    "\n",
    "- [About These Lectures](about_py.ipynb)\n",
    "- [Getting Started](getting_started.ipynb)\n",
    "- [An Introductory Example](python_by_example.ipynb)\n",
    "- [Functions](functions.ipynb)\n",
    "- [Python Essentials](python_essentials.ipynb)\n",
    "- [OOP I: Objects and Methods](oop_intro.ipynb)\n",
    "- [Names and Namespaces](names.ipynb)\n",
    "- [OOP II: Building Classes](python_oop.ipynb)\n",
    "- [Writing Longer Programs](workspace.ipynb)"
   ]
  },
  {
   "cell_type": "markdown",
   "id": "2b1dd1d4",
   "metadata": {},
   "source": [
    "# The Scientific Libraries\n",
    "\n",
    "- [Python for Scientific Computing](need_for_speed.ipynb)\n",
    "- [NumPy](numpy.ipynb)\n",
    "- [Matplotlib](matplotlib.ipynb)\n",
    "- [SciPy](scipy.ipynb)\n",
    "- [Pandas](pandas.ipynb)\n",
    "- [Pandas for Panel Data](pandas_panel.ipynb)\n",
    "- [SymPy](sympy.ipynb)"
   ]
  },
  {
   "cell_type": "markdown",
   "id": "03cb216d",
   "metadata": {},
   "source": [
    "# High Performance Computing\n",
    "\n",
    "- [Numba](numba.ipynb)\n",
    "- [Parallelization](parallelization.ipynb)\n",
    "- [JAX](jax_intro.ipynb)"
   ]
  },
  {
   "cell_type": "markdown",
   "id": "1f66ea76",
   "metadata": {},
   "source": [
    "# Advanced Python Programming\n",
    "\n",
    "- [Writing Good Code](writing_good_code.ipynb)\n",
    "- [More Language Features](python_advanced_features.ipynb)\n",
    "- [Debugging and Handling Errors](debugging.ipynb)"
   ]
  },
  {
   "cell_type": "markdown",
   "id": "9407e9d2",
   "metadata": {},
   "source": [
    "# Other\n",
    "\n",
    "- [Troubleshooting](troubleshooting.ipynb)\n",
    "- [Execution Statistics](status.ipynb)"
   ]
  }
 ],
 "metadata": {
  "date": 1753420494.0501618,
  "filename": "intro.md",
  "kernelspec": {
   "display_name": "Python",
   "language": "python3",
   "name": "python3"
  },
  "title": "Python Programming for Economics and Finance"
 },
 "nbformat": 4,
 "nbformat_minor": 5
}