{
 "cells": [
  {
   "cell_type": "markdown",
   "metadata": {},
   "source": [
    "(coverage_extension_coverage)=\n",
    "# Computing Coverage Statistics\n",
    "\n",
    "```{warning}\n",
    "`make coverage` will currently produce a `json` report\n",
    "that can be used to support an execution status page. But adding\n",
    "badges and a status page needs to be made into an option and\n",
    "specified via the default theme.\n",
    "See [#237](https://github.com/QuantEcon/sphinx-tojupyter/issues/237)\n",
    "```\n",
    "\n",
    "## jupyter_make_coverage\n",
    "\n",
    "Enable coverage statistics to be computed\n",
    "\n",
    "\n",
    "\n",
    "\n",
    "\n",
    "\n",
    "\n",
    "|Values|\n",
    "|:--------------------------------------------------------------------------------------------------:|\n",
    "|False (|**|default|**|)|\n",
    "|True|\n",
    "\n",
    "## jupyter_template_coverage_file_path\n",
    "\n",
    "Provide path to template coverage file\n",
    "\n",
    "```{todo}\n",
    "## Todo\n",
    "\n",
    "Document format for template\n",
    "\n",
    "```\n",
    "\n",
    "`conf.py` usage:"
   ]
  },
  {
   "cell_type": "code",
   "execution_count": 1,
   "metadata": {},
   "outputs": [],
   "source": [
    "jupyter_template_coverage_file_path = \"theme/templates/<file>.json\""
   ]
  }
 ],
 "metadata": {
  "jupytext": {
   "text_representation": {
    "extension": ".md",
    "format_name": "myst"
   }
  },
  "kernelspec": {
   "display_name": "Python 3",
   "language": "python",
   "name": "python3"
  },
  "language_info": {
   "codemirror_mode": {
    "name": "ipython",
    "version": 3
   },
   "file_extension": ".py",
   "mimetype": "text/x-python",
   "name": "python",
   "nbconvert_exporter": "python",
   "pygments_lexer": "ipython3",
   "version": "3.8.3"
  },
  "source_map": [
   10,
   51
  ]
 },
 "nbformat": 4,
 "nbformat_minor": 4
}