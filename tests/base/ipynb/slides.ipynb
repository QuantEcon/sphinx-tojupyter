{
 "cells": [
  {
   "cell_type": "markdown",
   "id": "5b2f0685",
   "metadata": {
    "slideshow": {
     "slide_type": "slide"
    }
   },
   "source": [
    "# Slide option activated\n",
    "\n",
    "This is a collection of different types of cells where the toolbar: Slideshow has been activated"
   ]
  },
  {
   "cell_type": "markdown",
   "id": "456a03ef",
   "metadata": {
    "slideshow": {
     "slide_type": "subslide"
    }
   },
   "source": [
    "The idea is that eventually we will assign a type (*slide*, *subslide*, *skip*, *note*) for each one. We used our **jupyter** directive  to break the markdown cell into two different cells."
   ]
  },
  {
   "cell_type": "code",
   "execution_count": null,
   "id": "bf25c35f",
   "metadata": {
    "hide-output": false,
    "slideshow": {
     "slide_type": "slide"
    }
   },
   "outputs": [],
   "source": [
    "import numpy as np\n",
    "\n",
    "x = np.linspace(0, 1, 5)\n",
    "y = np.sin(4 * np.pi * x) * np.exp(-5 * x)\n",
    "\n",
    "print(y)"
   ]
  },
  {
   "cell_type": "code",
   "execution_count": null,
   "id": "3b9b4b75",
   "metadata": {
    "hide-output": false,
    "slideshow": {
     "slide_type": "slide"
    }
   },
   "outputs": [],
   "source": [
    "import numpy as np\n",
    "\n",
    "z = np.cos(3 * np.pi * x) * np.exp(-2 * x)\n",
    "w = z*y\n",
    "\n",
    "print(w)"
   ]
  },
  {
   "cell_type": "markdown",
   "id": "c4c3338e",
   "metadata": {
    "slideshow": {
     "slide_type": "slide"
    }
   },
   "source": [
    "## Math\n",
    "\n",
    "The previous function was\n",
    "\n",
    "$$\n",
    "f(x)=\\sin(4\\pi x)\\cos(4\\pi x)e^{-7x}\n",
    "$$"
   ]
  },
  {
   "cell_type": "markdown",
   "id": "ab82d00b",
   "metadata": {
    "slideshow": {
     "slide_type": "fragment"
    }
   },
   "source": [
    "We can also include the figures from some folder\n",
    "\n",
    "![_static/hood.jpg](_static/hood.jpg)"
   ]
  },
  {
   "cell_type": "markdown",
   "id": "5f5a12b7",
   "metadata": {
    "slideshow": {
     "slide_type": "slide"
    }
   },
   "source": [
    "## Slide: Should have 2 code blocks as fragments (test)"
   ]
  },
  {
   "cell_type": "code",
   "execution_count": null,
   "id": "7701a5bc",
   "metadata": {
    "hide-output": false,
    "slideshow": {
     "slide_type": "fragment"
    }
   },
   "outputs": [],
   "source": [
    "# This code block should be a Fragment!\n",
    "fibonacci_functional = (lambda n, first=1, second=1:\n",
    "    [] if n == 0 else\n",
    "    [first] + fibonacci_functional(n - 1, second, first + second))"
   ]
  },
  {
   "cell_type": "code",
   "execution_count": null,
   "id": "14dc2971",
   "metadata": {
    "hide-output": false,
    "slideshow": {
     "slide_type": "fragment"
    }
   },
   "outputs": [],
   "source": [
    "for k in fibonacci_functional(10):print(k,end=' ')"
   ]
  }
 ],
 "metadata": {
  "celltoolbar": "Slideshow",
  "date": 1679270225.423786,
  "filename": "slides.rst",
  "kernelspec": {
   "display_name": "Python",
   "language": "python3",
   "name": "python3"
  },
  "title": "Slide option activated"
 },
 "nbformat": 4,
 "nbformat_minor": 5
}